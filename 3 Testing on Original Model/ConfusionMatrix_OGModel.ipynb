{
  "nbformat": 4,
  "nbformat_minor": 0,
  "metadata": {
    "colab": {
      "provenance": [],
      "gpuType": "T4",
      "include_colab_link": true
    },
    "kernelspec": {
      "name": "python3",
      "display_name": "Python 3"
    },
    "language_info": {
      "name": "python"
    },
    "accelerator": "GPU"
  },
  "cells": [
    {
      "cell_type": "markdown",
      "metadata": {
        "id": "view-in-github",
        "colab_type": "text"
      },
      "source": [
        "<a href=\"https://colab.research.google.com/github/lizjwh/groupIAI_5take2/blob/main/3%20Testing%20on%20Original%20Model/ConfusionMatrix_OGModel.ipynb\" target=\"_parent\"><img src=\"https://colab.research.google.com/assets/colab-badge.svg\" alt=\"Open In Colab\"/></a>"
      ]
    },
    {
      "cell_type": "markdown",
      "source": [
        "# Test script\n",
        "This notebook will test the OGmodel on the full and restricted mobility datasets.\n"
      ],
      "metadata": {
        "id": "r4UelXQ2AGzB"
      }
    },
    {
      "cell_type": "code",
      "source": [
        "#install torchvision and kaggle\n",
        "!pip install torchvision\n",
        "!pip install kaggle\n",
        "!pip install tqdm\n",
        "!pip install colorama"
      ],
      "metadata": {
        "colab": {
          "base_uri": "https://localhost:8080/"
        },
        "id": "ziWvctBTBkn8",
        "outputId": "dc6e5e99-d928-4262-9bb2-df3ac546298b"
      },
      "execution_count": null,
      "outputs": [
        {
          "output_type": "stream",
          "name": "stdout",
          "text": [
            "Requirement already satisfied: torchvision in /usr/local/lib/python3.10/dist-packages (0.16.0+cu121)\n",
            "Requirement already satisfied: numpy in /usr/local/lib/python3.10/dist-packages (from torchvision) (1.25.2)\n",
            "Requirement already satisfied: requests in /usr/local/lib/python3.10/dist-packages (from torchvision) (2.31.0)\n",
            "Requirement already satisfied: torch==2.1.0 in /usr/local/lib/python3.10/dist-packages (from torchvision) (2.1.0+cu121)\n",
            "Requirement already satisfied: pillow!=8.3.*,>=5.3.0 in /usr/local/lib/python3.10/dist-packages (from torchvision) (9.4.0)\n",
            "Requirement already satisfied: filelock in /usr/local/lib/python3.10/dist-packages (from torch==2.1.0->torchvision) (3.13.1)\n",
            "Requirement already satisfied: typing-extensions in /usr/local/lib/python3.10/dist-packages (from torch==2.1.0->torchvision) (4.10.0)\n",
            "Requirement already satisfied: sympy in /usr/local/lib/python3.10/dist-packages (from torch==2.1.0->torchvision) (1.12)\n",
            "Requirement already satisfied: networkx in /usr/local/lib/python3.10/dist-packages (from torch==2.1.0->torchvision) (3.2.1)\n",
            "Requirement already satisfied: jinja2 in /usr/local/lib/python3.10/dist-packages (from torch==2.1.0->torchvision) (3.1.3)\n",
            "Requirement already satisfied: fsspec in /usr/local/lib/python3.10/dist-packages (from torch==2.1.0->torchvision) (2023.6.0)\n",
            "Requirement already satisfied: triton==2.1.0 in /usr/local/lib/python3.10/dist-packages (from torch==2.1.0->torchvision) (2.1.0)\n",
            "Requirement already satisfied: charset-normalizer<4,>=2 in /usr/local/lib/python3.10/dist-packages (from requests->torchvision) (3.3.2)\n",
            "Requirement already satisfied: idna<4,>=2.5 in /usr/local/lib/python3.10/dist-packages (from requests->torchvision) (3.6)\n",
            "Requirement already satisfied: urllib3<3,>=1.21.1 in /usr/local/lib/python3.10/dist-packages (from requests->torchvision) (2.0.7)\n",
            "Requirement already satisfied: certifi>=2017.4.17 in /usr/local/lib/python3.10/dist-packages (from requests->torchvision) (2024.2.2)\n",
            "Requirement already satisfied: MarkupSafe>=2.0 in /usr/local/lib/python3.10/dist-packages (from jinja2->torch==2.1.0->torchvision) (2.1.5)\n",
            "Requirement already satisfied: mpmath>=0.19 in /usr/local/lib/python3.10/dist-packages (from sympy->torch==2.1.0->torchvision) (1.3.0)\n",
            "Requirement already satisfied: kaggle in /usr/local/lib/python3.10/dist-packages (1.5.16)\n",
            "Requirement already satisfied: six>=1.10 in /usr/local/lib/python3.10/dist-packages (from kaggle) (1.16.0)\n",
            "Requirement already satisfied: certifi in /usr/local/lib/python3.10/dist-packages (from kaggle) (2024.2.2)\n",
            "Requirement already satisfied: python-dateutil in /usr/local/lib/python3.10/dist-packages (from kaggle) (2.8.2)\n",
            "Requirement already satisfied: requests in /usr/local/lib/python3.10/dist-packages (from kaggle) (2.31.0)\n",
            "Requirement already satisfied: tqdm in /usr/local/lib/python3.10/dist-packages (from kaggle) (4.66.2)\n",
            "Requirement already satisfied: python-slugify in /usr/local/lib/python3.10/dist-packages (from kaggle) (8.0.4)\n",
            "Requirement already satisfied: urllib3 in /usr/local/lib/python3.10/dist-packages (from kaggle) (2.0.7)\n",
            "Requirement already satisfied: bleach in /usr/local/lib/python3.10/dist-packages (from kaggle) (6.1.0)\n",
            "Requirement already satisfied: webencodings in /usr/local/lib/python3.10/dist-packages (from bleach->kaggle) (0.5.1)\n",
            "Requirement already satisfied: text-unidecode>=1.3 in /usr/local/lib/python3.10/dist-packages (from python-slugify->kaggle) (1.3)\n",
            "Requirement already satisfied: charset-normalizer<4,>=2 in /usr/local/lib/python3.10/dist-packages (from requests->kaggle) (3.3.2)\n",
            "Requirement already satisfied: idna<4,>=2.5 in /usr/local/lib/python3.10/dist-packages (from requests->kaggle) (3.6)\n",
            "Requirement already satisfied: tqdm in /usr/local/lib/python3.10/dist-packages (4.66.2)\n",
            "Collecting colorama\n",
            "  Downloading colorama-0.4.6-py2.py3-none-any.whl (25 kB)\n",
            "Installing collected packages: colorama\n",
            "Successfully installed colorama-0.4.6\n"
          ]
        }
      ]
    },
    {
      "cell_type": "code",
      "source": [
        "#import  needed libraries and check the used gpu\n",
        "import torch\n",
        "from torch import nn, optim, tensor\n",
        "from torchvision import transforms, models ,datasets\n",
        "import numpy as np\n",
        "import cv2\n",
        "import matplotlib.pyplot as plt\n",
        "import glob\n",
        "from mpl_toolkits.axes_grid1 import ImageGrid\n",
        "from sklearn.metrics import precision_recall_curve\n",
        "from sklearn.metrics import auc"
      ],
      "metadata": {
        "id": "_tCw20tAIyhL"
      },
      "execution_count": null,
      "outputs": []
    },
    {
      "cell_type": "markdown",
      "source": [
        "# Import files, split them, and set up data loaders"
      ],
      "metadata": {
        "id": "osbyhlPfAd5C"
      }
    },
    {
      "cell_type": "code",
      "execution_count": null,
      "metadata": {
        "id": "E94VXYBt_8n_",
        "outputId": "53ea3e77-39cd-4518-afce-7a4fbbc712ff",
        "colab": {
          "base_uri": "https://localhost:8080/"
        }
      },
      "outputs": [
        {
          "output_type": "stream",
          "name": "stdout",
          "text": [
            "Downloading intro-to-ai.zip to /content\n",
            "100% 4.06G/4.08G [00:55<00:00, 123MB/s]\n",
            "100% 4.08G/4.08G [00:55<00:00, 78.2MB/s]\n"
          ]
        }
      ],
      "source": [
        "! export KAGGLE_USERNAME=\"emmet454\" && export KAGGLE_KEY=\"ee00fbc0728a71f5c5f712029e3ef004\" && kaggle datasets download --force --unzip emilyburt/intro-to-ai"
      ]
    },
    {
      "cell_type": "code",
      "source": [
        "input_folder = 'Dataset/Full Mobility/Left hand'\n",
        "\n",
        "#split with a ratio (train, val, test)\n",
        "splitfolders.ratio(input_folder, output='Full Mobility/Left hand/',\n",
        "                  seed=42, ratio=(.6, .2, .2),\n",
        "                  group_prefix=None)\n",
        "\n",
        "input_folder = 'Dataset/Full Mobility/Right hand'\n",
        "\n",
        "#split with a ratio\n",
        "splitfolders.ratio(input_folder, output='Full Mobility/Right hand/',\n",
        "                  seed=42, ratio=(.6, .2, .2),\n",
        "                  group_prefix=None)\n",
        "\n",
        "input_folder = 'Dataset/Restricted mobility/Left hand'\n",
        "\n",
        "#split with a ratio\n",
        "splitfolders.ratio(input_folder, output='Restricted Mobility/Left hand/',\n",
        "                  seed=42, ratio=(.6, .2, .2),\n",
        "                  group_prefix=None)\n",
        "\n",
        "input_folder = 'Dataset/Restricted mobility/Right hand'\n",
        "\n",
        "#split with a ratio\n",
        "splitfolders.ratio(input_folder, output='Restricted Mobility/Right hand/',\n",
        "                  seed=42, ratio=(.6, .2, .2),\n",
        "                  group_prefix=None)"
      ],
      "metadata": {
        "id": "wJFbnYq4rdbi"
      },
      "execution_count": null,
      "outputs": []
    },
    {
      "cell_type": "code",
      "source": [
        "def create_dataset(root_dir):\n",
        "    \"\"\"\n",
        "    Creates an ImageFolder dataset from the specified root directory.\n",
        "    \"\"\"\n",
        "    data_transforms = transforms.Compose([transforms.Resize((224, 224)),\n",
        "                                          transforms.ToTensor(),\n",
        "                                          transforms.RandomRotation(30),\n",
        "                                          transforms.RandomHorizontalFlip(p=0.3),\n",
        "                                          transforms.Normalize([0.485, 0.456, 0.406],\n",
        "                                                               [0.229, 0.224, 0.225])])\n",
        "    dataset = datasets.ImageFolder(root_dir, transform=data_transforms)\n",
        "    return dataset\n",
        "\n",
        "def combine_datasets(root_folders):\n",
        "    \"\"\"\n",
        "    Combines datasets from multiple root folders into one dataset.\n",
        "    \"\"\"\n",
        "    datasets = [create_dataset(folder) for folder in root_folders]\n",
        "    combined_dataset = ConcatDataset(datasets)\n",
        "\n",
        "    # Extract class-to-index mappings from individual datasets and merge them\n",
        "    class_to_idx = {}\n",
        "    for dataset in datasets:\n",
        "        class_to_idx.update(dataset.class_to_idx)\n",
        "\n",
        "    return combined_dataset, class_to_idx\n",
        "\n",
        "\n",
        "def main():\n",
        "  #choose which folders to include in test here\n",
        "    root_folders = ['/content/Restricted Mobility/Left hand/train',\n",
        "                    '/content/Restricted Mobility/Right hand/train',\n",
        "                    '/content/Full Mobility/Left hand/train',\n",
        "                    '/content/Full Mobility/Right hand/train']\n",
        "\n",
        "    combined_dataset, combined_dataset.class_to_idx = combine_datasets(root_folders)\n",
        "\n",
        "    print(f\"Class to index mapping: {combined_dataset.class_to_idx}\")\n",
        "    return combined_dataset\n",
        "\n",
        "def main_val():\n",
        "  #choose which folders to include in test here\n",
        "    root_folders = ['/content/Restricted Mobility/Left hand/val',\n",
        "                    '/content/Restricted Mobility/Right hand/val',\n",
        "                    '/content/Full Mobility/Left hand/val',\n",
        "                    '/content/Full Mobility/Right hand/val']\n",
        "\n",
        "    combined_dataset, combined_dataset.class_to_idx = combine_datasets(root_folders)\n",
        "\n",
        "    print(f\"Class to index mapping: {combined_dataset.class_to_idx}\")\n",
        "    return combined_dataset\n",
        "\n",
        "def main_test():\n",
        "  #choose which folders to include in test here\n",
        "    root_folders = ['/content/Restricted Mobility/Left hand/test',\n",
        "                    '/content/Restricted Mobility/Right hand/test',\n",
        "                    '/content/Full Mobility/Left hand/test',\n",
        "                    '/content/Full Mobility/Right hand/test']\n",
        "\n",
        "    combined_dataset, combined_dataset.class_to_idx = combine_datasets(root_folders)\n",
        "\n",
        "    print(f\"Class to index mapping: {combined_dataset.class_to_idx}\")\n",
        "    return combined_dataset\n",
        "\n",
        "combined_train_dataset = main()\n",
        "combined_val_dataset = main_val()\n",
        "combined_test_dataset = main_test()"
      ],
      "metadata": {
        "id": "2lQeSqGOreyv"
      },
      "execution_count": null,
      "outputs": []
    },
    {
      "cell_type": "code",
      "source": [
        "#create loaders\n",
        "train_loader = torch.utils.data.DataLoader(dataset=combined_train_dataset,\n",
        "                                           batch_size=50,\n",
        "                                           shuffle=True)\n",
        "\n",
        "val_loader = torch.utils.data.DataLoader(dataset=combined_val_dataset,\n",
        "                                          batch_size=50,\n",
        "                                          shuffle=False)\n",
        "\n",
        "test_loader = torch.utils.data.DataLoader(dataset=combined_test_dataset,\n",
        "                                          batch_size=32,\n",
        "                                          shuffle=False)"
      ],
      "metadata": {
        "id": "Pedmd4cSriEK"
      },
      "execution_count": null,
      "outputs": []
    },
    {
      "cell_type": "markdown",
      "source": [
        "#Set up the model with 29 classes (this block is copied from tutorial)"
      ],
      "metadata": {
        "id": "LV-wzQRNPWwg"
      }
    },
    {
      "cell_type": "code",
      "source": [
        "model = models.mobilenet_v2(pretrained=True)\n",
        "# Freeze parameters of the tarined network\n",
        "for param in model.parameters():\n",
        "    param.requires_grad = False\n",
        "# define new classifier and append it to network but remember to have a 29-neuron output layer for our two classes.\n",
        "model.classifier= nn.Sequential(nn.Dropout(p=0.6, inplace=False),\n",
        "                                nn.Linear(in_features=1280, out_features=29, bias=True),\n",
        "                                nn.LogSoftmax(dim=1))\n",
        "\n",
        "# unlock last three blocks before the classifier(last layer).\n",
        "for p in model.features[-3:].parameters():\n",
        "    p.requires_grad = True\n",
        "\n",
        "\n",
        "# choose your loss function\n",
        "criterion = nn.NLLLoss()\n",
        "\n",
        "# define optimizer to train only the classifier and the previous three block.\n",
        "optimizer = optim.Adam([{'params':model.features[-1].parameters()},\n",
        "                        {'params':model.features[-2].parameters()},\n",
        "                        {'params':model.features[-3].parameters()},\n",
        "                        {'params':model.classifier.parameters()}], lr=0.0005)\n",
        "\n",
        "# define Learning Rate scheduler to decrease the learning rate by multiplying it by 0.1 after each epoch on the data.\n",
        "scheduler = torch.optim.lr_scheduler.StepLR(optimizer, step_size=1, gamma=0.1)"
      ],
      "metadata": {
        "id": "5URjJBnCBOt7",
        "colab": {
          "base_uri": "https://localhost:8080/"
        },
        "outputId": "c987eb83-40d3-4db4-bfea-9206923e3c0c"
      },
      "execution_count": null,
      "outputs": [
        {
          "output_type": "stream",
          "name": "stderr",
          "text": [
            "/usr/local/lib/python3.10/dist-packages/torchvision/models/_utils.py:208: UserWarning: The parameter 'pretrained' is deprecated since 0.13 and may be removed in the future, please use 'weights' instead.\n",
            "  warnings.warn(\n",
            "/usr/local/lib/python3.10/dist-packages/torchvision/models/_utils.py:223: UserWarning: Arguments other than a weight enum or `None` for 'weights' are deprecated since 0.13 and may be removed in the future. The current behavior is equivalent to passing `weights=MobileNet_V2_Weights.IMAGENET1K_V1`. You can also use `weights=MobileNet_V2_Weights.DEFAULT` to get the most up-to-date weights.\n",
            "  warnings.warn(msg)\n",
            "Downloading: \"https://download.pytorch.org/models/mobilenet_v2-b0353104.pth\" to /root/.cache/torch/hub/checkpoints/mobilenet_v2-b0353104.pth\n",
            "100%|██████████| 13.6M/13.6M [00:00<00:00, 118MB/s]\n"
          ]
        }
      ]
    },
    {
      "cell_type": "markdown",
      "source": [
        "Load the OG model - you must make sure the OGModelWeights file is uploaded to the current Colab session\n"
      ],
      "metadata": {
        "id": "ypv-hMI-PT3J"
      }
    },
    {
      "cell_type": "code",
      "source": [
        "!git clone https://github.com/lizjwh/groupIAI_5take2\n",
        "device = torch.device(\"cuda\")\n",
        "model.load_state_dict(torch.load('groupIAI_5take2/OGModelWeights.pth'))\n",
        "model.to(device)\n",
        "model.eval()"
      ],
      "metadata": {
        "id": "ZAekb3V7PEZY",
        "outputId": "7ecc73f2-0996-4e57-ff30-a77652a491a4",
        "colab": {
          "base_uri": "https://localhost:8080/"
        }
      },
      "execution_count": null,
      "outputs": [
        {
          "output_type": "stream",
          "name": "stdout",
          "text": [
            "Cloning into 'groupIAI_5take2'...\n",
            "remote: Enumerating objects: 172, done.\u001b[K\n",
            "remote: Counting objects: 100% (172/172), done.\u001b[K\n",
            "remote: Compressing objects: 100% (160/160), done.\u001b[K\n",
            "remote: Total 172 (delta 70), reused 44 (delta 7), pack-reused 0\u001b[K\n",
            "Receiving objects: 100% (172/172), 33.02 MiB | 23.32 MiB/s, done.\n",
            "Resolving deltas: 100% (70/70), done.\n"
          ]
        },
        {
          "output_type": "execute_result",
          "data": {
            "text/plain": [
              "MobileNetV2(\n",
              "  (features): Sequential(\n",
              "    (0): Conv2dNormActivation(\n",
              "      (0): Conv2d(3, 32, kernel_size=(3, 3), stride=(2, 2), padding=(1, 1), bias=False)\n",
              "      (1): BatchNorm2d(32, eps=1e-05, momentum=0.1, affine=True, track_running_stats=True)\n",
              "      (2): ReLU6(inplace=True)\n",
              "    )\n",
              "    (1): InvertedResidual(\n",
              "      (conv): Sequential(\n",
              "        (0): Conv2dNormActivation(\n",
              "          (0): Conv2d(32, 32, kernel_size=(3, 3), stride=(1, 1), padding=(1, 1), groups=32, bias=False)\n",
              "          (1): BatchNorm2d(32, eps=1e-05, momentum=0.1, affine=True, track_running_stats=True)\n",
              "          (2): ReLU6(inplace=True)\n",
              "        )\n",
              "        (1): Conv2d(32, 16, kernel_size=(1, 1), stride=(1, 1), bias=False)\n",
              "        (2): BatchNorm2d(16, eps=1e-05, momentum=0.1, affine=True, track_running_stats=True)\n",
              "      )\n",
              "    )\n",
              "    (2): InvertedResidual(\n",
              "      (conv): Sequential(\n",
              "        (0): Conv2dNormActivation(\n",
              "          (0): Conv2d(16, 96, kernel_size=(1, 1), stride=(1, 1), bias=False)\n",
              "          (1): BatchNorm2d(96, eps=1e-05, momentum=0.1, affine=True, track_running_stats=True)\n",
              "          (2): ReLU6(inplace=True)\n",
              "        )\n",
              "        (1): Conv2dNormActivation(\n",
              "          (0): Conv2d(96, 96, kernel_size=(3, 3), stride=(2, 2), padding=(1, 1), groups=96, bias=False)\n",
              "          (1): BatchNorm2d(96, eps=1e-05, momentum=0.1, affine=True, track_running_stats=True)\n",
              "          (2): ReLU6(inplace=True)\n",
              "        )\n",
              "        (2): Conv2d(96, 24, kernel_size=(1, 1), stride=(1, 1), bias=False)\n",
              "        (3): BatchNorm2d(24, eps=1e-05, momentum=0.1, affine=True, track_running_stats=True)\n",
              "      )\n",
              "    )\n",
              "    (3): InvertedResidual(\n",
              "      (conv): Sequential(\n",
              "        (0): Conv2dNormActivation(\n",
              "          (0): Conv2d(24, 144, kernel_size=(1, 1), stride=(1, 1), bias=False)\n",
              "          (1): BatchNorm2d(144, eps=1e-05, momentum=0.1, affine=True, track_running_stats=True)\n",
              "          (2): ReLU6(inplace=True)\n",
              "        )\n",
              "        (1): Conv2dNormActivation(\n",
              "          (0): Conv2d(144, 144, kernel_size=(3, 3), stride=(1, 1), padding=(1, 1), groups=144, bias=False)\n",
              "          (1): BatchNorm2d(144, eps=1e-05, momentum=0.1, affine=True, track_running_stats=True)\n",
              "          (2): ReLU6(inplace=True)\n",
              "        )\n",
              "        (2): Conv2d(144, 24, kernel_size=(1, 1), stride=(1, 1), bias=False)\n",
              "        (3): BatchNorm2d(24, eps=1e-05, momentum=0.1, affine=True, track_running_stats=True)\n",
              "      )\n",
              "    )\n",
              "    (4): InvertedResidual(\n",
              "      (conv): Sequential(\n",
              "        (0): Conv2dNormActivation(\n",
              "          (0): Conv2d(24, 144, kernel_size=(1, 1), stride=(1, 1), bias=False)\n",
              "          (1): BatchNorm2d(144, eps=1e-05, momentum=0.1, affine=True, track_running_stats=True)\n",
              "          (2): ReLU6(inplace=True)\n",
              "        )\n",
              "        (1): Conv2dNormActivation(\n",
              "          (0): Conv2d(144, 144, kernel_size=(3, 3), stride=(2, 2), padding=(1, 1), groups=144, bias=False)\n",
              "          (1): BatchNorm2d(144, eps=1e-05, momentum=0.1, affine=True, track_running_stats=True)\n",
              "          (2): ReLU6(inplace=True)\n",
              "        )\n",
              "        (2): Conv2d(144, 32, kernel_size=(1, 1), stride=(1, 1), bias=False)\n",
              "        (3): BatchNorm2d(32, eps=1e-05, momentum=0.1, affine=True, track_running_stats=True)\n",
              "      )\n",
              "    )\n",
              "    (5): InvertedResidual(\n",
              "      (conv): Sequential(\n",
              "        (0): Conv2dNormActivation(\n",
              "          (0): Conv2d(32, 192, kernel_size=(1, 1), stride=(1, 1), bias=False)\n",
              "          (1): BatchNorm2d(192, eps=1e-05, momentum=0.1, affine=True, track_running_stats=True)\n",
              "          (2): ReLU6(inplace=True)\n",
              "        )\n",
              "        (1): Conv2dNormActivation(\n",
              "          (0): Conv2d(192, 192, kernel_size=(3, 3), stride=(1, 1), padding=(1, 1), groups=192, bias=False)\n",
              "          (1): BatchNorm2d(192, eps=1e-05, momentum=0.1, affine=True, track_running_stats=True)\n",
              "          (2): ReLU6(inplace=True)\n",
              "        )\n",
              "        (2): Conv2d(192, 32, kernel_size=(1, 1), stride=(1, 1), bias=False)\n",
              "        (3): BatchNorm2d(32, eps=1e-05, momentum=0.1, affine=True, track_running_stats=True)\n",
              "      )\n",
              "    )\n",
              "    (6): InvertedResidual(\n",
              "      (conv): Sequential(\n",
              "        (0): Conv2dNormActivation(\n",
              "          (0): Conv2d(32, 192, kernel_size=(1, 1), stride=(1, 1), bias=False)\n",
              "          (1): BatchNorm2d(192, eps=1e-05, momentum=0.1, affine=True, track_running_stats=True)\n",
              "          (2): ReLU6(inplace=True)\n",
              "        )\n",
              "        (1): Conv2dNormActivation(\n",
              "          (0): Conv2d(192, 192, kernel_size=(3, 3), stride=(1, 1), padding=(1, 1), groups=192, bias=False)\n",
              "          (1): BatchNorm2d(192, eps=1e-05, momentum=0.1, affine=True, track_running_stats=True)\n",
              "          (2): ReLU6(inplace=True)\n",
              "        )\n",
              "        (2): Conv2d(192, 32, kernel_size=(1, 1), stride=(1, 1), bias=False)\n",
              "        (3): BatchNorm2d(32, eps=1e-05, momentum=0.1, affine=True, track_running_stats=True)\n",
              "      )\n",
              "    )\n",
              "    (7): InvertedResidual(\n",
              "      (conv): Sequential(\n",
              "        (0): Conv2dNormActivation(\n",
              "          (0): Conv2d(32, 192, kernel_size=(1, 1), stride=(1, 1), bias=False)\n",
              "          (1): BatchNorm2d(192, eps=1e-05, momentum=0.1, affine=True, track_running_stats=True)\n",
              "          (2): ReLU6(inplace=True)\n",
              "        )\n",
              "        (1): Conv2dNormActivation(\n",
              "          (0): Conv2d(192, 192, kernel_size=(3, 3), stride=(2, 2), padding=(1, 1), groups=192, bias=False)\n",
              "          (1): BatchNorm2d(192, eps=1e-05, momentum=0.1, affine=True, track_running_stats=True)\n",
              "          (2): ReLU6(inplace=True)\n",
              "        )\n",
              "        (2): Conv2d(192, 64, kernel_size=(1, 1), stride=(1, 1), bias=False)\n",
              "        (3): BatchNorm2d(64, eps=1e-05, momentum=0.1, affine=True, track_running_stats=True)\n",
              "      )\n",
              "    )\n",
              "    (8): InvertedResidual(\n",
              "      (conv): Sequential(\n",
              "        (0): Conv2dNormActivation(\n",
              "          (0): Conv2d(64, 384, kernel_size=(1, 1), stride=(1, 1), bias=False)\n",
              "          (1): BatchNorm2d(384, eps=1e-05, momentum=0.1, affine=True, track_running_stats=True)\n",
              "          (2): ReLU6(inplace=True)\n",
              "        )\n",
              "        (1): Conv2dNormActivation(\n",
              "          (0): Conv2d(384, 384, kernel_size=(3, 3), stride=(1, 1), padding=(1, 1), groups=384, bias=False)\n",
              "          (1): BatchNorm2d(384, eps=1e-05, momentum=0.1, affine=True, track_running_stats=True)\n",
              "          (2): ReLU6(inplace=True)\n",
              "        )\n",
              "        (2): Conv2d(384, 64, kernel_size=(1, 1), stride=(1, 1), bias=False)\n",
              "        (3): BatchNorm2d(64, eps=1e-05, momentum=0.1, affine=True, track_running_stats=True)\n",
              "      )\n",
              "    )\n",
              "    (9): InvertedResidual(\n",
              "      (conv): Sequential(\n",
              "        (0): Conv2dNormActivation(\n",
              "          (0): Conv2d(64, 384, kernel_size=(1, 1), stride=(1, 1), bias=False)\n",
              "          (1): BatchNorm2d(384, eps=1e-05, momentum=0.1, affine=True, track_running_stats=True)\n",
              "          (2): ReLU6(inplace=True)\n",
              "        )\n",
              "        (1): Conv2dNormActivation(\n",
              "          (0): Conv2d(384, 384, kernel_size=(3, 3), stride=(1, 1), padding=(1, 1), groups=384, bias=False)\n",
              "          (1): BatchNorm2d(384, eps=1e-05, momentum=0.1, affine=True, track_running_stats=True)\n",
              "          (2): ReLU6(inplace=True)\n",
              "        )\n",
              "        (2): Conv2d(384, 64, kernel_size=(1, 1), stride=(1, 1), bias=False)\n",
              "        (3): BatchNorm2d(64, eps=1e-05, momentum=0.1, affine=True, track_running_stats=True)\n",
              "      )\n",
              "    )\n",
              "    (10): InvertedResidual(\n",
              "      (conv): Sequential(\n",
              "        (0): Conv2dNormActivation(\n",
              "          (0): Conv2d(64, 384, kernel_size=(1, 1), stride=(1, 1), bias=False)\n",
              "          (1): BatchNorm2d(384, eps=1e-05, momentum=0.1, affine=True, track_running_stats=True)\n",
              "          (2): ReLU6(inplace=True)\n",
              "        )\n",
              "        (1): Conv2dNormActivation(\n",
              "          (0): Conv2d(384, 384, kernel_size=(3, 3), stride=(1, 1), padding=(1, 1), groups=384, bias=False)\n",
              "          (1): BatchNorm2d(384, eps=1e-05, momentum=0.1, affine=True, track_running_stats=True)\n",
              "          (2): ReLU6(inplace=True)\n",
              "        )\n",
              "        (2): Conv2d(384, 64, kernel_size=(1, 1), stride=(1, 1), bias=False)\n",
              "        (3): BatchNorm2d(64, eps=1e-05, momentum=0.1, affine=True, track_running_stats=True)\n",
              "      )\n",
              "    )\n",
              "    (11): InvertedResidual(\n",
              "      (conv): Sequential(\n",
              "        (0): Conv2dNormActivation(\n",
              "          (0): Conv2d(64, 384, kernel_size=(1, 1), stride=(1, 1), bias=False)\n",
              "          (1): BatchNorm2d(384, eps=1e-05, momentum=0.1, affine=True, track_running_stats=True)\n",
              "          (2): ReLU6(inplace=True)\n",
              "        )\n",
              "        (1): Conv2dNormActivation(\n",
              "          (0): Conv2d(384, 384, kernel_size=(3, 3), stride=(1, 1), padding=(1, 1), groups=384, bias=False)\n",
              "          (1): BatchNorm2d(384, eps=1e-05, momentum=0.1, affine=True, track_running_stats=True)\n",
              "          (2): ReLU6(inplace=True)\n",
              "        )\n",
              "        (2): Conv2d(384, 96, kernel_size=(1, 1), stride=(1, 1), bias=False)\n",
              "        (3): BatchNorm2d(96, eps=1e-05, momentum=0.1, affine=True, track_running_stats=True)\n",
              "      )\n",
              "    )\n",
              "    (12): InvertedResidual(\n",
              "      (conv): Sequential(\n",
              "        (0): Conv2dNormActivation(\n",
              "          (0): Conv2d(96, 576, kernel_size=(1, 1), stride=(1, 1), bias=False)\n",
              "          (1): BatchNorm2d(576, eps=1e-05, momentum=0.1, affine=True, track_running_stats=True)\n",
              "          (2): ReLU6(inplace=True)\n",
              "        )\n",
              "        (1): Conv2dNormActivation(\n",
              "          (0): Conv2d(576, 576, kernel_size=(3, 3), stride=(1, 1), padding=(1, 1), groups=576, bias=False)\n",
              "          (1): BatchNorm2d(576, eps=1e-05, momentum=0.1, affine=True, track_running_stats=True)\n",
              "          (2): ReLU6(inplace=True)\n",
              "        )\n",
              "        (2): Conv2d(576, 96, kernel_size=(1, 1), stride=(1, 1), bias=False)\n",
              "        (3): BatchNorm2d(96, eps=1e-05, momentum=0.1, affine=True, track_running_stats=True)\n",
              "      )\n",
              "    )\n",
              "    (13): InvertedResidual(\n",
              "      (conv): Sequential(\n",
              "        (0): Conv2dNormActivation(\n",
              "          (0): Conv2d(96, 576, kernel_size=(1, 1), stride=(1, 1), bias=False)\n",
              "          (1): BatchNorm2d(576, eps=1e-05, momentum=0.1, affine=True, track_running_stats=True)\n",
              "          (2): ReLU6(inplace=True)\n",
              "        )\n",
              "        (1): Conv2dNormActivation(\n",
              "          (0): Conv2d(576, 576, kernel_size=(3, 3), stride=(1, 1), padding=(1, 1), groups=576, bias=False)\n",
              "          (1): BatchNorm2d(576, eps=1e-05, momentum=0.1, affine=True, track_running_stats=True)\n",
              "          (2): ReLU6(inplace=True)\n",
              "        )\n",
              "        (2): Conv2d(576, 96, kernel_size=(1, 1), stride=(1, 1), bias=False)\n",
              "        (3): BatchNorm2d(96, eps=1e-05, momentum=0.1, affine=True, track_running_stats=True)\n",
              "      )\n",
              "    )\n",
              "    (14): InvertedResidual(\n",
              "      (conv): Sequential(\n",
              "        (0): Conv2dNormActivation(\n",
              "          (0): Conv2d(96, 576, kernel_size=(1, 1), stride=(1, 1), bias=False)\n",
              "          (1): BatchNorm2d(576, eps=1e-05, momentum=0.1, affine=True, track_running_stats=True)\n",
              "          (2): ReLU6(inplace=True)\n",
              "        )\n",
              "        (1): Conv2dNormActivation(\n",
              "          (0): Conv2d(576, 576, kernel_size=(3, 3), stride=(2, 2), padding=(1, 1), groups=576, bias=False)\n",
              "          (1): BatchNorm2d(576, eps=1e-05, momentum=0.1, affine=True, track_running_stats=True)\n",
              "          (2): ReLU6(inplace=True)\n",
              "        )\n",
              "        (2): Conv2d(576, 160, kernel_size=(1, 1), stride=(1, 1), bias=False)\n",
              "        (3): BatchNorm2d(160, eps=1e-05, momentum=0.1, affine=True, track_running_stats=True)\n",
              "      )\n",
              "    )\n",
              "    (15): InvertedResidual(\n",
              "      (conv): Sequential(\n",
              "        (0): Conv2dNormActivation(\n",
              "          (0): Conv2d(160, 960, kernel_size=(1, 1), stride=(1, 1), bias=False)\n",
              "          (1): BatchNorm2d(960, eps=1e-05, momentum=0.1, affine=True, track_running_stats=True)\n",
              "          (2): ReLU6(inplace=True)\n",
              "        )\n",
              "        (1): Conv2dNormActivation(\n",
              "          (0): Conv2d(960, 960, kernel_size=(3, 3), stride=(1, 1), padding=(1, 1), groups=960, bias=False)\n",
              "          (1): BatchNorm2d(960, eps=1e-05, momentum=0.1, affine=True, track_running_stats=True)\n",
              "          (2): ReLU6(inplace=True)\n",
              "        )\n",
              "        (2): Conv2d(960, 160, kernel_size=(1, 1), stride=(1, 1), bias=False)\n",
              "        (3): BatchNorm2d(160, eps=1e-05, momentum=0.1, affine=True, track_running_stats=True)\n",
              "      )\n",
              "    )\n",
              "    (16): InvertedResidual(\n",
              "      (conv): Sequential(\n",
              "        (0): Conv2dNormActivation(\n",
              "          (0): Conv2d(160, 960, kernel_size=(1, 1), stride=(1, 1), bias=False)\n",
              "          (1): BatchNorm2d(960, eps=1e-05, momentum=0.1, affine=True, track_running_stats=True)\n",
              "          (2): ReLU6(inplace=True)\n",
              "        )\n",
              "        (1): Conv2dNormActivation(\n",
              "          (0): Conv2d(960, 960, kernel_size=(3, 3), stride=(1, 1), padding=(1, 1), groups=960, bias=False)\n",
              "          (1): BatchNorm2d(960, eps=1e-05, momentum=0.1, affine=True, track_running_stats=True)\n",
              "          (2): ReLU6(inplace=True)\n",
              "        )\n",
              "        (2): Conv2d(960, 160, kernel_size=(1, 1), stride=(1, 1), bias=False)\n",
              "        (3): BatchNorm2d(160, eps=1e-05, momentum=0.1, affine=True, track_running_stats=True)\n",
              "      )\n",
              "    )\n",
              "    (17): InvertedResidual(\n",
              "      (conv): Sequential(\n",
              "        (0): Conv2dNormActivation(\n",
              "          (0): Conv2d(160, 960, kernel_size=(1, 1), stride=(1, 1), bias=False)\n",
              "          (1): BatchNorm2d(960, eps=1e-05, momentum=0.1, affine=True, track_running_stats=True)\n",
              "          (2): ReLU6(inplace=True)\n",
              "        )\n",
              "        (1): Conv2dNormActivation(\n",
              "          (0): Conv2d(960, 960, kernel_size=(3, 3), stride=(1, 1), padding=(1, 1), groups=960, bias=False)\n",
              "          (1): BatchNorm2d(960, eps=1e-05, momentum=0.1, affine=True, track_running_stats=True)\n",
              "          (2): ReLU6(inplace=True)\n",
              "        )\n",
              "        (2): Conv2d(960, 320, kernel_size=(1, 1), stride=(1, 1), bias=False)\n",
              "        (3): BatchNorm2d(320, eps=1e-05, momentum=0.1, affine=True, track_running_stats=True)\n",
              "      )\n",
              "    )\n",
              "    (18): Conv2dNormActivation(\n",
              "      (0): Conv2d(320, 1280, kernel_size=(1, 1), stride=(1, 1), bias=False)\n",
              "      (1): BatchNorm2d(1280, eps=1e-05, momentum=0.1, affine=True, track_running_stats=True)\n",
              "      (2): ReLU6(inplace=True)\n",
              "    )\n",
              "  )\n",
              "  (classifier): Sequential(\n",
              "    (0): Dropout(p=0.6, inplace=False)\n",
              "    (1): Linear(in_features=1280, out_features=29, bias=True)\n",
              "    (2): LogSoftmax(dim=1)\n",
              "  )\n",
              ")"
            ]
          },
          "metadata": {},
          "execution_count": 6
        }
      ]
    },
    {
      "cell_type": "markdown",
      "source": [
        "Create array of all images from restricted mobility and display the first image.\n",
        "\n"
      ],
      "metadata": {
        "id": "rZcbgXO8VMUH"
      }
    },
    {
      "cell_type": "markdown",
      "source": [
        "Let's create a dataloader"
      ],
      "metadata": {
        "id": "ft2-HQMSdZtb"
      }
    },
    {
      "cell_type": "code",
      "source": [
        "#These functions allow each folder to be combined\n",
        "from torch.utils.data import ConcatDataset\n",
        "\n",
        "def create_dataset(root_dir):\n",
        "    \"\"\"\n",
        "    Creates an ImageFolder dataset from the specified root directory.\n",
        "    \"\"\"\n",
        "    data_transforms = transforms.Compose([transforms.Resize((224, 224)),\n",
        "                                          transforms.ToTensor(),\n",
        "                                          transforms.Normalize([0.485, 0.456, 0.406],\n",
        "                                                               [0.229, 0.224, 0.225])])\n",
        "    dataset = datasets.ImageFolder(root_dir, transform=data_transforms)\n",
        "    return dataset\n",
        "\n",
        "def combine_datasets(root_folders):\n",
        "    \"\"\"\n",
        "    Combines datasets from multiple root folders into one dataset.\n",
        "    \"\"\"\n",
        "    datasets = [create_dataset(folder) for folder in root_folders]\n",
        "    combined_dataset = ConcatDataset(datasets)\n",
        "\n",
        "    # Extract class-to-index mappings from individual datasets and merge them\n",
        "    class_to_idx = {}\n",
        "    for dataset in datasets:\n",
        "        class_to_idx.update(dataset.class_to_idx)\n",
        "\n",
        "    return combined_dataset, class_to_idx\n",
        "\n",
        "def main():\n",
        "  #choose which folders to include in test here\n",
        "    root_folders = ['/content/Dataset/Restricted mobility/Left hand',\n",
        "                    '/content/Dataset/Restricted mobility/Right hand',\n",
        "                    '/content/Dataset/Full Mobility/Left hand',\n",
        "                    '/content/Dataset/Full Mobility/Right hand']\n",
        "\n",
        "    combined_dataset, combined_dataset.class_to_idx = combine_datasets(root_folders)\n",
        "\n",
        "    print(f\"Class to index mapping: {combined_dataset.class_to_idx}\")\n",
        "    return combined_dataset\n",
        "\n",
        "combined_dataset = main()\n",
        "\n",
        "\n",
        "#define the transform for the dataset\n",
        "#test_transforms = transforms.Compose([transforms.Resize((224,224)),\n",
        "#                                      transforms.ToTensor(),\n",
        "#                                     transforms.Normalize([0.485, 0.456, 0.406],\n",
        " #                                                           [0.229, 0.224, 0.225])])\n",
        "\n",
        "#transform the data\n",
        "#test_data = datasets.ImageFolder(path,test_transforms)\n",
        "#path = '/content/Dataset/Restricted mobility/Right hand'\n",
        "#test_data.append(datasets.ImageFolder(path,test_transforms))\n",
        "#path = '/content/Dataset/Full Mobility/Left hand'\n",
        "#test_data.append(datasets.ImageFolder(path,test_transforms))\n",
        "#path = '/content/Dataset/Full Mobility/Right hand'\n",
        "#test_data.append(datasets.ImageFolder(path,test_transforms))\n",
        "#print(f\"class to index mapping: {test_data.class_to_idx}\")\n",
        "\n",
        "#load some of the test data\n",
        "testloader = torch.utils.data.DataLoader(combined_dataset, batch_size=50, shuffle=True)\n",
        "images, labels = next(iter(testloader))\n",
        "print(labels)\n",
        "#print(images.size())"
      ],
      "metadata": {
        "id": "MzvhpS24daE3",
        "outputId": "7213d056-4206-49ef-ad55-81bd6e028787",
        "colab": {
          "base_uri": "https://localhost:8080/"
        }
      },
      "execution_count": null,
      "outputs": [
        {
          "output_type": "stream",
          "name": "stdout",
          "text": [
            "Class to index mapping: {'A': 0, 'B': 1, 'C': 2, 'D': 3, 'E': 4, 'F': 5, 'G': 6, 'H': 7, 'I': 8, 'J': 9, 'K': 10, 'L': 11, 'M': 12, 'N': 13, 'O': 14, 'P': 15, 'Q': 16, 'R': 17, 'S': 18, 'Space': 19, 'T': 20, 'U': 21, 'V': 22, 'W': 23, 'X': 24, 'Y': 25, 'Z': 26}\n",
            "tensor([24, 11,  2, 13,  9, 15,  9,  2, 10, 24,  5, 21, 16, 20, 16, 20, 13,  0,\n",
            "        26,  9, 19,  5, 22,  7, 26, 15, 23, 20,  3, 20, 17, 10, 18, 14, 17,  8,\n",
            "         1,  2, 16, 21, 11,  3, 13,  5,  0, 13, 19,  7, 16, 22])\n"
          ]
        }
      ]
    },
    {
      "cell_type": "markdown",
      "source": [
        "Use model to make prediction on image"
      ],
      "metadata": {
        "id": "cyErzTgCk_MZ"
      }
    },
    {
      "cell_type": "code",
      "source": [
        "#select random image from 0-(batch_size)\n",
        "index = np.random.randint(0,50)\n",
        "test_img = images[index]\n",
        "t = transforms.ToPILImage()\n",
        "\n",
        "#normalize image as in the training data\n",
        "t_n=transforms.Normalize([0.485, 0.456, 0.406],[0.229, 0.224, 0.225])\n",
        "test_img=t_n(test_img).unsqueeze(0).cuda()\n",
        "\n",
        "plt.imshow(t(test_img))\n",
        "\n",
        "#classify image using our model\n",
        "#print(test_img.size())\n",
        "res = torch.exp(model(test_img))\n",
        "#print(\"res:\",res)\n",
        "#invert class_to_idx keys to values and viceversa.\n",
        "classes = combined_dataset.class_to_idx\n",
        "classes = {value:key for key, value in classes.items()}\n",
        "\n",
        "print(f\"image number {index}\")\n",
        "print(\"---------------------\")\n",
        "\n",
        "#print real class\n",
        "print(\"label:\",classes[labels[index].item()])\n",
        "\n",
        "#print predicted class\n",
        "#print(\"prediction index:\",res.argmax().item())\n",
        "print(\"prediction letter:\", classes[res.argmax().item()])\n"
      ],
      "metadata": {
        "id": "henfC5t_lDTW",
        "outputId": "4bca4dfa-303c-45f0-d6c7-ea3e6b17eb79",
        "colab": {
          "base_uri": "https://localhost:8080/",
          "height": 348
        }
      },
      "execution_count": null,
      "outputs": [
        {
          "output_type": "error",
          "ename": "RuntimeError",
          "evalue": "Found no NVIDIA driver on your system. Please check that you have an NVIDIA GPU and installed a driver from http://www.nvidia.com/Download/index.aspx",
          "traceback": [
            "\u001b[0;31m---------------------------------------------------------------------------\u001b[0m",
            "\u001b[0;31mRuntimeError\u001b[0m                              Traceback (most recent call last)",
            "\u001b[0;32m<ipython-input-5-a52805210d54>\u001b[0m in \u001b[0;36m<cell line: 8>\u001b[0;34m()\u001b[0m\n\u001b[1;32m      6\u001b[0m \u001b[0;31m#normalize image as in the training data\u001b[0m\u001b[0;34m\u001b[0m\u001b[0;34m\u001b[0m\u001b[0m\n\u001b[1;32m      7\u001b[0m \u001b[0mt_n\u001b[0m\u001b[0;34m=\u001b[0m\u001b[0mtransforms\u001b[0m\u001b[0;34m.\u001b[0m\u001b[0mNormalize\u001b[0m\u001b[0;34m(\u001b[0m\u001b[0;34m[\u001b[0m\u001b[0;36m0.485\u001b[0m\u001b[0;34m,\u001b[0m \u001b[0;36m0.456\u001b[0m\u001b[0;34m,\u001b[0m \u001b[0;36m0.406\u001b[0m\u001b[0;34m]\u001b[0m\u001b[0;34m,\u001b[0m\u001b[0;34m[\u001b[0m\u001b[0;36m0.229\u001b[0m\u001b[0;34m,\u001b[0m \u001b[0;36m0.224\u001b[0m\u001b[0;34m,\u001b[0m \u001b[0;36m0.225\u001b[0m\u001b[0;34m]\u001b[0m\u001b[0;34m)\u001b[0m\u001b[0;34m\u001b[0m\u001b[0;34m\u001b[0m\u001b[0m\n\u001b[0;32m----> 8\u001b[0;31m \u001b[0mtest_img\u001b[0m\u001b[0;34m=\u001b[0m\u001b[0mt_n\u001b[0m\u001b[0;34m(\u001b[0m\u001b[0mtest_img\u001b[0m\u001b[0;34m)\u001b[0m\u001b[0;34m.\u001b[0m\u001b[0munsqueeze\u001b[0m\u001b[0;34m(\u001b[0m\u001b[0;36m0\u001b[0m\u001b[0;34m)\u001b[0m\u001b[0;34m.\u001b[0m\u001b[0mcuda\u001b[0m\u001b[0;34m(\u001b[0m\u001b[0;34m)\u001b[0m\u001b[0;34m\u001b[0m\u001b[0;34m\u001b[0m\u001b[0m\n\u001b[0m\u001b[1;32m      9\u001b[0m \u001b[0mplt\u001b[0m\u001b[0;34m.\u001b[0m\u001b[0mimshow\u001b[0m\u001b[0;34m(\u001b[0m\u001b[0mt\u001b[0m\u001b[0;34m(\u001b[0m\u001b[0mtest_img\u001b[0m\u001b[0;34m)\u001b[0m\u001b[0;34m)\u001b[0m\u001b[0;34m\u001b[0m\u001b[0;34m\u001b[0m\u001b[0m\n\u001b[1;32m     10\u001b[0m \u001b[0;34m\u001b[0m\u001b[0m\n",
            "\u001b[0;32m/usr/local/lib/python3.10/dist-packages/torch/cuda/__init__.py\u001b[0m in \u001b[0;36m_lazy_init\u001b[0;34m()\u001b[0m\n\u001b[1;32m    296\u001b[0m         \u001b[0;32mif\u001b[0m \u001b[0;34m\"CUDA_MODULE_LOADING\"\u001b[0m \u001b[0;32mnot\u001b[0m \u001b[0;32min\u001b[0m \u001b[0mos\u001b[0m\u001b[0;34m.\u001b[0m\u001b[0menviron\u001b[0m\u001b[0;34m:\u001b[0m\u001b[0;34m\u001b[0m\u001b[0;34m\u001b[0m\u001b[0m\n\u001b[1;32m    297\u001b[0m             \u001b[0mos\u001b[0m\u001b[0;34m.\u001b[0m\u001b[0menviron\u001b[0m\u001b[0;34m[\u001b[0m\u001b[0;34m\"CUDA_MODULE_LOADING\"\u001b[0m\u001b[0;34m]\u001b[0m \u001b[0;34m=\u001b[0m \u001b[0;34m\"LAZY\"\u001b[0m\u001b[0;34m\u001b[0m\u001b[0;34m\u001b[0m\u001b[0m\n\u001b[0;32m--> 298\u001b[0;31m         \u001b[0mtorch\u001b[0m\u001b[0;34m.\u001b[0m\u001b[0m_C\u001b[0m\u001b[0;34m.\u001b[0m\u001b[0m_cuda_init\u001b[0m\u001b[0;34m(\u001b[0m\u001b[0;34m)\u001b[0m\u001b[0;34m\u001b[0m\u001b[0;34m\u001b[0m\u001b[0m\n\u001b[0m\u001b[1;32m    299\u001b[0m         \u001b[0;31m# Some of the queued calls may reentrantly call _lazy_init();\u001b[0m\u001b[0;34m\u001b[0m\u001b[0;34m\u001b[0m\u001b[0m\n\u001b[1;32m    300\u001b[0m         \u001b[0;31m# we need to just return without initializing in that case.\u001b[0m\u001b[0;34m\u001b[0m\u001b[0;34m\u001b[0m\u001b[0m\n",
            "\u001b[0;31mRuntimeError\u001b[0m: Found no NVIDIA driver on your system. Please check that you have an NVIDIA GPU and installed a driver from http://www.nvidia.com/Download/index.aspx"
          ]
        }
      ]
    },
    {
      "cell_type": "markdown",
      "source": [
        "#Confusion Matrix\n",
        "https://towardsdatascience.com/understanding-confusion-matrix-a9ad42dcfd62"
      ],
      "metadata": {
        "id": "1h4QV1fMB7x7"
      }
    },
    {
      "cell_type": "code",
      "source": [
        "from sklearn.metrics import confusion_matrix\n",
        "import seaborn as sn\n",
        "import pandas as pd\n",
        "import matplotlib.pyplot as plt"
      ],
      "metadata": {
        "id": "A2v8lqXs0e6y"
      },
      "execution_count": null,
      "outputs": []
    },
    {
      "cell_type": "code",
      "source": [
        "def test(classes, test_loader):\n",
        "    pred = []\n",
        "    true = []\n",
        "\n",
        "    with torch.no_grad():\n",
        "        # Iterate through all batches in the test_loader\n",
        "        for images, labels in test_loader:\n",
        "            images = images.to(device)\n",
        "            labels = labels.to(device)\n",
        "\n",
        "            # Forward pass through the model\n",
        "            outputs = model(images)\n",
        "            _, predicted = torch.max(outputs, 1)\n",
        "\n",
        "            # Convert predicted and true labels to class names\n",
        "            try:\n",
        "                pred.extend([classes[label.item()] for label in predicted])\n",
        "                true.extend([classes[label.item()] for label in labels])\n",
        "                #print(pred, true)\n",
        "            except KeyError as e:\n",
        "                print(f\"Error: {e} not found in classes dictionary.\")\n",
        "                print(f\"Problematic labels: {predicted}, {labels}\")\n",
        "\n",
        "    return pred, true\n",
        "\n",
        "#invert class_to_idx keys to values and vice versa.\n",
        "classes = combined_test_dataset.class_to_idx\n",
        "classes = {value: key for key, value in classes.items()}\n",
        "\n",
        "pred, true = test(classes, test_loader)\n",
        "print(pred, true)"
      ],
      "metadata": {
        "id": "6qpAVI4GQ7ky"
      },
      "execution_count": null,
      "outputs": []
    },
    {
      "cell_type": "code",
      "source": [
        "from sklearn.metrics import confusion_matrix\n",
        "import seaborn as sn\n",
        "import pandas as pd\n",
        "\n",
        "def plotConfusionMatrix(pred, true, classes):\n",
        "    # Change classes dictionary to this format {'A': 'A', 'B': 'B', 'C': 'C'...} for labelling the axis later\n",
        "    classes = {value: value for key, value in classes.items()}\n",
        "\n",
        "    # Convert class_to_idx dictionary to list of class names\n",
        "    unique_classes = sorted(set(true + pred))\n",
        "\n",
        "    # Ensure that all classes are included, even if they are not present in the batch of data\n",
        "    all_classes = sorted(set(classes.values()))\n",
        "\n",
        "    # Create confusion matrix\n",
        "    cf_matrix = confusion_matrix(\n",
        "        [classes[label] for label in true],\n",
        "        [classes[label] for label in pred],\n",
        "        labels=all_classes\n",
        "    )\n",
        "\n",
        "    # Create DataFrame using class names for index and columns\n",
        "    df_cm = pd.DataFrame(cf_matrix, index=all_classes, columns=all_classes)\n",
        "\n",
        "    # Normalize the confusion matrix by row (i.e., by the number of true instances for each class)\n",
        "    df_cm = df_cm.div(df_cm.sum(axis=1), axis=0)\n",
        "\n",
        "    # Add 0s to empty cells\n",
        "    df_cm = df_cm.fillna(0)\n",
        "    #print(df_cm)\n",
        "\n",
        "    plt.figure(figsize=(12, 7))\n",
        "    print(classes)\n",
        "    sn.heatmap(df_cm, annot=True, fmt=\".1f\")  # Adjust fmt as needed for displaying float values\n",
        "    plt.xlabel('Predicted Label')\n",
        "    plt.ylabel('True Label')\n",
        "    plt.title('Normalised Confusion Matrix')\n",
        "    plt.show()\n",
        "\n",
        "# # #To run this cell independently you need these lines and some sample predictions\n",
        "# classes = combined_dataset.class_to_idx\n",
        "# classes = {value: key for key, value in classes.items()}\n",
        "# pred = ['A', 'M', 'K', 'I', 'Space', 'M', 'K', 'L', 'O', 'M', 'A', 'S', 'P', 'D', 'D', 'O', 'Space', 'A', 'B', 'V', 'Space', 'N', 'B', 'E', 'A', 'S', 'C', 'U', 'K', 'Z', 'X', 'Z', 'G', 'Z', 'J', 'A', 'X', 'G', 'A', 'Q', 'C', 'D', 'M', 'A', 'R', 'A', 'I', 'W', 'E', 'I', 'A', 'M', 'A', 'T', 'K', 'E', 'O', 'O', 'E', 'I', 'K', 'F', 'C', 'F', 'Z', 'E', 'E', 'S', 'J', 'Q', 'I', 'U', 'X', 'H', 'R', 'H', 'C', 'T', 'R', 'P', 'Space', 'I', 'J', 'B', 'N', 'H', 'M', 'Y', 'Y', 'E', 'G', 'O', 'Space', 'Space', 'C', 'G', 'T', 'V', 'M', 'J', 'A', 'W', 'G', 'P', 'H', 'Space', 'L', 'B', 'G', 'Y', 'Space', 'O', 'D', 'P', 'J', 'K', 'T', 'J', 'U', 'D', 'A', 'M', 'V', 'T', 'L', 'Q', 'L', 'C', 'E', 'T', 'H', 'R', 'I', 'R', 'R', 'N', 'C', 'Y', 'X', 'U', 'H', 'B', 'O', 'W', 'H', 'W', 'R', 'I', 'U', 'U', 'T', 'U', 'Q', 'J', 'M', 'F', 'X', 'R', 'Z', 'T', 'Q', 'R', 'Q', 'N', 'B', 'P', 'A', 'V', 'B', 'X', 'U', 'J', 'J', 'T', 'L', 'E', 'Space', 'C', 'E', 'D', 'T', 'E', 'U', 'N', 'O', 'T', 'R', 'E', 'G', 'J', 'Q', 'F', 'D', 'I', 'O', 'A', 'V', 'U', 'J', 'H', 'S', 'C', 'N', 'F', 'U', 'K', 'N', 'Space', 'H', 'E', 'W', 'L', 'F', 'Q', 'P', 'O', 'B', 'J', 'R', 'X', 'A', 'N', 'W', 'B', 'C', 'D', 'U', 'T', 'W', 'H', 'N', 'U', 'R', 'G', 'A', 'L', 'H', 'B', 'M', 'J', 'G', 'T', 'F', 'M', 'S', 'S', 'L', 'X', 'P', 'G', 'I', 'Q', 'R', 'J', 'P', 'Q', 'F', 'K', 'R', 'G', 'N', 'A', 'L', 'B', 'J', 'G', 'W', 'L', 'V', 'M', 'X', 'Y', 'J', 'P', 'L', 'A', 'F', 'V', 'S', 'Y', 'Z', 'R', 'Z', 'A', 'G', 'U', 'O', 'K', 'P', 'C', 'I', 'R', 'Y', 'C', 'B', 'W', 'J', 'I', 'R', 'B', 'P', 'Z', 'H', 'V', 'J', 'R', 'K', 'H', 'L', 'F', 'C', 'Q', 'G', 'V', 'Q', 'V', 'I', 'Q', 'F', 'N', 'Space', 'H', 'J', 'C', 'K', 'M', 'M', 'K', 'P', 'X', 'P', 'B', 'O', 'I', 'G', 'W', 'W', 'B', 'G', 'G', 'U', 'Space', 'M', 'I', 'I', 'O', 'P', 'D', 'C', 'A', 'E', 'R', 'Y', 'Space', 'I', 'M', 'V', 'R', 'Y', 'W', 'F', 'N', 'Y', 'I', 'T', 'F', 'E', 'X', 'N', 'R', 'S', 'Y', 'Z', 'R', 'X', 'T', 'P', 'B', 'E', 'K', 'K', 'M', 'S', 'F', 'H', 'Z', 'W', 'M', 'N', 'H', 'A', 'E', 'P', 'J', 'Z', 'Space', 'W', 'B', 'Y', 'C', 'T', 'Z', 'A', 'X', 'S', 'M', 'E', 'Z', 'T', 'P', 'Space', 'Z', 'H', 'V', 'Z', 'L', 'Y', 'E', 'C', 'E', 'Z', 'X', 'E', 'O', 'R', 'N', 'R', 'A', 'F', 'Y', 'Y', 'A', 'E', 'W', 'S', 'B', 'S', 'X', 'F', 'Y', 'Z', 'T', 'C', 'U', 'R', 'K', 'T', 'E', 'H', 'O', 'U', 'V', 'O', 'Z', 'D', 'M', 'Q', 'W', 'G', 'Z', 'W', 'H', 'V', 'N', 'T', 'N', 'Z', 'B', 'S', 'Space', 'Y', 'N', 'J', 'Space', 'G', 'E', 'O', 'K', 'A', 'I', 'R', 'E', 'H', 'S', 'Y', 'N', 'W', 'T', 'I', 'E', 'W', 'U', 'V', 'T', 'Q', 'V', 'P', 'P', 'A', 'H', 'S', 'W', 'U', 'S', 'T', 'O', 'O', 'B', 'F', 'T', 'V', 'J', 'Y', 'X', 'J', 'P', 'L', 'O', 'Q', 'F', 'P', 'U', 'G', 'X', 'Q', 'Y', 'Space', 'D', 'R', 'A', 'J', 'T', 'Z', 'Space', 'S', 'P', 'I', 'R', 'G', 'T', 'I', 'Q', 'Space', 'X', 'V', 'R', 'P', 'H', 'M', 'F', 'B', 'G', 'C', 'Q', 'P', 'Z', 'P', 'E', 'O', 'Z', 'P', 'Space', 'U', 'H', 'Y', 'Y', 'E', 'X', 'G', 'I', 'Z', 'U', 'M', 'Q', 'X', 'O', 'J', 'C', 'P', 'Y', 'O', 'G', 'Z', 'J', 'N', 'K', 'I', 'Y', 'I', 'C', 'K', 'Q', 'J', 'D', 'W', 'X', 'Y', 'F', 'U', 'S', 'U', 'F', 'K', 'Z', 'H', 'L', 'A', 'L', 'F', 'A', 'I', 'A', 'Z', 'L', 'B', 'L', 'F', 'R', 'A', 'B', 'Q', 'S', 'Space', 'W', 'P', 'D', 'G', 'R', 'U', 'L', 'I', 'E', 'N', 'S', 'A', 'D', 'H', 'X', 'A', 'W', 'Q', 'K', 'E', 'J', 'M', 'M', 'K', 'D', 'Space', 'Space', 'H', 'Y', 'C', 'E', 'D', 'B', 'S', 'J', 'T', 'U', 'T', 'W', 'A', 'H', 'T', 'J', 'J', 'D', 'N', 'M', 'A', 'O', 'D', 'V', 'Space', 'J', 'M', 'D', 'J', 'P', 'H', 'T', 'U', 'X', 'Z', 'Z', 'Space', 'B', 'H', 'L', 'D', 'N', 'C', 'P', 'D', 'Q', 'Space', 'C', 'V', 'F', 'U', 'I', 'T', 'X', 'D', 'A', 'K', 'O', 'S', 'N', 'I', 'Space', 'U', 'Q', 'Y', 'C', 'S', 'G', 'E', 'L', 'K', 'Y', 'S', 'G', 'A', 'N', 'S', 'Y', 'K', 'S', 'K', 'V', 'V', 'Y', 'H', 'I', 'K', 'M', 'C', 'T', 'C', 'B', 'X', 'L', 'K', 'H', 'U', 'W', 'D', 'T', 'W', 'E', 'W', 'H', 'J', 'E', 'K', 'X', 'V', 'U', 'C', 'T', 'S', 'N', 'Space', 'K', 'C', 'Space', 'A', 'E', 'B', 'D', 'Q', 'Z', 'X', 'C', 'F', 'Space', 'O', 'N', 'A', 'I', 'D', 'K', 'K', 'V', 'Z', 'M', 'Space', 'P', 'P', 'J', 'L', 'J', 'X', 'Z', 'M', 'G', 'L', 'M', 'O', 'D', 'Space', 'S', 'R', 'T', 'Space', 'X', 'R', 'N', 'X', 'F', 'B', 'I', 'I', 'L', 'X', 'X', 'D', 'H', 'A', 'D', 'C', 'H', 'U', 'E', 'V', 'L', 'U', 'V', 'R', 'F', 'H', 'A', 'K', 'F', 'E', 'Space', 'V', 'Q', 'O', 'S', 'O', 'X', 'K', 'Q', 'P', 'F', 'A', 'N', 'I', 'I', 'U', 'G', 'C', 'P', 'C', 'W', 'A', 'M', 'W', 'W', 'F', 'A', 'X', 'J', 'R', 'H', 'S', 'T', 'P', 'L', 'U', 'Y', 'W', 'K', 'W', 'B', 'C', 'F', 'B', 'Space', 'D', 'B', 'Space', 'J', 'X', 'T', 'N', 'Space', 'M', 'F', 'L', 'C', 'X', 'D', 'E', 'M', 'J', 'S', 'W', 'I', 'X', 'E', 'W', 'G', 'B', 'M', 'C', 'E', 'I', 'R', 'J', 'Q', 'I', 'B', 'N', 'E', 'F', 'T', 'R', 'J', 'B', 'C', 'E', 'O', 'H', 'A', 'V', 'Z', 'O', 'N', 'X', 'G', 'A', 'N', 'W', 'Y', 'P', 'I', 'B', 'O', 'B', 'H', 'P', 'L', 'T', 'Q', 'E', 'V', 'M', 'I', 'N', 'Q', 'I', 'H', 'N', 'E', 'U', 'T', 'P', 'G', 'Space', 'J', 'H', 'S', 'Y', 'V', 'P', 'A', 'C', 'G', 'C', 'O', 'V', 'N', 'O', 'U', 'U', 'A', 'Z', 'Y', 'D', 'R', 'W', 'F', 'Y', 'Q', 'I', 'F', 'T', 'E', 'Y', 'G', 'A', 'F', 'L', 'O', 'Z', 'J', 'V', 'W', 'S', 'P', 'R', 'W', 'B', 'Space', 'N', 'N', 'X', 'F', 'Z', 'Space', 'O', 'K', 'K', 'G', 'B', 'Y', 'M', 'X', 'R', 'V', 'Y', 'E', 'Z', 'N', 'A', 'X', 'M', 'Q', 'V', 'I', 'T', 'E', 'A', 'Q', 'O', 'E', 'U', 'F', 'J', 'V', 'S', 'S', 'J', 'O', 'P', 'K', 'A', 'X', 'G', 'P', 'N', 'M', 'Z', 'T', 'T', 'H', 'D', 'O', 'V', 'X', 'T', 'Q', 'D', 'S', 'Q', 'M', 'D', 'R', 'G', 'W', 'W', 'F', 'R', 'K', 'Space', 'L', 'P', 'L', 'V', 'J', 'N', 'G', 'B', 'U', 'Space', 'P', 'M', 'T', 'A', 'R', 'Y', 'B', 'A', 'Q', 'S', 'D', 'A', 'J', 'U', 'B', 'G', 'B', 'H', 'V', 'N', 'H', 'S', 'G', 'K', 'Space', 'R', 'M', 'K', 'Space', 'J', 'S', 'O', 'W', 'Q', 'Q', 'L', 'C', 'G', 'G', 'N', 'M', 'F', 'E', 'Q', 'R', 'G', 'P', 'F', 'V', 'E', 'B', 'D', 'A', 'E', 'Y', 'F', 'A', 'L', 'E', 'C', 'Z', 'I', 'P', 'F', 'G', 'C', 'R', 'Q', 'A', 'W', 'D', 'G', 'T', 'D', 'F', 'G', 'M', 'I', 'G', 'B', 'L', 'H', 'M', 'V', 'Space', 'B', 'V', 'I', 'C', 'Q', 'W', 'F', 'D', 'Z', 'R', 'E', 'X', 'O', 'F', 'U', 'T', 'D', 'J', 'P', 'I', 'R', 'J', 'D', 'G', 'L', 'Y', 'A', 'L', 'O', 'Z', 'A', 'B', 'Y', 'N', 'A', 'Space', 'C', 'E', 'C', 'C', 'A', 'X', 'E', 'K', 'D', 'X', 'P', 'K', 'B', 'F', 'N', 'K', 'X', 'N', 'U', 'U', 'D', 'A', 'R', 'J', 'V', 'X', 'Z', 'K', 'Z', 'L', 'C', 'X', 'C', 'G', 'R', 'A', 'H', 'I', 'B', 'G', 'C', 'S', 'D', 'J', 'K', 'J', 'W', 'U', 'V', 'T', 'P', 'C', 'C', 'I', 'C', 'N', 'B', 'W', 'Z', 'S', 'B', 'V', 'R', 'R', 'E', 'M', 'W', 'K', 'L', 'G', 'F', 'X', 'L', 'E', 'P', 'Y', 'Z', 'P', 'Y', 'C', 'I', 'G', 'G', 'L', 'Y', 'Z', 'B', 'E', 'D', 'Space', 'N', 'T', 'G', 'I', 'K', 'L', 'M', 'I', 'O', 'R', 'C', 'B', 'V', 'K', 'L', 'W', 'V', 'D', 'Y', 'H', 'Q', 'E', 'R', 'Space', 'B', 'D', 'H', 'J', 'Space', 'S', 'J', 'Z', 'Space', 'Z', 'K', 'V', 'V', 'O', 'T', 'U', 'E', 'H', 'S', 'T', 'N', 'W', 'Y', 'A', 'H', 'N', 'G', 'D', 'H', 'I', 'O', 'I', 'J', 'H', 'T', 'T', 'I', 'M', 'B', 'V', 'E', 'F', 'A', 'N', 'F', 'V', 'G', 'J', 'G', 'Space', 'R', 'B', 'D', 'Space', 'V', 'Y', 'C', 'R', 'L', 'A', 'I', 'D', 'O', 'R', 'H', 'P', 'E', 'Y', 'M', 'O', 'E', 'Y', 'Y', 'L', 'R', 'N', 'H', 'Space', 'M', 'F', 'X', 'V', 'A', 'S', 'S', 'W', 'P', 'P', 'T', 'U', 'G', 'Q', 'E', 'R', 'E', 'A', 'A', 'X', 'Space', 'W', 'Y', 'E', 'Z', 'N', 'H', 'D', 'W', 'G']\n",
        "# true = ['A', 'M', 'K', 'I', 'Space', 'M', 'K', 'L', 'O', 'M', 'A', 'S', 'P', 'D', 'D', 'O', 'Space', 'A', 'B', 'V', 'Space', 'N', 'B', 'E', 'A', 'S', 'C', 'U', 'K', 'Z', 'X', 'Z', 'G', 'Z', 'J', 'A', 'X', 'G', 'A', 'Q', 'C', 'D', 'M', 'A', 'R', 'A', 'I', 'W', 'E', 'I', 'A', 'M', 'A', 'T', 'K', 'E', 'O', 'O', 'E', 'D', 'K', 'F', 'C', 'F', 'Z', 'S', 'E', 'S', 'J', 'Q', 'I', 'U', 'X', 'H', 'R', 'H', 'C', 'T', 'R', 'P', 'Space', 'I', 'J', 'B', 'N', 'H', 'M', 'Y', 'Y', 'E', 'P', 'O', 'Space', 'Space', 'C', 'G', 'T', 'V', 'M', 'J', 'E', 'W', 'G', 'P', 'H', 'Space', 'L', 'B', 'G', 'Y', 'Space', 'O', 'D', 'P', 'J', 'K', 'T', 'J', 'U', 'I', 'A', 'M', 'V', 'T', 'L', 'Q', 'L', 'C', 'E', 'T', 'H', 'R', 'I', 'R', 'R', 'N', 'C', 'T', 'X', 'U', 'H', 'B', 'O', 'W', 'H', 'W', 'R', 'I', 'U', 'U', 'T', 'K', 'Q', 'J', 'M', 'F', 'X', 'R', 'Z', 'T', 'Q', 'R', 'Q', 'N', 'F', 'P', 'A', 'V', 'B', 'X', 'U', 'J', 'J', 'T', 'L', 'E', 'Space', 'C', 'S', 'D', 'T', 'S', 'U', 'M', 'O', 'T', 'R', 'E', 'P', 'J', 'Q', 'F', 'D', 'I', 'O', 'A', 'V', 'U', 'J', 'H', 'S', 'C', 'N', 'F', 'U', 'K', 'N', 'Space', 'H', 'E', 'W', 'L', 'F', 'Q', 'P', 'O', 'B', 'J', 'R', 'X', 'A', 'M', 'W', 'B', 'C', 'D', 'U', 'T', 'W', 'U', 'M', 'U', 'R', 'P', 'A', 'L', 'H', 'B', 'M', 'J', 'G', 'T', 'F', 'M', 'S', 'S', 'L', 'X', 'P', 'G', 'Y', 'Q', 'R', 'J', 'P', 'Q', 'F', 'K', 'R', 'G', 'N', 'A', 'L', 'B', 'J', 'P', 'W', 'L', 'V', 'M', 'X', 'Y', 'J', 'P', 'L', 'A', 'F', 'V', 'S', 'Y', 'Z', 'R', 'Z', 'A', 'G', 'U', 'O', 'K', 'P', 'C', 'I', 'R', 'Y', 'C', 'B', 'W', 'I', 'Y', 'R', 'B', 'P', 'Z', 'H', 'V', 'J', 'R', 'K', 'H', 'L', 'F', 'C', 'Q', 'G', 'V', 'Q', 'V', 'I', 'Q', 'F', 'N', 'Space', 'H', 'J', 'C', 'K', 'M', 'M', 'K', 'P', 'X', 'P', 'B', 'O', 'I', 'G', 'W', 'W', 'B', 'G', 'Z', 'U', 'Space', 'M', 'I', 'I', 'O', 'P', 'D', 'C', 'S', 'E', 'R', 'Y', 'Space', 'I', 'M', 'K', 'R', 'Y', 'W', 'F', 'N', 'Y', 'I', 'T', 'F', 'E', 'X', 'N', 'R', 'S', 'T', 'Z', 'R', 'X', 'T', 'P', 'B', 'E', 'K', 'K', 'M', 'S', 'F', 'H', 'X', 'W', 'M', 'N', 'H', 'A', 'E', 'P', 'J', 'Z', 'Space', 'W', 'B', 'Y', 'C', 'T', 'Z', 'A', 'X', 'S', 'M', 'E', 'Z', 'T', 'P', 'Space', 'Z', 'H', 'V', 'Z', 'L', 'Y', 'E', 'C', 'E', 'Z', 'X', 'E', 'O', 'R', 'N', 'R', 'A', 'F', 'Y', 'Y', 'A', 'E', 'W', 'S', 'B', 'S', 'X', 'F', 'Y', 'Z', 'T', 'C', 'U', 'R', 'K', 'T', 'E', 'H', 'O', 'U', 'V', 'O', 'Z', 'D', 'M', 'Q', 'W', 'P', 'Z', 'W', 'H', 'V', 'N', 'T', 'N', 'R', 'B', 'S', 'Space', 'Y', 'N', 'J', 'Space', 'G', 'E', 'O', 'K', 'A', 'I', 'R', 'S', 'H', 'A', 'Y', 'M', 'W', 'T', 'I', 'E', 'W', 'U', 'V', 'T', 'Q', 'V', 'P', 'P', 'A', 'H', 'S', 'W', 'U', 'S', 'T', 'O', 'O', 'B', 'F', 'T', 'K', 'J', 'Y', 'X', 'J', 'P', 'L', 'O', 'Q', 'F', 'P', 'U', 'G', 'X', 'Q', 'Y', 'Space', 'D', 'R', 'A', 'J', 'T', 'Z', 'Space', 'S', 'P', 'I', 'F', 'G', 'T', 'I', 'Q', 'Space', 'X', 'V', 'R', 'P', 'H', 'M', 'F', 'B', 'G', 'C', 'Q', 'Q', 'Z', 'Q', 'E', 'O', 'Z', 'P', 'Space', 'U', 'H', 'Y', 'Y', 'E', 'X', 'G', 'I', 'Z', 'U', 'M', 'Q', 'X', 'O', 'J', 'C', 'P', 'Y', 'O', 'G', 'Z', 'J', 'N', 'K', 'I', 'Y', 'I', 'C', 'K', 'Q', 'J', 'D', 'W', 'X', 'Y', 'F', 'U', 'S', 'U', 'F', 'K', 'Z', 'H', 'L', 'A', 'L', 'F', 'A', 'I', 'A', 'Z', 'L', 'B', 'L', 'F', 'R', 'A', 'B', 'Q', 'O', 'Space', 'W', 'P', 'D', 'G', 'D', 'U', 'L', 'I', 'E', 'N', 'S', 'A', 'D', 'O', 'X', 'A', 'W', 'Q', 'K', 'E', 'J', 'M', 'M', 'K', 'D', 'Space', 'Space', 'H', 'Y', 'C', 'E', 'Z', 'B', 'S', 'J', 'T', 'U', 'T', 'V', 'E', 'H', 'T', 'J', 'J', 'D', 'N', 'M', 'A', 'O', 'D', 'V', 'Space', 'J', 'M', 'D', 'J', 'P', 'H', 'T', 'U', 'X', 'Z', 'Y', 'Space', 'B', 'H', 'L', 'D', 'N', 'C', 'Q', 'I', 'Q', 'Space', 'C', 'V', 'F', 'U', 'I', 'T', 'X', 'D', 'A', 'V', 'O', 'S', 'N', 'I', 'Space', 'U', 'Q', 'Y', 'C', 'S', 'G', 'E', 'L', 'K', 'Y', 'S', 'P', 'A', 'N', 'S', 'Y', 'K', 'S', 'K', 'K', 'V', 'Y', 'H', 'I', 'J', 'M', 'C', 'T', 'C', 'B', 'X', 'L', 'K', 'H', 'U', 'W', 'D', 'T', 'W', 'E', 'W', 'H', 'J', 'E', 'K', 'X', 'V', 'U', 'C', 'T', 'S', 'N', 'Space', 'K', 'C', 'Space', 'A', 'E', 'B', 'D', 'Q', 'Z', 'X', 'C', 'F', 'Space', 'O', 'N', 'A', 'I', 'Z', 'K', 'K', 'V', 'Z', 'M', 'C', 'G', 'P', 'J', 'L', 'J', 'X', 'Z', 'M', 'G', 'L', 'M', 'O', 'D', 'Space', 'S', 'R', 'T', 'Space', 'X', 'R', 'N', 'X', 'F', 'B', 'D', 'I', 'L', 'X', 'X', 'D', 'H', 'A', 'D', 'C', 'H', 'U', 'E', 'V', 'L', 'U', 'V', 'R', 'F', 'U', 'A', 'K', 'F', 'E', 'Space', 'V', 'Q', 'O', 'S', 'O', 'X', 'K', 'Q', 'P', 'F', 'S', 'N', 'I', 'I', 'U', 'G', 'C', 'P', 'C', 'W', 'A', 'M', 'W', 'W', 'F', 'A', 'X', 'J', 'R', 'H', 'S', 'T', 'P', 'L', 'U', 'Y', 'W', 'K', 'W', 'B', 'C', 'F', 'B', 'Space', 'D', 'B', 'Space', 'J', 'X', 'T', 'N', 'Y', 'M', 'F', 'L', 'C', 'X', 'D', 'E', 'M', 'J', 'O', 'W', 'I', 'X', 'E', 'W', 'Z', 'B', 'M', 'C', 'E', 'I', 'R', 'J', 'Q', 'I', 'B', 'N', 'E', 'F', 'T', 'R', 'J', 'B', 'C', 'S', 'O', 'H', 'A', 'V', 'Z', 'O', 'N', 'X', 'G', 'A', 'N', 'W', 'Y', 'P', 'I', 'B', 'O', 'B', 'H', 'P', 'L', 'T', 'Q', 'E', 'V', 'M', 'I', 'N', 'Q', 'I', 'H', 'N', 'E', 'U', 'T', 'G', 'G', 'Space', 'J', 'H', 'S', 'Y', 'V', 'Q', 'A', 'C', 'X', 'C', 'O', 'V', 'N', 'O', 'U', 'U', 'A', 'Z', 'I', 'Z', 'R', 'W', 'F', 'Y', 'Q', 'I', 'F', 'T', 'E', 'Y', 'G', 'A', 'F', 'L', 'O', 'Z', 'J', 'V', 'W', 'S', 'P', 'R', 'W', 'B', 'Space', 'N', 'N', 'X', 'F', 'Z', 'Space', 'O', 'K', 'K', 'G', 'B', 'Y', 'M', 'X', 'R', 'V', 'Y', 'S', 'Z', 'N', 'A', 'X', 'M', 'Q', 'V', 'I', 'T', 'E', 'A', 'Q', 'O', 'E', 'U', 'F', 'J', 'V', 'S', 'S', 'J', 'O', 'P', 'K', 'A', 'X', 'G', 'P', 'N', 'M', 'Y', 'T', 'T', 'H', 'D', 'O', 'V', 'X', 'T', 'Q', 'D', 'S', 'Q', 'M', 'D', 'R', 'G', 'W', 'W', 'F', 'R', 'K', 'Space', 'L', 'P', 'L', 'V', 'J', 'N', 'P', 'B', 'U', 'Space', 'P', 'M', 'T', 'A', 'R', 'Y', 'B', 'A', 'Q', 'S', 'D', 'A', 'J', 'U', 'B', 'G', 'B', 'H', 'V', 'N', 'H', 'S', 'G', 'K', 'Space', 'R', 'M', 'K', 'Space', 'J', 'S', 'O', 'W', 'Q', 'Q', 'L', 'C', 'G', 'G', 'N', 'M', 'F', 'E', 'Q', 'R', 'G', 'P', 'F', 'V', 'E', 'B', 'D', 'A', 'S', 'Y', 'F', 'A', 'L', 'E', 'C', 'Z', 'I', 'Q', 'F', 'G', 'C', 'D', 'Q', 'A', 'W', 'D', 'G', 'T', 'D', 'F', 'G', 'M', 'I', 'G', 'B', 'L', 'H', 'M', 'U', 'Space', 'B', 'V', 'I', 'C', 'Q', 'W', 'F', 'D', 'Z', 'R', 'E', 'X', 'O', 'F', 'U', 'T', 'D', 'J', 'P', 'I', 'R', 'J', 'D', 'G', 'L', 'Y', 'A', 'L', 'O', 'Z', 'A', 'B', 'Y', 'N', 'D', 'Space', 'C', 'E', 'C', 'C', 'A', 'X', 'E', 'K', 'Z', 'X', 'P', 'K', 'B', 'F', 'N', 'K', 'X', 'N', 'U', 'U', 'D', 'A', 'R', 'J', 'V', 'X', 'Z', 'K', 'Z', 'L', 'C', 'X', 'C', 'G', 'R', 'A', 'H', 'I', 'B', 'G', 'C', 'S', 'D', 'J', 'K', 'J', 'W', 'U', 'V', 'T', 'P', 'C', 'C', 'I', 'C', 'N', 'B', 'W', 'Z', 'S', 'B', 'V', 'R', 'R', 'U', 'M', 'W', 'K', 'L', 'P', 'F', 'X', 'L', 'E', 'P', 'Y', 'Y', 'P', 'Y', 'C', 'I', 'G', 'G', 'L', 'Y', 'Z', 'B', 'E', 'D', 'Space', 'N', 'T', 'G', 'I', 'K', 'L', 'M', 'I', 'O', 'R', 'C', 'B', 'V', 'K', 'L', 'W', 'V', 'D', 'Y', 'H', 'Q', 'S', 'R', 'Space', 'B', 'Z', 'H', 'J', 'Space', 'S', 'J', 'Z', 'Space', 'Z', 'K', 'V', 'V', 'O', 'T', 'U', 'E', 'H', 'S', 'T', 'N', 'W', 'Y', 'F', 'H', 'N', 'G', 'D', 'H', 'I', 'O', 'I', 'J', 'H', 'T', 'T', 'I', 'M', 'B', 'V', 'A', 'F', 'A', 'N', 'F', 'V', 'G', 'J', 'G', 'Space', 'R', 'B', 'Z', 'Space', 'V', 'Y', 'C', 'R', 'L', 'A', 'I', 'D', 'O', 'R', 'U', 'P', 'E', 'Y', 'M', 'O', 'E', 'Y', 'Y', 'L', 'R', 'N', 'H', 'Space', 'M', 'F', 'X', 'V', 'A', 'E', 'S', 'W', 'P', 'P', 'T', 'R', 'G', 'Q', 'E', 'F', 'E', 'E', 'A', 'X', 'Space', 'W', 'Y', 'E', 'Z', 'N', 'H', 'D', 'W', 'G']\n",
        "\n",
        "print(\"Number of images predicted:\", len(pred))\n",
        "# Call the function to plot the confusion matrix\n",
        "plotConfusionMatrix(pred, true, classes)"
      ],
      "metadata": {
        "id": "D0a4JvA0n4Xy",
        "outputId": "3740bb70-422e-42c3-b778-3c38d71dfdae",
        "colab": {
          "base_uri": "https://localhost:8080/",
          "height": 679
        }
      },
      "execution_count": null,
      "outputs": [
        {
          "output_type": "stream",
          "name": "stdout",
          "text": [
            "{'A': 'A', 'B': 'B', 'C': 'C', 'D': 'D', 'E': 'E', 'F': 'F', 'G': 'G', 'H': 'H', 'I': 'I', 'J': 'J', 'K': 'K', 'L': 'L', 'M': 'M', 'N': 'N', 'O': 'O', 'P': 'P', 'Q': 'Q', 'R': 'R', 'S': 'S', 'Space': 'Space', 'T': 'T', 'U': 'U', 'V': 'V', 'W': 'W', 'X': 'X', 'Y': 'Y', 'Z': 'Z'}\n"
          ]
        },
        {
          "output_type": "display_data",
          "data": {
            "text/plain": [
              "<Figure size 1200x700 with 2 Axes>"
            ],
            "image/png": "[encoded data removed]"
          },
          "metadata": {}
        }
      ]
    }
  ]
}