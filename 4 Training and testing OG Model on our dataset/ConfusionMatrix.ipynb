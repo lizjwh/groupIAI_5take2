{
  "cells": [
    {
      "cell_type": "markdown",
      "metadata": {
        "id": "view-in-github",
        "colab_type": "text"
      },
      "source": [
        "<a href=\"https://colab.research.google.com/github/lizjwh/groupIAI_5take2/blob/main/4%20Training%20and%20testing%20OG%20Model%20on%20our%20dataset/ConfusionMatrix.ipynb\" target=\"_parent\"><img src=\"https://colab.research.google.com/assets/colab-badge.svg\" alt=\"Open In Colab\"/></a>"
      ]
    },
    {
      "metadata": {
        "id": "0bZIdA6M3iHC"
      },
      "cell_type": "markdown",
      "source": [
        "## 1.2. Fetching data\n",
        "\n",
        "In this section, we will get the required missing packages, download, and unzip the dataset.\n",
        "\n",
        "### Get Kaggle CLI and torch vision package\n",
        "\n",
        "First, we will need to install Kaggle CLI and torch vision package, For that, we use the exclamation mark to run command in the kernel."
      ]
    },
    {
      "cell_type": "code",
      "source": [
        "#Deleat folders if we want a refresh\n",
        "'''\n",
        "import shutil\n",
        "\n",
        "shutil.rmtree('Full Mobility', ignore_errors=True)\n",
        "'''"
      ],
      "metadata": {
        "id": "XPlzQ6PamMTP",
        "outputId": "0ede4139-a604-48aa-fa43-ce2865e2b925",
        "colab": {
          "base_uri": "https://localhost:8080/",
          "height": 35
        }
      },
      "execution_count": 1,
      "outputs": [
        {
          "output_type": "execute_result",
          "data": {
            "text/plain": [
              "\"\\nimport shutil\\n\\nshutil.rmtree('Full Mobility', ignore_errors=True)\\n\""
            ],
            "application/vnd.google.colaboratory.intrinsic+json": {
              "type": "string"
            }
          },
          "metadata": {},
          "execution_count": 1
        }
      ]
    },
    {
      "metadata": {
        "colab": {
          "base_uri": "https://localhost:8080/"
        },
        "id": "u_MmY7_p3iHC",
        "outputId": "fde3e153-a90f-47c5-944a-af696433b33d"
      },
      "cell_type": "code",
      "source": [
        "#install torchvision and kaggle\n",
        "!pip install torchvision\n",
        "!pip install kaggle\n",
        "!pip install tqdm\n",
        "!pip install colorama\n",
        "!pip install split-folders[full]\n"
      ],
      "execution_count": 2,
      "outputs": [
        {
          "output_type": "stream",
          "name": "stdout",
          "text": [
            "Requirement already satisfied: torchvision in /usr/local/lib/python3.10/dist-packages (0.17.1+cu121)\n",
            "Requirement already satisfied: numpy in /usr/local/lib/python3.10/dist-packages (from torchvision) (1.25.2)\n",
            "Requirement already satisfied: torch==2.2.1 in /usr/local/lib/python3.10/dist-packages (from torchvision) (2.2.1+cu121)\n",
            "Requirement already satisfied: pillow!=8.3.*,>=5.3.0 in /usr/local/lib/python3.10/dist-packages (from torchvision) (9.4.0)\n",
            "Requirement already satisfied: filelock in /usr/local/lib/python3.10/dist-packages (from torch==2.2.1->torchvision) (3.13.1)\n",
            "Requirement already satisfied: typing-extensions>=4.8.0 in /usr/local/lib/python3.10/dist-packages (from torch==2.2.1->torchvision) (4.10.0)\n",
            "Requirement already satisfied: sympy in /usr/local/lib/python3.10/dist-packages (from torch==2.2.1->torchvision) (1.12)\n",
            "Requirement already satisfied: networkx in /usr/local/lib/python3.10/dist-packages (from torch==2.2.1->torchvision) (3.2.1)\n",
            "Requirement already satisfied: jinja2 in /usr/local/lib/python3.10/dist-packages (from torch==2.2.1->torchvision) (3.1.3)\n",
            "Requirement already satisfied: fsspec in /usr/local/lib/python3.10/dist-packages (from torch==2.2.1->torchvision) (2023.6.0)\n",
            "Collecting nvidia-cuda-nvrtc-cu12==12.1.105 (from torch==2.2.1->torchvision)\n",
            "  Downloading nvidia_cuda_nvrtc_cu12-12.1.105-py3-none-manylinux1_x86_64.whl (23.7 MB)\n",
            "\u001b[2K     \u001b[90m━━━━━━━━━━━━━━━━━━━━━━━━━━━━━━━━━━━━━━━━\u001b[0m \u001b[32m23.7/23.7 MB\u001b[0m \u001b[31m28.9 MB/s\u001b[0m eta \u001b[36m0:00:00\u001b[0m\n",
            "\u001b[?25hCollecting nvidia-cuda-runtime-cu12==12.1.105 (from torch==2.2.1->torchvision)\n",
            "  Downloading nvidia_cuda_runtime_cu12-12.1.105-py3-none-manylinux1_x86_64.whl (823 kB)\n",
            "\u001b[2K     \u001b[90m━━━━━━━━━━━━━━━━━━━━━━━━━━━━━━━━━━━━━━━━\u001b[0m \u001b[32m823.6/823.6 kB\u001b[0m \u001b[31m42.4 MB/s\u001b[0m eta \u001b[36m0:00:00\u001b[0m\n",
            "\u001b[?25hCollecting nvidia-cuda-cupti-cu12==12.1.105 (from torch==2.2.1->torchvision)\n",
            "  Downloading nvidia_cuda_cupti_cu12-12.1.105-py3-none-manylinux1_x86_64.whl (14.1 MB)\n",
            "\u001b[2K     \u001b[90m━━━━━━━━━━━━━━━━━━━━━━━━━━━━━━━━━━━━━━━━\u001b[0m \u001b[32m14.1/14.1 MB\u001b[0m \u001b[31m38.5 MB/s\u001b[0m eta \u001b[36m0:00:00\u001b[0m\n",
            "\u001b[?25hCollecting nvidia-cudnn-cu12==8.9.2.26 (from torch==2.2.1->torchvision)\n",
            "  Downloading nvidia_cudnn_cu12-8.9.2.26-py3-none-manylinux1_x86_64.whl (731.7 MB)\n",
            "\u001b[2K     \u001b[90m━━━━━━━━━━━━━━━━━━━━━━━━━━━━━━━━━━━━━━━━\u001b[0m \u001b[32m731.7/731.7 MB\u001b[0m \u001b[31m973.9 kB/s\u001b[0m eta \u001b[36m0:00:00\u001b[0m\n",
            "\u001b[?25hCollecting nvidia-cublas-cu12==12.1.3.1 (from torch==2.2.1->torchvision)\n",
            "  Downloading nvidia_cublas_cu12-12.1.3.1-py3-none-manylinux1_x86_64.whl (410.6 MB)\n",
            "\u001b[2K     \u001b[90m━━━━━━━━━━━━━━━━━━━━━━━━━━━━━━━━━━━━━━━━\u001b[0m \u001b[32m410.6/410.6 MB\u001b[0m \u001b[31m2.8 MB/s\u001b[0m eta \u001b[36m0:00:00\u001b[0m\n",
            "\u001b[?25hCollecting nvidia-cufft-cu12==11.0.2.54 (from torch==2.2.1->torchvision)\n",
            "  Downloading nvidia_cufft_cu12-11.0.2.54-py3-none-manylinux1_x86_64.whl (121.6 MB)\n",
            "\u001b[2K     \u001b[90m━━━━━━━━━━━━━━━━━━━━━━━━━━━━━━━━━━━━━━━━\u001b[0m \u001b[32m121.6/121.6 MB\u001b[0m \u001b[31m8.3 MB/s\u001b[0m eta \u001b[36m0:00:00\u001b[0m\n",
            "\u001b[?25hCollecting nvidia-curand-cu12==10.3.2.106 (from torch==2.2.1->torchvision)\n",
            "  Downloading nvidia_curand_cu12-10.3.2.106-py3-none-manylinux1_x86_64.whl (56.5 MB)\n",
            "\u001b[2K     \u001b[90m━━━━━━━━━━━━━━━━━━━━━━━━━━━━━━━━━━━━━━━━\u001b[0m \u001b[32m56.5/56.5 MB\u001b[0m \u001b[31m11.4 MB/s\u001b[0m eta \u001b[36m0:00:00\u001b[0m\n",
            "\u001b[?25hCollecting nvidia-cusolver-cu12==11.4.5.107 (from torch==2.2.1->torchvision)\n",
            "  Downloading nvidia_cusolver_cu12-11.4.5.107-py3-none-manylinux1_x86_64.whl (124.2 MB)\n",
            "\u001b[2K     \u001b[90m━━━━━━━━━━━━━━━━━━━━━━━━━━━━━━━━━━━━━━━━\u001b[0m \u001b[32m124.2/124.2 MB\u001b[0m \u001b[31m8.3 MB/s\u001b[0m eta \u001b[36m0:00:00\u001b[0m\n",
            "\u001b[?25hCollecting nvidia-cusparse-cu12==12.1.0.106 (from torch==2.2.1->torchvision)\n",
            "  Downloading nvidia_cusparse_cu12-12.1.0.106-py3-none-manylinux1_x86_64.whl (196.0 MB)\n",
            "\u001b[2K     \u001b[90m━━━━━━━━━━━━━━━━━━━━━━━━━━━━━━━━━━━━━━━━\u001b[0m \u001b[32m196.0/196.0 MB\u001b[0m \u001b[31m3.7 MB/s\u001b[0m eta \u001b[36m0:00:00\u001b[0m\n",
            "\u001b[?25hCollecting nvidia-nccl-cu12==2.19.3 (from torch==2.2.1->torchvision)\n",
            "  Downloading nvidia_nccl_cu12-2.19.3-py3-none-manylinux1_x86_64.whl (166.0 MB)\n",
            "\u001b[2K     \u001b[90m━━━━━━━━━━━━━━━━━━━━━━━━━━━━━━━━━━━━━━━━\u001b[0m \u001b[32m166.0/166.0 MB\u001b[0m \u001b[31m6.9 MB/s\u001b[0m eta \u001b[36m0:00:00\u001b[0m\n",
            "\u001b[?25hCollecting nvidia-nvtx-cu12==12.1.105 (from torch==2.2.1->torchvision)\n",
            "  Downloading nvidia_nvtx_cu12-12.1.105-py3-none-manylinux1_x86_64.whl (99 kB)\n",
            "\u001b[2K     \u001b[90m━━━━━━━━━━━━━━━━━━━━━━━━━━━━━━━━━━━━━━━━\u001b[0m \u001b[32m99.1/99.1 kB\u001b[0m \u001b[31m14.5 MB/s\u001b[0m eta \u001b[36m0:00:00\u001b[0m\n",
            "\u001b[?25hRequirement already satisfied: triton==2.2.0 in /usr/local/lib/python3.10/dist-packages (from torch==2.2.1->torchvision) (2.2.0)\n",
            "Collecting nvidia-nvjitlink-cu12 (from nvidia-cusolver-cu12==11.4.5.107->torch==2.2.1->torchvision)\n",
            "  Downloading nvidia_nvjitlink_cu12-12.4.99-py3-none-manylinux2014_x86_64.whl (21.1 MB)\n",
            "\u001b[2K     \u001b[90m━━━━━━━━━━━━━━━━━━━━━━━━━━━━━━━━━━━━━━━━\u001b[0m \u001b[32m21.1/21.1 MB\u001b[0m \u001b[31m76.6 MB/s\u001b[0m eta \u001b[36m0:00:00\u001b[0m\n",
            "\u001b[?25hRequirement already satisfied: MarkupSafe>=2.0 in /usr/local/lib/python3.10/dist-packages (from jinja2->torch==2.2.1->torchvision) (2.1.5)\n",
            "Requirement already satisfied: mpmath>=0.19 in /usr/local/lib/python3.10/dist-packages (from sympy->torch==2.2.1->torchvision) (1.3.0)\n",
            "Installing collected packages: nvidia-nvtx-cu12, nvidia-nvjitlink-cu12, nvidia-nccl-cu12, nvidia-curand-cu12, nvidia-cufft-cu12, nvidia-cuda-runtime-cu12, nvidia-cuda-nvrtc-cu12, nvidia-cuda-cupti-cu12, nvidia-cublas-cu12, nvidia-cusparse-cu12, nvidia-cudnn-cu12, nvidia-cusolver-cu12\n",
            "Successfully installed nvidia-cublas-cu12-12.1.3.1 nvidia-cuda-cupti-cu12-12.1.105 nvidia-cuda-nvrtc-cu12-12.1.105 nvidia-cuda-runtime-cu12-12.1.105 nvidia-cudnn-cu12-8.9.2.26 nvidia-cufft-cu12-11.0.2.54 nvidia-curand-cu12-10.3.2.106 nvidia-cusolver-cu12-11.4.5.107 nvidia-cusparse-cu12-12.1.0.106 nvidia-nccl-cu12-2.19.3 nvidia-nvjitlink-cu12-12.4.99 nvidia-nvtx-cu12-12.1.105\n",
            "Requirement already satisfied: kaggle in /usr/local/lib/python3.10/dist-packages (1.5.16)\n",
            "Requirement already satisfied: six>=1.10 in /usr/local/lib/python3.10/dist-packages (from kaggle) (1.16.0)\n",
            "Requirement already satisfied: certifi in /usr/local/lib/python3.10/dist-packages (from kaggle) (2024.2.2)\n",
            "Requirement already satisfied: python-dateutil in /usr/local/lib/python3.10/dist-packages (from kaggle) (2.8.2)\n",
            "Requirement already satisfied: requests in /usr/local/lib/python3.10/dist-packages (from kaggle) (2.31.0)\n",
            "Requirement already satisfied: tqdm in /usr/local/lib/python3.10/dist-packages (from kaggle) (4.66.2)\n",
            "Requirement already satisfied: python-slugify in /usr/local/lib/python3.10/dist-packages (from kaggle) (8.0.4)\n",
            "Requirement already satisfied: urllib3 in /usr/local/lib/python3.10/dist-packages (from kaggle) (2.0.7)\n",
            "Requirement already satisfied: bleach in /usr/local/lib/python3.10/dist-packages (from kaggle) (6.1.0)\n",
            "Requirement already satisfied: webencodings in /usr/local/lib/python3.10/dist-packages (from bleach->kaggle) (0.5.1)\n",
            "Requirement already satisfied: text-unidecode>=1.3 in /usr/local/lib/python3.10/dist-packages (from python-slugify->kaggle) (1.3)\n",
            "Requirement already satisfied: charset-normalizer<4,>=2 in /usr/local/lib/python3.10/dist-packages (from requests->kaggle) (3.3.2)\n",
            "Requirement already satisfied: idna<4,>=2.5 in /usr/local/lib/python3.10/dist-packages (from requests->kaggle) (3.6)\n",
            "Requirement already satisfied: tqdm in /usr/local/lib/python3.10/dist-packages (4.66.2)\n",
            "Collecting colorama\n",
            "  Downloading colorama-0.4.6-py2.py3-none-any.whl (25 kB)\n",
            "Installing collected packages: colorama\n",
            "Successfully installed colorama-0.4.6\n",
            "Collecting split-folders[full]\n",
            "  Downloading split_folders-0.5.1-py3-none-any.whl (8.4 kB)\n",
            "Requirement already satisfied: tqdm in /usr/local/lib/python3.10/dist-packages (from split-folders[full]) (4.66.2)\n",
            "Installing collected packages: split-folders\n",
            "Successfully installed split-folders-0.5.1\n"
          ]
        }
      ]
    },
    {
      "metadata": {
        "id": "07MV-lTs3iHD"
      },
      "cell_type": "markdown",
      "source": [
        "### Download and unzip the dataset\n",
        "\n",
        "We will use a dataset of 87.0k ASL Alphabet images (JPG) and 29 categories (26 ASL alphabet, space, Del, and nothing) offered by amarinderplasma on Kaggle. For more about the dataset <a href=\"https://www.kaggle.com/amarinderplasma/alphabets-sign-language\"> ASL Images.</a>\n",
        "\n",
        "* In this cell you should import your Kaggle account credentials to be able to download the data through Kaggle CLI. To get your credentials <a href=\"https://www.kaggle.com/docs/api\">Kaggle API key.</a>\n",
        "* Please note the line should be run as it is as one line to make sure all commands are started in the same kernel."
      ]
    },
    {
      "metadata": {
        "id": "E9gYOE073iHD",
        "outputId": "15bbe8de-e0b8-4da6-e91d-b484efb4cac6",
        "colab": {
          "base_uri": "https://localhost:8080/"
        }
      },
      "cell_type": "code",
      "source": [
        "# download dataset and extract it\n",
        "! export KAGGLE_USERNAME=\"emmet454\" && export KAGGLE_KEY=\"ee00fbc0728a71f5c5f712029e3ef004\" && kaggle datasets download --force --unzip emilyburt/intro-to-ai\n",
        "! ls"
      ],
      "execution_count": 3,
      "outputs": [
        {
          "output_type": "stream",
          "name": "stdout",
          "text": [
            "Downloading intro-to-ai.zip to /content\n",
            "100% 4.07G/4.08G [00:50<00:00, 130MB/s]\n",
            "100% 4.08G/4.08G [00:50<00:00, 86.2MB/s]\n",
            "Dataset  sample_data\n"
          ]
        }
      ]
    },
    {
      "cell_type": "markdown",
      "source": [
        "### Split dataset into train, validate and test"
      ],
      "metadata": {
        "id": "aG7X8YUzvi6Z"
      }
    },
    {
      "cell_type": "code",
      "source": [
        "import splitfolders"
      ],
      "metadata": {
        "id": "Bg99dJXdm8MN"
      },
      "execution_count": 4,
      "outputs": []
    },
    {
      "cell_type": "code",
      "source": [
        "input_folder = 'Dataset/Full Mobility/Left hand'\n",
        "\n",
        "#split with a ratio (train, val, test)\n",
        "splitfolders.ratio(input_folder, output='Full Mobility/Left hand/',\n",
        "                  seed=42, ratio=(.6, .20, .20),\n",
        "                  group_prefix=None)\n",
        "\n",
        "input_folder = 'Dataset/Full Mobility/Right hand'\n",
        "\n",
        "#split with a ratio\n",
        "splitfolders.ratio(input_folder, output='Full Mobility/Right hand/',\n",
        "                  seed=42, ratio=(.6, .20, .20),\n",
        "                  group_prefix=None)\n",
        "\n",
        "input_folder = 'Dataset/Restricted mobility/Left hand'\n",
        "\n",
        "#split with a ratio\n",
        "splitfolders.ratio(input_folder, output='Restricted Mobility/Left hand/',\n",
        "                  seed=42, ratio=(.6, .20, .20),\n",
        "                  group_prefix=None)\n",
        "\n",
        "input_folder = 'Dataset/Restricted mobility/Right hand'\n",
        "\n",
        "#split with a ratio\n",
        "splitfolders.ratio(input_folder, output='Restricted Mobility/Right hand/',\n",
        "                  seed=42, ratio=(.6, .20, .20),\n",
        "                  group_prefix=None)\n"
      ],
      "metadata": {
        "id": "YshIuTosjbaf",
        "outputId": "09d177b0-4e9e-4314-f117-1084a64a6b79",
        "colab": {
          "base_uri": "https://localhost:8080/"
        }
      },
      "execution_count": 5,
      "outputs": [
        {
          "output_type": "stream",
          "name": "stderr",
          "text": [
            "Copying files: 492 files [00:06, 78.37 files/s] \n",
            "Copying files: 502 files [00:04, 103.29 files/s]\n",
            "Copying files: 484 files [00:04, 102.87 files/s]\n",
            "Copying files: 495 files [00:04, 105.42 files/s]\n"
          ]
        }
      ]
    },
    {
      "metadata": {
        "id": "FbRzWQWr3iHE"
      },
      "cell_type": "markdown",
      "source": [
        "# 3. Process and load images"
      ]
    },
    {
      "cell_type": "code",
      "source": [
        "import torch\n",
        "import torch.nn as nn\n",
        "import torch.optim as optim"
      ],
      "metadata": {
        "id": "jSjPhlO9P2YB"
      },
      "execution_count": 6,
      "outputs": []
    },
    {
      "cell_type": "code",
      "source": [
        "from torchvision import transforms, models ,datasets\n",
        "from torch.utils.data import ConcatDataset\n",
        "\n",
        "def create_dataset(root_dir):\n",
        "    \"\"\"\n",
        "    Creates an ImageFolder dataset from the specified root directory.\n",
        "    \"\"\"\n",
        "    data_transforms = transforms.Compose([transforms.Resize((224, 224)),\n",
        "                                          transforms.ToTensor(),\n",
        "                                          transforms.RandomRotation(30),\n",
        "                                          transforms.RandomHorizontalFlip(p=0.3),\n",
        "                                          transforms.Normalize([0.485, 0.456, 0.406],\n",
        "                                                               [0.229, 0.224, 0.225])])\n",
        "    dataset = datasets.ImageFolder(root_dir, transform=data_transforms)\n",
        "    return dataset\n",
        "\n",
        "def combine_datasets(root_folders):\n",
        "    \"\"\"\n",
        "    Combines datasets from multiple root folders into one dataset.\n",
        "    \"\"\"\n",
        "    datasets = [create_dataset(folder) for folder in root_folders]\n",
        "    combined_dataset = ConcatDataset(datasets)\n",
        "\n",
        "    # Extract class-to-index mappings from individual datasets and merge them\n",
        "    class_to_idx = {}\n",
        "    for dataset in datasets:\n",
        "        class_to_idx.update(dataset.class_to_idx)\n",
        "\n",
        "    return combined_dataset, class_to_idx\n",
        "\n",
        "\n",
        "def main():\n",
        "  #choose which folders to include in test here\n",
        "    root_folders = ['/content/Restricted Mobility/Left hand/train',\n",
        "                    '/content/Restricted Mobility/Right hand/train',\n",
        "                    '/content/Full Mobility/Left hand/train',\n",
        "                    '/content/Full Mobility/Right hand/train']\n",
        "\n",
        "    combined_dataset, combined_dataset.class_to_idx = combine_datasets(root_folders)\n",
        "\n",
        "    print(f\"Class to index mapping: {combined_dataset.class_to_idx}\")\n",
        "    return combined_dataset\n",
        "\n",
        "def main_val():\n",
        "  #choose which folders to include in test here\n",
        "    root_folders = ['/content/Restricted Mobility/Left hand/val',\n",
        "                    '/content/Restricted Mobility/Right hand/val',\n",
        "                    '/content/Full Mobility/Left hand/val',\n",
        "                    '/content/Full Mobility/Right hand/val']\n",
        "\n",
        "    combined_dataset, combined_dataset.class_to_idx = combine_datasets(root_folders)\n",
        "\n",
        "    print(f\"Class to index mapping: {combined_dataset.class_to_idx}\")\n",
        "    return combined_dataset\n",
        "\n",
        "def main_test():\n",
        "  #choose which folders to include in test here\n",
        "    root_folders = ['/content/Restricted Mobility/Left hand/test',\n",
        "                    '/content/Restricted Mobility/Right hand/test',\n",
        "                    '/content/Full Mobility/Left hand/test',\n",
        "                    '/content/Full Mobility/Right hand/test']\n",
        "\n",
        "    combined_dataset, combined_dataset.class_to_idx = combine_datasets(root_folders)\n",
        "\n",
        "    print(f\"Class to index mapping: {combined_dataset.class_to_idx}\")\n",
        "    return combined_dataset\n",
        "\n",
        "combined_train_dataset = main()\n",
        "combined_val_dataset = main_val()\n",
        "combined_test_dataset = main_test()"
      ],
      "metadata": {
        "id": "UztNECipL02c",
        "outputId": "2acf72f0-d691-427a-cd23-aa6604052e61",
        "colab": {
          "base_uri": "https://localhost:8080/"
        }
      },
      "execution_count": 7,
      "outputs": [
        {
          "output_type": "stream",
          "name": "stdout",
          "text": [
            "Class to index mapping: {'A': 0, 'B': 1, 'C': 2, 'D': 3, 'E': 4, 'F': 5, 'G': 6, 'H': 7, 'I': 8, 'J': 9, 'K': 10, 'L': 11, 'M': 12, 'N': 13, 'O': 14, 'P': 15, 'Q': 16, 'R': 17, 'S': 18, 'Space': 19, 'T': 20, 'U': 21, 'V': 22, 'W': 23, 'X': 24, 'Y': 25, 'Z': 26}\n",
            "Class to index mapping: {'A': 0, 'B': 1, 'C': 2, 'D': 3, 'E': 4, 'F': 5, 'G': 6, 'H': 7, 'I': 8, 'J': 9, 'K': 10, 'L': 11, 'M': 12, 'N': 13, 'O': 14, 'P': 15, 'Q': 16, 'R': 17, 'S': 18, 'Space': 19, 'T': 20, 'U': 21, 'V': 22, 'W': 23, 'X': 24, 'Y': 25, 'Z': 26}\n",
            "Class to index mapping: {'A': 0, 'B': 1, 'C': 2, 'D': 3, 'E': 4, 'F': 5, 'G': 6, 'H': 7, 'I': 8, 'J': 9, 'K': 10, 'L': 11, 'M': 12, 'N': 13, 'O': 14, 'P': 15, 'Q': 16, 'R': 17, 'S': 18, 'Space': 19, 'T': 20, 'U': 21, 'V': 22, 'W': 23, 'X': 24, 'Y': 25, 'Z': 26}\n"
          ]
        }
      ]
    },
    {
      "cell_type": "code",
      "source": [
        "#create loaders\n",
        "train_loader = torch.utils.data.DataLoader(dataset=combined_train_dataset,\n",
        "                                           batch_size=50,\n",
        "                                           shuffle=True)\n",
        "\n",
        "val_loader = torch.utils.data.DataLoader(dataset=combined_val_dataset,\n",
        "                                          batch_size=50,\n",
        "                                          shuffle=False)\n",
        "\n",
        "test_loader = torch.utils.data.DataLoader(dataset=combined_test_dataset,\n",
        "                                          batch_size=32,\n",
        "                                          shuffle=False)"
      ],
      "metadata": {
        "id": "Ayo4E6X-Fxot"
      },
      "execution_count": 13,
      "outputs": []
    },
    {
      "metadata": {
        "id": "uMpatdjX3iHF"
      },
      "cell_type": "markdown",
      "source": [
        "# 4. Customize our network\n",
        "\n",
        "## 4.1. Choose a Pretrained model\n",
        "choose a pre-trained model you think would have good accuracy for the problem and freeze all layers to make sure not all the network is trained during the training process.   \n",
        "A list of Pytorch model zoo can be found <a href=\"https://pytorch.org/docs/stable/torchvision/models.html\">here.</a>  \n",
        "We will also print the model classifier to check the number of input neurons to consider when creating our classifier."
      ]
    },
    {
      "metadata": {
        "scrolled": true,
        "id": "o-SKchRd3iHF",
        "outputId": "b4ae786a-da71-42a3-85d1-8876946b863b",
        "colab": {
          "base_uri": "https://localhost:8080/"
        }
      },
      "cell_type": "code",
      "source": [
        "# choose a pretrained model to start with check options here: https://pytorch.org/vision/stable/models.html\n",
        "model = models.mobilenet_v2(pretrained=True)\n",
        "\n",
        "# Freeze parameters of the tarined network\n",
        "for param in model.parameters():\n",
        "    param.requires_grad = False\n",
        "\n",
        "#print the model to check the classifer and change it\n",
        "print (model.classifier)"
      ],
      "execution_count": 8,
      "outputs": [
        {
          "output_type": "stream",
          "name": "stderr",
          "text": [
            "/usr/local/lib/python3.10/dist-packages/torchvision/models/_utils.py:208: UserWarning: The parameter 'pretrained' is deprecated since 0.13 and may be removed in the future, please use 'weights' instead.\n",
            "  warnings.warn(\n",
            "/usr/local/lib/python3.10/dist-packages/torchvision/models/_utils.py:223: UserWarning: Arguments other than a weight enum or `None` for 'weights' are deprecated since 0.13 and may be removed in the future. The current behavior is equivalent to passing `weights=MobileNet_V2_Weights.IMAGENET1K_V1`. You can also use `weights=MobileNet_V2_Weights.DEFAULT` to get the most up-to-date weights.\n",
            "  warnings.warn(msg)\n",
            "Downloading: \"https://download.pytorch.org/models/mobilenet_v2-b0353104.pth\" to /root/.cache/torch/hub/checkpoints/mobilenet_v2-b0353104.pth\n",
            "100%|██████████| 13.6M/13.6M [00:00<00:00, 125MB/s]"
          ]
        },
        {
          "output_type": "stream",
          "name": "stdout",
          "text": [
            "Sequential(\n",
            "  (0): Dropout(p=0.2, inplace=False)\n",
            "  (1): Linear(in_features=1280, out_features=1000, bias=True)\n",
            ")\n"
          ]
        },
        {
          "output_type": "stream",
          "name": "stderr",
          "text": [
            "\n"
          ]
        }
      ]
    },
    {
      "metadata": {
        "id": "ESWNtEZn3iHF"
      },
      "cell_type": "markdown",
      "source": [
        "## 4.2. Choose which layers to train\n",
        "In the next cell, we will unfreeze some of the last blocks of our network and we will define our custom classifier to have 29 outputs then we will attach it to the model.  \n",
        "We will also choose the optimizer we want and define the learning rate for it."
      ]
    },
    {
      "metadata": {
        "id": "drBHDLF23iHF",
        "outputId": "68eaec4f-4cfc-4b16-eccd-ed7467925b1f",
        "colab": {
          "base_uri": "https://localhost:8080/"
        }
      },
      "cell_type": "code",
      "source": [
        "# define new classifier and append it to network but remember to have a 29-neuron output layer for our two classes.\n",
        "model.classifier= nn.Sequential(nn.Dropout(p=0.6, inplace=False),\n",
        "                                nn.Linear(in_features=1280, out_features=29, bias=True),\n",
        "                                nn.LogSoftmax(dim=1))\n",
        "\n",
        "# unlock last three blocks before the classifier(last layer).\n",
        "for p in model.features[-3:].parameters():\n",
        "    p.requires_grad = True\n",
        "\n",
        "\n",
        "# choose your loss function\n",
        "criterion = nn.NLLLoss()\n",
        "\n",
        "# define optimizer to train only the classifier and the previous three block.\n",
        "optimizer = optim.Adam([{'params':model.features[-1].parameters()},\n",
        "                        {'params':model.features[-2].parameters()},\n",
        "                        {'params':model.features[-3].parameters()},\n",
        "                        {'params':model.classifier.parameters()}], lr=0.0005)\n",
        "\n",
        "# define Learning Rate scheduler to decrease the learning rate by multiplying it by 0.1 after each epoch on the data.\n",
        "scheduler = torch.optim.lr_scheduler.StepLR(optimizer, step_size=1, gamma=0.1)\n",
        "\n",
        "#print the classifier now\n",
        "print(model.classifier)\n",
        "\n",
        "#print the whole model\n",
        "# print(model)\n"
      ],
      "execution_count": 9,
      "outputs": [
        {
          "output_type": "stream",
          "name": "stdout",
          "text": [
            "Sequential(\n",
            "  (0): Dropout(p=0.6, inplace=False)\n",
            "  (1): Linear(in_features=1280, out_features=29, bias=True)\n",
            "  (2): LogSoftmax(dim=1)\n",
            ")\n"
          ]
        }
      ]
    },
    {
      "cell_type": "markdown",
      "source": [
        "Load the weights of the trained model"
      ],
      "metadata": {
        "id": "62-UjdEFhYBh"
      }
    },
    {
      "cell_type": "code",
      "source": [
        "!git clone https://github.com/lizjwh/groupIAI_5take2\n",
        "device = torch.device(\"cuda\")\n",
        "model.load_state_dict(torch.load('groupIAI_5take2/new_model3.pth'))\n",
        "model.to(device)\n",
        "model.eval()"
      ],
      "metadata": {
        "colab": {
          "base_uri": "https://localhost:8080/"
        },
        "id": "Et-Ot4pZhV-i",
        "outputId": "ef7cc8d4-4fc1-4679-a043-cc8e87f29a5e"
      },
      "execution_count": 10,
      "outputs": [
        {
          "output_type": "stream",
          "name": "stdout",
          "text": [
            "Cloning into 'groupIAI_5take2'...\n",
            "remote: Enumerating objects: 540, done.\u001b[K\n",
            "remote: Counting objects: 100% (88/88), done.\u001b[K\n",
            "remote: Compressing objects: 100% (63/63), done.\u001b[K\n",
            "remote: Total 540 (delta 49), reused 40 (delta 25), pack-reused 452\u001b[K\n",
            "Receiving objects: 100% (540/540), 204.94 MiB | 33.52 MiB/s, done.\n",
            "Resolving deltas: 100% (272/272), done.\n",
            "Updating files: 100% (65/65), done.\n"
          ]
        },
        {
          "output_type": "execute_result",
          "data": {
            "text/plain": [
              "MobileNetV2(\n",
              "  (features): Sequential(\n",
              "    (0): Conv2dNormActivation(\n",
              "      (0): Conv2d(3, 32, kernel_size=(3, 3), stride=(2, 2), padding=(1, 1), bias=False)\n",
              "      (1): BatchNorm2d(32, eps=1e-05, momentum=0.1, affine=True, track_running_stats=True)\n",
              "      (2): ReLU6(inplace=True)\n",
              "    )\n",
              "    (1): InvertedResidual(\n",
              "      (conv): Sequential(\n",
              "        (0): Conv2dNormActivation(\n",
              "          (0): Conv2d(32, 32, kernel_size=(3, 3), stride=(1, 1), padding=(1, 1), groups=32, bias=False)\n",
              "          (1): BatchNorm2d(32, eps=1e-05, momentum=0.1, affine=True, track_running_stats=True)\n",
              "          (2): ReLU6(inplace=True)\n",
              "        )\n",
              "        (1): Conv2d(32, 16, kernel_size=(1, 1), stride=(1, 1), bias=False)\n",
              "        (2): BatchNorm2d(16, eps=1e-05, momentum=0.1, affine=True, track_running_stats=True)\n",
              "      )\n",
              "    )\n",
              "    (2): InvertedResidual(\n",
              "      (conv): Sequential(\n",
              "        (0): Conv2dNormActivation(\n",
              "          (0): Conv2d(16, 96, kernel_size=(1, 1), stride=(1, 1), bias=False)\n",
              "          (1): BatchNorm2d(96, eps=1e-05, momentum=0.1, affine=True, track_running_stats=True)\n",
              "          (2): ReLU6(inplace=True)\n",
              "        )\n",
              "        (1): Conv2dNormActivation(\n",
              "          (0): Conv2d(96, 96, kernel_size=(3, 3), stride=(2, 2), padding=(1, 1), groups=96, bias=False)\n",
              "          (1): BatchNorm2d(96, eps=1e-05, momentum=0.1, affine=True, track_running_stats=True)\n",
              "          (2): ReLU6(inplace=True)\n",
              "        )\n",
              "        (2): Conv2d(96, 24, kernel_size=(1, 1), stride=(1, 1), bias=False)\n",
              "        (3): BatchNorm2d(24, eps=1e-05, momentum=0.1, affine=True, track_running_stats=True)\n",
              "      )\n",
              "    )\n",
              "    (3): InvertedResidual(\n",
              "      (conv): Sequential(\n",
              "        (0): Conv2dNormActivation(\n",
              "          (0): Conv2d(24, 144, kernel_size=(1, 1), stride=(1, 1), bias=False)\n",
              "          (1): BatchNorm2d(144, eps=1e-05, momentum=0.1, affine=True, track_running_stats=True)\n",
              "          (2): ReLU6(inplace=True)\n",
              "        )\n",
              "        (1): Conv2dNormActivation(\n",
              "          (0): Conv2d(144, 144, kernel_size=(3, 3), stride=(1, 1), padding=(1, 1), groups=144, bias=False)\n",
              "          (1): BatchNorm2d(144, eps=1e-05, momentum=0.1, affine=True, track_running_stats=True)\n",
              "          (2): ReLU6(inplace=True)\n",
              "        )\n",
              "        (2): Conv2d(144, 24, kernel_size=(1, 1), stride=(1, 1), bias=False)\n",
              "        (3): BatchNorm2d(24, eps=1e-05, momentum=0.1, affine=True, track_running_stats=True)\n",
              "      )\n",
              "    )\n",
              "    (4): InvertedResidual(\n",
              "      (conv): Sequential(\n",
              "        (0): Conv2dNormActivation(\n",
              "          (0): Conv2d(24, 144, kernel_size=(1, 1), stride=(1, 1), bias=False)\n",
              "          (1): BatchNorm2d(144, eps=1e-05, momentum=0.1, affine=True, track_running_stats=True)\n",
              "          (2): ReLU6(inplace=True)\n",
              "        )\n",
              "        (1): Conv2dNormActivation(\n",
              "          (0): Conv2d(144, 144, kernel_size=(3, 3), stride=(2, 2), padding=(1, 1), groups=144, bias=False)\n",
              "          (1): BatchNorm2d(144, eps=1e-05, momentum=0.1, affine=True, track_running_stats=True)\n",
              "          (2): ReLU6(inplace=True)\n",
              "        )\n",
              "        (2): Conv2d(144, 32, kernel_size=(1, 1), stride=(1, 1), bias=False)\n",
              "        (3): BatchNorm2d(32, eps=1e-05, momentum=0.1, affine=True, track_running_stats=True)\n",
              "      )\n",
              "    )\n",
              "    (5): InvertedResidual(\n",
              "      (conv): Sequential(\n",
              "        (0): Conv2dNormActivation(\n",
              "          (0): Conv2d(32, 192, kernel_size=(1, 1), stride=(1, 1), bias=False)\n",
              "          (1): BatchNorm2d(192, eps=1e-05, momentum=0.1, affine=True, track_running_stats=True)\n",
              "          (2): ReLU6(inplace=True)\n",
              "        )\n",
              "        (1): Conv2dNormActivation(\n",
              "          (0): Conv2d(192, 192, kernel_size=(3, 3), stride=(1, 1), padding=(1, 1), groups=192, bias=False)\n",
              "          (1): BatchNorm2d(192, eps=1e-05, momentum=0.1, affine=True, track_running_stats=True)\n",
              "          (2): ReLU6(inplace=True)\n",
              "        )\n",
              "        (2): Conv2d(192, 32, kernel_size=(1, 1), stride=(1, 1), bias=False)\n",
              "        (3): BatchNorm2d(32, eps=1e-05, momentum=0.1, affine=True, track_running_stats=True)\n",
              "      )\n",
              "    )\n",
              "    (6): InvertedResidual(\n",
              "      (conv): Sequential(\n",
              "        (0): Conv2dNormActivation(\n",
              "          (0): Conv2d(32, 192, kernel_size=(1, 1), stride=(1, 1), bias=False)\n",
              "          (1): BatchNorm2d(192, eps=1e-05, momentum=0.1, affine=True, track_running_stats=True)\n",
              "          (2): ReLU6(inplace=True)\n",
              "        )\n",
              "        (1): Conv2dNormActivation(\n",
              "          (0): Conv2d(192, 192, kernel_size=(3, 3), stride=(1, 1), padding=(1, 1), groups=192, bias=False)\n",
              "          (1): BatchNorm2d(192, eps=1e-05, momentum=0.1, affine=True, track_running_stats=True)\n",
              "          (2): ReLU6(inplace=True)\n",
              "        )\n",
              "        (2): Conv2d(192, 32, kernel_size=(1, 1), stride=(1, 1), bias=False)\n",
              "        (3): BatchNorm2d(32, eps=1e-05, momentum=0.1, affine=True, track_running_stats=True)\n",
              "      )\n",
              "    )\n",
              "    (7): InvertedResidual(\n",
              "      (conv): Sequential(\n",
              "        (0): Conv2dNormActivation(\n",
              "          (0): Conv2d(32, 192, kernel_size=(1, 1), stride=(1, 1), bias=False)\n",
              "          (1): BatchNorm2d(192, eps=1e-05, momentum=0.1, affine=True, track_running_stats=True)\n",
              "          (2): ReLU6(inplace=True)\n",
              "        )\n",
              "        (1): Conv2dNormActivation(\n",
              "          (0): Conv2d(192, 192, kernel_size=(3, 3), stride=(2, 2), padding=(1, 1), groups=192, bias=False)\n",
              "          (1): BatchNorm2d(192, eps=1e-05, momentum=0.1, affine=True, track_running_stats=True)\n",
              "          (2): ReLU6(inplace=True)\n",
              "        )\n",
              "        (2): Conv2d(192, 64, kernel_size=(1, 1), stride=(1, 1), bias=False)\n",
              "        (3): BatchNorm2d(64, eps=1e-05, momentum=0.1, affine=True, track_running_stats=True)\n",
              "      )\n",
              "    )\n",
              "    (8): InvertedResidual(\n",
              "      (conv): Sequential(\n",
              "        (0): Conv2dNormActivation(\n",
              "          (0): Conv2d(64, 384, kernel_size=(1, 1), stride=(1, 1), bias=False)\n",
              "          (1): BatchNorm2d(384, eps=1e-05, momentum=0.1, affine=True, track_running_stats=True)\n",
              "          (2): ReLU6(inplace=True)\n",
              "        )\n",
              "        (1): Conv2dNormActivation(\n",
              "          (0): Conv2d(384, 384, kernel_size=(3, 3), stride=(1, 1), padding=(1, 1), groups=384, bias=False)\n",
              "          (1): BatchNorm2d(384, eps=1e-05, momentum=0.1, affine=True, track_running_stats=True)\n",
              "          (2): ReLU6(inplace=True)\n",
              "        )\n",
              "        (2): Conv2d(384, 64, kernel_size=(1, 1), stride=(1, 1), bias=False)\n",
              "        (3): BatchNorm2d(64, eps=1e-05, momentum=0.1, affine=True, track_running_stats=True)\n",
              "      )\n",
              "    )\n",
              "    (9): InvertedResidual(\n",
              "      (conv): Sequential(\n",
              "        (0): Conv2dNormActivation(\n",
              "          (0): Conv2d(64, 384, kernel_size=(1, 1), stride=(1, 1), bias=False)\n",
              "          (1): BatchNorm2d(384, eps=1e-05, momentum=0.1, affine=True, track_running_stats=True)\n",
              "          (2): ReLU6(inplace=True)\n",
              "        )\n",
              "        (1): Conv2dNormActivation(\n",
              "          (0): Conv2d(384, 384, kernel_size=(3, 3), stride=(1, 1), padding=(1, 1), groups=384, bias=False)\n",
              "          (1): BatchNorm2d(384, eps=1e-05, momentum=0.1, affine=True, track_running_stats=True)\n",
              "          (2): ReLU6(inplace=True)\n",
              "        )\n",
              "        (2): Conv2d(384, 64, kernel_size=(1, 1), stride=(1, 1), bias=False)\n",
              "        (3): BatchNorm2d(64, eps=1e-05, momentum=0.1, affine=True, track_running_stats=True)\n",
              "      )\n",
              "    )\n",
              "    (10): InvertedResidual(\n",
              "      (conv): Sequential(\n",
              "        (0): Conv2dNormActivation(\n",
              "          (0): Conv2d(64, 384, kernel_size=(1, 1), stride=(1, 1), bias=False)\n",
              "          (1): BatchNorm2d(384, eps=1e-05, momentum=0.1, affine=True, track_running_stats=True)\n",
              "          (2): ReLU6(inplace=True)\n",
              "        )\n",
              "        (1): Conv2dNormActivation(\n",
              "          (0): Conv2d(384, 384, kernel_size=(3, 3), stride=(1, 1), padding=(1, 1), groups=384, bias=False)\n",
              "          (1): BatchNorm2d(384, eps=1e-05, momentum=0.1, affine=True, track_running_stats=True)\n",
              "          (2): ReLU6(inplace=True)\n",
              "        )\n",
              "        (2): Conv2d(384, 64, kernel_size=(1, 1), stride=(1, 1), bias=False)\n",
              "        (3): BatchNorm2d(64, eps=1e-05, momentum=0.1, affine=True, track_running_stats=True)\n",
              "      )\n",
              "    )\n",
              "    (11): InvertedResidual(\n",
              "      (conv): Sequential(\n",
              "        (0): Conv2dNormActivation(\n",
              "          (0): Conv2d(64, 384, kernel_size=(1, 1), stride=(1, 1), bias=False)\n",
              "          (1): BatchNorm2d(384, eps=1e-05, momentum=0.1, affine=True, track_running_stats=True)\n",
              "          (2): ReLU6(inplace=True)\n",
              "        )\n",
              "        (1): Conv2dNormActivation(\n",
              "          (0): Conv2d(384, 384, kernel_size=(3, 3), stride=(1, 1), padding=(1, 1), groups=384, bias=False)\n",
              "          (1): BatchNorm2d(384, eps=1e-05, momentum=0.1, affine=True, track_running_stats=True)\n",
              "          (2): ReLU6(inplace=True)\n",
              "        )\n",
              "        (2): Conv2d(384, 96, kernel_size=(1, 1), stride=(1, 1), bias=False)\n",
              "        (3): BatchNorm2d(96, eps=1e-05, momentum=0.1, affine=True, track_running_stats=True)\n",
              "      )\n",
              "    )\n",
              "    (12): InvertedResidual(\n",
              "      (conv): Sequential(\n",
              "        (0): Conv2dNormActivation(\n",
              "          (0): Conv2d(96, 576, kernel_size=(1, 1), stride=(1, 1), bias=False)\n",
              "          (1): BatchNorm2d(576, eps=1e-05, momentum=0.1, affine=True, track_running_stats=True)\n",
              "          (2): ReLU6(inplace=True)\n",
              "        )\n",
              "        (1): Conv2dNormActivation(\n",
              "          (0): Conv2d(576, 576, kernel_size=(3, 3), stride=(1, 1), padding=(1, 1), groups=576, bias=False)\n",
              "          (1): BatchNorm2d(576, eps=1e-05, momentum=0.1, affine=True, track_running_stats=True)\n",
              "          (2): ReLU6(inplace=True)\n",
              "        )\n",
              "        (2): Conv2d(576, 96, kernel_size=(1, 1), stride=(1, 1), bias=False)\n",
              "        (3): BatchNorm2d(96, eps=1e-05, momentum=0.1, affine=True, track_running_stats=True)\n",
              "      )\n",
              "    )\n",
              "    (13): InvertedResidual(\n",
              "      (conv): Sequential(\n",
              "        (0): Conv2dNormActivation(\n",
              "          (0): Conv2d(96, 576, kernel_size=(1, 1), stride=(1, 1), bias=False)\n",
              "          (1): BatchNorm2d(576, eps=1e-05, momentum=0.1, affine=True, track_running_stats=True)\n",
              "          (2): ReLU6(inplace=True)\n",
              "        )\n",
              "        (1): Conv2dNormActivation(\n",
              "          (0): Conv2d(576, 576, kernel_size=(3, 3), stride=(1, 1), padding=(1, 1), groups=576, bias=False)\n",
              "          (1): BatchNorm2d(576, eps=1e-05, momentum=0.1, affine=True, track_running_stats=True)\n",
              "          (2): ReLU6(inplace=True)\n",
              "        )\n",
              "        (2): Conv2d(576, 96, kernel_size=(1, 1), stride=(1, 1), bias=False)\n",
              "        (3): BatchNorm2d(96, eps=1e-05, momentum=0.1, affine=True, track_running_stats=True)\n",
              "      )\n",
              "    )\n",
              "    (14): InvertedResidual(\n",
              "      (conv): Sequential(\n",
              "        (0): Conv2dNormActivation(\n",
              "          (0): Conv2d(96, 576, kernel_size=(1, 1), stride=(1, 1), bias=False)\n",
              "          (1): BatchNorm2d(576, eps=1e-05, momentum=0.1, affine=True, track_running_stats=True)\n",
              "          (2): ReLU6(inplace=True)\n",
              "        )\n",
              "        (1): Conv2dNormActivation(\n",
              "          (0): Conv2d(576, 576, kernel_size=(3, 3), stride=(2, 2), padding=(1, 1), groups=576, bias=False)\n",
              "          (1): BatchNorm2d(576, eps=1e-05, momentum=0.1, affine=True, track_running_stats=True)\n",
              "          (2): ReLU6(inplace=True)\n",
              "        )\n",
              "        (2): Conv2d(576, 160, kernel_size=(1, 1), stride=(1, 1), bias=False)\n",
              "        (3): BatchNorm2d(160, eps=1e-05, momentum=0.1, affine=True, track_running_stats=True)\n",
              "      )\n",
              "    )\n",
              "    (15): InvertedResidual(\n",
              "      (conv): Sequential(\n",
              "        (0): Conv2dNormActivation(\n",
              "          (0): Conv2d(160, 960, kernel_size=(1, 1), stride=(1, 1), bias=False)\n",
              "          (1): BatchNorm2d(960, eps=1e-05, momentum=0.1, affine=True, track_running_stats=True)\n",
              "          (2): ReLU6(inplace=True)\n",
              "        )\n",
              "        (1): Conv2dNormActivation(\n",
              "          (0): Conv2d(960, 960, kernel_size=(3, 3), stride=(1, 1), padding=(1, 1), groups=960, bias=False)\n",
              "          (1): BatchNorm2d(960, eps=1e-05, momentum=0.1, affine=True, track_running_stats=True)\n",
              "          (2): ReLU6(inplace=True)\n",
              "        )\n",
              "        (2): Conv2d(960, 160, kernel_size=(1, 1), stride=(1, 1), bias=False)\n",
              "        (3): BatchNorm2d(160, eps=1e-05, momentum=0.1, affine=True, track_running_stats=True)\n",
              "      )\n",
              "    )\n",
              "    (16): InvertedResidual(\n",
              "      (conv): Sequential(\n",
              "        (0): Conv2dNormActivation(\n",
              "          (0): Conv2d(160, 960, kernel_size=(1, 1), stride=(1, 1), bias=False)\n",
              "          (1): BatchNorm2d(960, eps=1e-05, momentum=0.1, affine=True, track_running_stats=True)\n",
              "          (2): ReLU6(inplace=True)\n",
              "        )\n",
              "        (1): Conv2dNormActivation(\n",
              "          (0): Conv2d(960, 960, kernel_size=(3, 3), stride=(1, 1), padding=(1, 1), groups=960, bias=False)\n",
              "          (1): BatchNorm2d(960, eps=1e-05, momentum=0.1, affine=True, track_running_stats=True)\n",
              "          (2): ReLU6(inplace=True)\n",
              "        )\n",
              "        (2): Conv2d(960, 160, kernel_size=(1, 1), stride=(1, 1), bias=False)\n",
              "        (3): BatchNorm2d(160, eps=1e-05, momentum=0.1, affine=True, track_running_stats=True)\n",
              "      )\n",
              "    )\n",
              "    (17): InvertedResidual(\n",
              "      (conv): Sequential(\n",
              "        (0): Conv2dNormActivation(\n",
              "          (0): Conv2d(160, 960, kernel_size=(1, 1), stride=(1, 1), bias=False)\n",
              "          (1): BatchNorm2d(960, eps=1e-05, momentum=0.1, affine=True, track_running_stats=True)\n",
              "          (2): ReLU6(inplace=True)\n",
              "        )\n",
              "        (1): Conv2dNormActivation(\n",
              "          (0): Conv2d(960, 960, kernel_size=(3, 3), stride=(1, 1), padding=(1, 1), groups=960, bias=False)\n",
              "          (1): BatchNorm2d(960, eps=1e-05, momentum=0.1, affine=True, track_running_stats=True)\n",
              "          (2): ReLU6(inplace=True)\n",
              "        )\n",
              "        (2): Conv2d(960, 320, kernel_size=(1, 1), stride=(1, 1), bias=False)\n",
              "        (3): BatchNorm2d(320, eps=1e-05, momentum=0.1, affine=True, track_running_stats=True)\n",
              "      )\n",
              "    )\n",
              "    (18): Conv2dNormActivation(\n",
              "      (0): Conv2d(320, 1280, kernel_size=(1, 1), stride=(1, 1), bias=False)\n",
              "      (1): BatchNorm2d(1280, eps=1e-05, momentum=0.1, affine=True, track_running_stats=True)\n",
              "      (2): ReLU6(inplace=True)\n",
              "    )\n",
              "  )\n",
              "  (classifier): Sequential(\n",
              "    (0): Dropout(p=0.6, inplace=False)\n",
              "    (1): Linear(in_features=1280, out_features=29, bias=True)\n",
              "    (2): LogSoftmax(dim=1)\n",
              "  )\n",
              ")"
            ]
          },
          "metadata": {},
          "execution_count": 10
        }
      ]
    },
    {
      "cell_type": "markdown",
      "source": [
        "#Confusion Matrix\n",
        "https://towardsdatascience.com/understanding-confusion-matrix-a9ad42dcfd62"
      ],
      "metadata": {
        "id": "1h4QV1fMB7x7"
      }
    },
    {
      "cell_type": "code",
      "source": [
        "from sklearn.metrics import confusion_matrix\n",
        "import seaborn as sn\n",
        "import pandas as pd\n",
        "import matplotlib.pyplot as plt"
      ],
      "metadata": {
        "id": "A2v8lqXs0e6y"
      },
      "execution_count": 11,
      "outputs": []
    },
    {
      "cell_type": "code",
      "source": [
        "def test(classes, test_loader):\n",
        "    pred = []\n",
        "    true = []\n",
        "\n",
        "    with torch.no_grad():\n",
        "        # Iterate through all batches in the test_loader\n",
        "        for images, labels in test_loader:\n",
        "            images = images.to(device)\n",
        "            labels = labels.to(device)\n",
        "\n",
        "            # Forward pass through the model\n",
        "            outputs = model(images)\n",
        "            _, predicted = torch.max(outputs, 1)\n",
        "\n",
        "            # Convert predicted and true labels to class names\n",
        "            try:\n",
        "                pred.extend([classes[label.item()] for label in predicted])\n",
        "                true.extend([classes[label.item()] for label in labels])\n",
        "                #print(pred, true)\n",
        "            except KeyError as e:\n",
        "                print(f\"Error: {e} not found in classes dictionary.\")\n",
        "                print(f\"Problematic labels: {predicted}, {labels}\")\n",
        "\n",
        "    return pred, true\n",
        "\n",
        "#invert class_to_idx keys to values and vice versa.\n",
        "classes = combined_test_dataset.class_to_idx\n",
        "classes = {value: key for key, value in classes.items()}\n",
        "\n",
        "pred, true = test(classes, test_loader)\n",
        "print(pred, true)"
      ],
      "metadata": {
        "id": "6qpAVI4GQ7ky",
        "outputId": "40572d3b-8aed-4298-9c24-5887b42e303b",
        "colab": {
          "base_uri": "https://localhost:8080/"
        }
      },
      "execution_count": 14,
      "outputs": [
        {
          "output_type": "stream",
          "name": "stdout",
          "text": [
            "['A', 'A', 'I', 'A', 'A', 'H', 'W', 'W', 'W', 'B', 'Space', 'N', 'C', 'X', 'O', 'J', 'E', 'E', 'R', 'B', 'B', 'A', 'E', 'E', 'E', 'B', 'R', 'W', 'F', 'F', 'X', 'C', 'C', 'P', 'G', 'V', 'W', 'H', 'H', 'H', 'A', 'B', 'Y', 'Y', 'Space', 'J', 'W', 'E', 'J', 'Y', 'B', 'W', 'V', 'K', 'V', 'J', 'L', 'L', 'L', 'Y', 'M', 'M', 'M', 'M', 'M', 'M', 'M', 'N', 'N', 'N', 'O', 'O', 'O', 'O', 'C', 'X', 'K', 'P', 'P', 'P', 'P', 'C', 'Q', 'Q', 'N', 'B', 'R', 'R', 'V', 'R', 'E', 'E', 'A', 'E', 'O', 'Space', 'O', 'T', 'B', 'Y', 'T', 'T', 'Y', 'B', 'W', 'R', 'E', 'R', 'H', 'W', 'V', 'V', 'K', 'W', 'W', 'W', 'V', 'B', 'Space', 'X', 'X', 'G', 'X', 'T', 'W', 'T', 'T', 'T', 'R', 'W', 'P', 'X', 'E', 'A', 'A', 'S', 'A', 'A', 'A', 'B', 'B', 'W', 'B', 'P', 'Space', 'C', 'C', 'C', 'J', 'F', 'D', 'I', 'E', 'A', 'A', 'A', 'E', 'S', 'B', 'F', 'R', 'F', 'S', 'Q', 'P', 'G', 'G', 'G', 'M', 'N', 'H', 'H', 'H', 'A', 'E', 'A', 'Y', 'T', 'J', 'T', 'W', 'J', 'Y', 'H', 'V', 'U', 'W', 'W', 'L', 'L', 'L', 'L', 'L', 'M', 'M', 'N', 'M', 'M', 'M', 'M', 'N', 'Q', 'M', 'O', 'O', 'O', 'C', 'C', 'Q', 'P', 'P', 'M', 'G', 'M', 'N', 'P', 'Q', 'Q', 'B', 'R', 'V', 'R', 'D', 'E', 'E', 'A', 'E', 'A', 'Space', 'Z', 'Space', 'Space', 'Space', 'Y', 'V', 'T', 'T', 'T', 'H', 'V', 'R', 'B', 'U', 'H', 'W', 'V', 'V', 'V', 'H', 'W', 'W', 'W', 'W', 'P', 'C', 'C', 'X', 'C', 'J', 'T', 'Y', 'Y', 'I', 'H', 'Z', 'Z', 'V', 'V', 'A', 'E', 'A', 'A', 'A', 'H', 'W', 'B', 'B', 'B', 'Space', 'C', 'C', 'Y', 'R', 'R', 'Y', 'V', 'B', 'E', 'E', 'E', 'H', 'B', 'C', 'W', 'I', 'C', 'P', 'G', 'G', 'G', 'W', 'U', 'H', 'H', 'H', 'J', 'F', 'I', 'A', 'L', 'V', 'R', 'J', 'J', 'Y', 'J', 'V', 'W', 'K', 'C', 'L', 'L', 'L', 'W', 'M', 'M', 'N', 'M', 'M', 'M', 'N', 'N', 'N', 'M', 'O', 'O', 'O', 'C', 'X', 'V', 'P', 'P', 'G', 'C', 'X', 'Q', 'R', 'W', 'R', 'R', 'Space', 'A', 'E', 'E', 'E', 'A', 'C', 'Space', 'Space', 'Space', 'Space', 'A', 'E', 'T', 'T', 'T', 'B', 'B', 'U', 'U', 'R', 'V', 'V', 'V', 'V', 'V', 'H', 'W', 'W', 'W', 'V', 'X', 'C', 'C', 'X', 'Space', 'Z', 'Y', 'Y', 'T', 'Y', 'W', 'Y', 'G', 'Z', 'V', 'A', 'A', 'A', 'A', 'B', 'B', 'C', 'C', 'C', 'C', 'P', 'V', 'V', 'R', 'D', 'R', 'A', 'A', 'A', 'A', 'E', 'Y', 'R', 'K', 'W', 'G', 'X', 'Q', 'P', 'G', 'M', 'H', 'Q', 'H', 'H', 'A', 'I', 'O', 'A', 'R', 'J', 'W', 'B', 'A', 'J', 'V', 'V', 'H', 'V', 'B', 'L', 'L', 'V', 'Space', 'L', 'M', 'M', 'H', 'M', 'N', 'N', 'N', 'H', 'N', 'N', 'O', 'O', 'O', 'O', 'O', 'P', 'P', 'Q', 'P', 'G', 'Q', 'Q', 'C', 'Q', 'P', 'E', 'V', 'B', 'Y', 'R', 'A', 'A', 'E', 'S', 'A', 'Space', 'Space', 'Space', 'Y', 'Space', 'T', 'Y', 'L', 'T', 'T', 'B', 'U', 'H', 'W', 'U', 'V', 'V', 'W', 'V', 'V', 'W', 'W', 'W', 'W', 'W', 'A', 'X', 'Q', 'X', 'X', 'Y', 'Y', 'B', 'Y', 'Space', 'Z', 'V', 'V', 'Z', 'Z'] ['A', 'A', 'A', 'A', 'A', 'B', 'B', 'B', 'B', 'B', 'C', 'C', 'C', 'C', 'C', 'D', 'D', 'D', 'D', 'D', 'E', 'E', 'E', 'E', 'E', 'F', 'F', 'F', 'F', 'F', 'G', 'G', 'G', 'G', 'G', 'H', 'H', 'H', 'H', 'H', 'I', 'I', 'I', 'I', 'I', 'J', 'J', 'J', 'J', 'J', 'K', 'K', 'K', 'K', 'K', 'L', 'L', 'L', 'L', 'L', 'M', 'M', 'M', 'M', 'M', 'N', 'N', 'N', 'N', 'N', 'O', 'O', 'O', 'O', 'O', 'P', 'P', 'P', 'P', 'P', 'Q', 'Q', 'Q', 'Q', 'Q', 'R', 'R', 'R', 'R', 'R', 'S', 'S', 'S', 'S', 'S', 'Space', 'Space', 'Space', 'T', 'T', 'T', 'T', 'T', 'U', 'U', 'U', 'U', 'U', 'V', 'V', 'V', 'V', 'V', 'W', 'W', 'W', 'W', 'W', 'X', 'X', 'X', 'X', 'X', 'Y', 'Y', 'Y', 'Y', 'Y', 'Z', 'Z', 'Z', 'Z', 'A', 'A', 'A', 'A', 'A', 'A', 'B', 'B', 'B', 'B', 'B', 'C', 'C', 'C', 'C', 'C', 'D', 'D', 'D', 'D', 'D', 'E', 'E', 'E', 'E', 'E', 'F', 'F', 'F', 'F', 'F', 'G', 'G', 'G', 'G', 'G', 'H', 'H', 'H', 'H', 'H', 'I', 'I', 'I', 'I', 'I', 'J', 'J', 'J', 'J', 'J', 'K', 'K', 'K', 'K', 'K', 'L', 'L', 'L', 'L', 'L', 'M', 'M', 'M', 'M', 'M', 'N', 'N', 'N', 'N', 'N', 'O', 'O', 'O', 'O', 'O', 'P', 'P', 'P', 'P', 'P', 'Q', 'Q', 'Q', 'Q', 'Q', 'R', 'R', 'R', 'R', 'R', 'S', 'S', 'S', 'S', 'S', 'Space', 'Space', 'Space', 'Space', 'Space', 'T', 'T', 'T', 'T', 'T', 'U', 'U', 'U', 'U', 'U', 'V', 'V', 'V', 'V', 'V', 'W', 'W', 'W', 'W', 'W', 'X', 'X', 'X', 'X', 'X', 'Y', 'Y', 'Y', 'Y', 'Y', 'Z', 'Z', 'Z', 'Z', 'Z', 'A', 'A', 'A', 'A', 'A', 'B', 'B', 'B', 'B', 'B', 'C', 'C', 'C', 'D', 'D', 'D', 'D', 'D', 'E', 'E', 'E', 'E', 'F', 'F', 'F', 'F', 'F', 'G', 'G', 'G', 'G', 'G', 'H', 'H', 'H', 'H', 'H', 'I', 'I', 'I', 'I', 'I', 'J', 'J', 'J', 'J', 'J', 'K', 'K', 'K', 'K', 'L', 'L', 'L', 'L', 'M', 'M', 'M', 'M', 'M', 'N', 'N', 'N', 'N', 'N', 'O', 'O', 'O', 'O', 'O', 'P', 'P', 'P', 'P', 'P', 'Q', 'Q', 'Q', 'R', 'R', 'R', 'R', 'R', 'S', 'S', 'S', 'S', 'S', 'Space', 'Space', 'Space', 'Space', 'Space', 'T', 'T', 'T', 'T', 'T', 'U', 'U', 'U', 'U', 'U', 'V', 'V', 'V', 'V', 'V', 'W', 'W', 'W', 'W', 'W', 'X', 'X', 'X', 'X', 'X', 'Y', 'Y', 'Y', 'Y', 'Y', 'Z', 'Z', 'Z', 'Z', 'Z', 'A', 'A', 'A', 'B', 'B', 'B', 'C', 'C', 'C', 'C', 'C', 'D', 'D', 'D', 'D', 'D', 'E', 'E', 'E', 'E', 'E', 'F', 'F', 'F', 'F', 'G', 'G', 'G', 'G', 'G', 'H', 'H', 'H', 'H', 'H', 'I', 'I', 'I', 'I', 'I', 'J', 'J', 'J', 'J', 'J', 'K', 'K', 'K', 'K', 'K', 'L', 'L', 'L', 'L', 'L', 'M', 'M', 'M', 'M', 'M', 'N', 'N', 'N', 'N', 'N', 'O', 'O', 'O', 'O', 'O', 'P', 'P', 'P', 'P', 'P', 'Q', 'Q', 'Q', 'Q', 'Q', 'R', 'R', 'R', 'R', 'R', 'S', 'S', 'S', 'S', 'S', 'Space', 'Space', 'Space', 'Space', 'Space', 'T', 'T', 'T', 'T', 'T', 'U', 'U', 'U', 'U', 'U', 'V', 'V', 'V', 'V', 'V', 'W', 'W', 'W', 'W', 'W', 'X', 'X', 'X', 'X', 'X', 'Y', 'Y', 'Y', 'Y', 'Y', 'Z', 'Z', 'Z', 'Z', 'Z']\n"
          ]
        }
      ]
    },
    {
      "cell_type": "code",
      "source": [
        "from sklearn.metrics import confusion_matrix\n",
        "import seaborn as sn\n",
        "import pandas as pd\n",
        "\n",
        "def plotConfusionMatrix(pred, true, classes):\n",
        "    # Change classes dictionary to this format {'A': 'A', 'B': 'B', 'C': 'C'...} for labelling the axis later\n",
        "    classes = {value: value for key, value in classes.items()}\n",
        "\n",
        "    # Convert class_to_idx dictionary to list of class names\n",
        "    unique_classes = sorted(set(true + pred))\n",
        "\n",
        "    # Ensure that all classes are included, even if they are not present in the batch of data\n",
        "    all_classes = sorted(set(classes.values()))\n",
        "\n",
        "    # Create confusion matrix\n",
        "    cf_matrix = confusion_matrix(\n",
        "        [classes[label] for label in true],\n",
        "        [classes[label] for label in pred],\n",
        "        labels=all_classes\n",
        "    )\n",
        "\n",
        "    # Create DataFrame using class names for index and columns\n",
        "    df_cm = pd.DataFrame(cf_matrix, index=all_classes, columns=all_classes)\n",
        "\n",
        "    # Normalize the confusion matrix by row (i.e., by the number of true instances for each class)\n",
        "    df_cm = df_cm.div(df_cm.sum(axis=1), axis=0)\n",
        "\n",
        "    # Add 0s to empty cells\n",
        "    df_cm = df_cm.fillna(0)\n",
        "    #print(df_cm)\n",
        "\n",
        "    plt.figure(figsize=(12, 7))\n",
        "    print(classes)\n",
        "    sn.heatmap(df_cm, annot=True, fmt=\".1f\")  # Adjust fmt as needed for displaying float values\n",
        "    plt.xlabel('Predicted Label')\n",
        "    plt.ylabel('True Label')\n",
        "    plt.title('Normalised Confusion Matrix')\n",
        "    plt.show()\n",
        "\n",
        "# # #To run this cell independently you need these lines and some sample predictions\n",
        "# classes = combined_dataset.class_to_idx\n",
        "# classes = {value: key for key, value in classes.items()}\n",
        "# pred = ['A', 'M', 'K', 'I', 'Space', 'M', 'K', 'L', 'O', 'M', 'A', 'S', 'P', 'D', 'D', 'O', 'Space', 'A', 'B', 'V', 'Space', 'N', 'B', 'E', 'A', 'S', 'C', 'U', 'K', 'Z', 'X', 'Z', 'G', 'Z', 'J', 'A', 'X', 'G', 'A', 'Q', 'C', 'D', 'M', 'A', 'R', 'A', 'I', 'W', 'E', 'I', 'A', 'M', 'A', 'T', 'K', 'E', 'O', 'O', 'E', 'I', 'K', 'F', 'C', 'F', 'Z', 'E', 'E', 'S', 'J', 'Q', 'I', 'U', 'X', 'H', 'R', 'H', 'C', 'T', 'R', 'P', 'Space', 'I', 'J', 'B', 'N', 'H', 'M', 'Y', 'Y', 'E', 'G', 'O', 'Space', 'Space', 'C', 'G', 'T', 'V', 'M', 'J', 'A', 'W', 'G', 'P', 'H', 'Space', 'L', 'B', 'G', 'Y', 'Space', 'O', 'D', 'P', 'J', 'K', 'T', 'J', 'U', 'D', 'A', 'M', 'V', 'T', 'L', 'Q', 'L', 'C', 'E', 'T', 'H', 'R', 'I', 'R', 'R', 'N', 'C', 'Y', 'X', 'U', 'H', 'B', 'O', 'W', 'H', 'W', 'R', 'I', 'U', 'U', 'T', 'U', 'Q', 'J', 'M', 'F', 'X', 'R', 'Z', 'T', 'Q', 'R', 'Q', 'N', 'B', 'P', 'A', 'V', 'B', 'X', 'U', 'J', 'J', 'T', 'L', 'E', 'Space', 'C', 'E', 'D', 'T', 'E', 'U', 'N', 'O', 'T', 'R', 'E', 'G', 'J', 'Q', 'F', 'D', 'I', 'O', 'A', 'V', 'U', 'J', 'H', 'S', 'C', 'N', 'F', 'U', 'K', 'N', 'Space', 'H', 'E', 'W', 'L', 'F', 'Q', 'P', 'O', 'B', 'J', 'R', 'X', 'A', 'N', 'W', 'B', 'C', 'D', 'U', 'T', 'W', 'H', 'N', 'U', 'R', 'G', 'A', 'L', 'H', 'B', 'M', 'J', 'G', 'T', 'F', 'M', 'S', 'S', 'L', 'X', 'P', 'G', 'I', 'Q', 'R', 'J', 'P', 'Q', 'F', 'K', 'R', 'G', 'N', 'A', 'L', 'B', 'J', 'G', 'W', 'L', 'V', 'M', 'X', 'Y', 'J', 'P', 'L', 'A', 'F', 'V', 'S', 'Y', 'Z', 'R', 'Z', 'A', 'G', 'U', 'O', 'K', 'P', 'C', 'I', 'R', 'Y', 'C', 'B', 'W', 'J', 'I', 'R', 'B', 'P', 'Z', 'H', 'V', 'J', 'R', 'K', 'H', 'L', 'F', 'C', 'Q', 'G', 'V', 'Q', 'V', 'I', 'Q', 'F', 'N', 'Space', 'H', 'J', 'C', 'K', 'M', 'M', 'K', 'P', 'X', 'P', 'B', 'O', 'I', 'G', 'W', 'W', 'B', 'G', 'G', 'U', 'Space', 'M', 'I', 'I', 'O', 'P', 'D', 'C', 'A', 'E', 'R', 'Y', 'Space', 'I', 'M', 'V', 'R', 'Y', 'W', 'F', 'N', 'Y', 'I', 'T', 'F', 'E', 'X', 'N', 'R', 'S', 'Y', 'Z', 'R', 'X', 'T', 'P', 'B', 'E', 'K', 'K', 'M', 'S', 'F', 'H', 'Z', 'W', 'M', 'N', 'H', 'A', 'E', 'P', 'J', 'Z', 'Space', 'W', 'B', 'Y', 'C', 'T', 'Z', 'A', 'X', 'S', 'M', 'E', 'Z', 'T', 'P', 'Space', 'Z', 'H', 'V', 'Z', 'L', 'Y', 'E', 'C', 'E', 'Z', 'X', 'E', 'O', 'R', 'N', 'R', 'A', 'F', 'Y', 'Y', 'A', 'E', 'W', 'S', 'B', 'S', 'X', 'F', 'Y', 'Z', 'T', 'C', 'U', 'R', 'K', 'T', 'E', 'H', 'O', 'U', 'V', 'O', 'Z', 'D', 'M', 'Q', 'W', 'G', 'Z', 'W', 'H', 'V', 'N', 'T', 'N', 'Z', 'B', 'S', 'Space', 'Y', 'N', 'J', 'Space', 'G', 'E', 'O', 'K', 'A', 'I', 'R', 'E', 'H', 'S', 'Y', 'N', 'W', 'T', 'I', 'E', 'W', 'U', 'V', 'T', 'Q', 'V', 'P', 'P', 'A', 'H', 'S', 'W', 'U', 'S', 'T', 'O', 'O', 'B', 'F', 'T', 'V', 'J', 'Y', 'X', 'J', 'P', 'L', 'O', 'Q', 'F', 'P', 'U', 'G', 'X', 'Q', 'Y', 'Space', 'D', 'R', 'A', 'J', 'T', 'Z', 'Space', 'S', 'P', 'I', 'R', 'G', 'T', 'I', 'Q', 'Space', 'X', 'V', 'R', 'P', 'H', 'M', 'F', 'B', 'G', 'C', 'Q', 'P', 'Z', 'P', 'E', 'O', 'Z', 'P', 'Space', 'U', 'H', 'Y', 'Y', 'E', 'X', 'G', 'I', 'Z', 'U', 'M', 'Q', 'X', 'O', 'J', 'C', 'P', 'Y', 'O', 'G', 'Z', 'J', 'N', 'K', 'I', 'Y', 'I', 'C', 'K', 'Q', 'J', 'D', 'W', 'X', 'Y', 'F', 'U', 'S', 'U', 'F', 'K', 'Z', 'H', 'L', 'A', 'L', 'F', 'A', 'I', 'A', 'Z', 'L', 'B', 'L', 'F', 'R', 'A', 'B', 'Q', 'S', 'Space', 'W', 'P', 'D', 'G', 'R', 'U', 'L', 'I', 'E', 'N', 'S', 'A', 'D', 'H', 'X', 'A', 'W', 'Q', 'K', 'E', 'J', 'M', 'M', 'K', 'D', 'Space', 'Space', 'H', 'Y', 'C', 'E', 'D', 'B', 'S', 'J', 'T', 'U', 'T', 'W', 'A', 'H', 'T', 'J', 'J', 'D', 'N', 'M', 'A', 'O', 'D', 'V', 'Space', 'J', 'M', 'D', 'J', 'P', 'H', 'T', 'U', 'X', 'Z', 'Z', 'Space', 'B', 'H', 'L', 'D', 'N', 'C', 'P', 'D', 'Q', 'Space', 'C', 'V', 'F', 'U', 'I', 'T', 'X', 'D', 'A', 'K', 'O', 'S', 'N', 'I', 'Space', 'U', 'Q', 'Y', 'C', 'S', 'G', 'E', 'L', 'K', 'Y', 'S', 'G', 'A', 'N', 'S', 'Y', 'K', 'S', 'K', 'V', 'V', 'Y', 'H', 'I', 'K', 'M', 'C', 'T', 'C', 'B', 'X', 'L', 'K', 'H', 'U', 'W', 'D', 'T', 'W', 'E', 'W', 'H', 'J', 'E', 'K', 'X', 'V', 'U', 'C', 'T', 'S', 'N', 'Space', 'K', 'C', 'Space', 'A', 'E', 'B', 'D', 'Q', 'Z', 'X', 'C', 'F', 'Space', 'O', 'N', 'A', 'I', 'D', 'K', 'K', 'V', 'Z', 'M', 'Space', 'P', 'P', 'J', 'L', 'J', 'X', 'Z', 'M', 'G', 'L', 'M', 'O', 'D', 'Space', 'S', 'R', 'T', 'Space', 'X', 'R', 'N', 'X', 'F', 'B', 'I', 'I', 'L', 'X', 'X', 'D', 'H', 'A', 'D', 'C', 'H', 'U', 'E', 'V', 'L', 'U', 'V', 'R', 'F', 'H', 'A', 'K', 'F', 'E', 'Space', 'V', 'Q', 'O', 'S', 'O', 'X', 'K', 'Q', 'P', 'F', 'A', 'N', 'I', 'I', 'U', 'G', 'C', 'P', 'C', 'W', 'A', 'M', 'W', 'W', 'F', 'A', 'X', 'J', 'R', 'H', 'S', 'T', 'P', 'L', 'U', 'Y', 'W', 'K', 'W', 'B', 'C', 'F', 'B', 'Space', 'D', 'B', 'Space', 'J', 'X', 'T', 'N', 'Space', 'M', 'F', 'L', 'C', 'X', 'D', 'E', 'M', 'J', 'S', 'W', 'I', 'X', 'E', 'W', 'G', 'B', 'M', 'C', 'E', 'I', 'R', 'J', 'Q', 'I', 'B', 'N', 'E', 'F', 'T', 'R', 'J', 'B', 'C', 'E', 'O', 'H', 'A', 'V', 'Z', 'O', 'N', 'X', 'G', 'A', 'N', 'W', 'Y', 'P', 'I', 'B', 'O', 'B', 'H', 'P', 'L', 'T', 'Q', 'E', 'V', 'M', 'I', 'N', 'Q', 'I', 'H', 'N', 'E', 'U', 'T', 'P', 'G', 'Space', 'J', 'H', 'S', 'Y', 'V', 'P', 'A', 'C', 'G', 'C', 'O', 'V', 'N', 'O', 'U', 'U', 'A', 'Z', 'Y', 'D', 'R', 'W', 'F', 'Y', 'Q', 'I', 'F', 'T', 'E', 'Y', 'G', 'A', 'F', 'L', 'O', 'Z', 'J', 'V', 'W', 'S', 'P', 'R', 'W', 'B', 'Space', 'N', 'N', 'X', 'F', 'Z', 'Space', 'O', 'K', 'K', 'G', 'B', 'Y', 'M', 'X', 'R', 'V', 'Y', 'E', 'Z', 'N', 'A', 'X', 'M', 'Q', 'V', 'I', 'T', 'E', 'A', 'Q', 'O', 'E', 'U', 'F', 'J', 'V', 'S', 'S', 'J', 'O', 'P', 'K', 'A', 'X', 'G', 'P', 'N', 'M', 'Z', 'T', 'T', 'H', 'D', 'O', 'V', 'X', 'T', 'Q', 'D', 'S', 'Q', 'M', 'D', 'R', 'G', 'W', 'W', 'F', 'R', 'K', 'Space', 'L', 'P', 'L', 'V', 'J', 'N', 'G', 'B', 'U', 'Space', 'P', 'M', 'T', 'A', 'R', 'Y', 'B', 'A', 'Q', 'S', 'D', 'A', 'J', 'U', 'B', 'G', 'B', 'H', 'V', 'N', 'H', 'S', 'G', 'K', 'Space', 'R', 'M', 'K', 'Space', 'J', 'S', 'O', 'W', 'Q', 'Q', 'L', 'C', 'G', 'G', 'N', 'M', 'F', 'E', 'Q', 'R', 'G', 'P', 'F', 'V', 'E', 'B', 'D', 'A', 'E', 'Y', 'F', 'A', 'L', 'E', 'C', 'Z', 'I', 'P', 'F', 'G', 'C', 'R', 'Q', 'A', 'W', 'D', 'G', 'T', 'D', 'F', 'G', 'M', 'I', 'G', 'B', 'L', 'H', 'M', 'V', 'Space', 'B', 'V', 'I', 'C', 'Q', 'W', 'F', 'D', 'Z', 'R', 'E', 'X', 'O', 'F', 'U', 'T', 'D', 'J', 'P', 'I', 'R', 'J', 'D', 'G', 'L', 'Y', 'A', 'L', 'O', 'Z', 'A', 'B', 'Y', 'N', 'A', 'Space', 'C', 'E', 'C', 'C', 'A', 'X', 'E', 'K', 'D', 'X', 'P', 'K', 'B', 'F', 'N', 'K', 'X', 'N', 'U', 'U', 'D', 'A', 'R', 'J', 'V', 'X', 'Z', 'K', 'Z', 'L', 'C', 'X', 'C', 'G', 'R', 'A', 'H', 'I', 'B', 'G', 'C', 'S', 'D', 'J', 'K', 'J', 'W', 'U', 'V', 'T', 'P', 'C', 'C', 'I', 'C', 'N', 'B', 'W', 'Z', 'S', 'B', 'V', 'R', 'R', 'E', 'M', 'W', 'K', 'L', 'G', 'F', 'X', 'L', 'E', 'P', 'Y', 'Z', 'P', 'Y', 'C', 'I', 'G', 'G', 'L', 'Y', 'Z', 'B', 'E', 'D', 'Space', 'N', 'T', 'G', 'I', 'K', 'L', 'M', 'I', 'O', 'R', 'C', 'B', 'V', 'K', 'L', 'W', 'V', 'D', 'Y', 'H', 'Q', 'E', 'R', 'Space', 'B', 'D', 'H', 'J', 'Space', 'S', 'J', 'Z', 'Space', 'Z', 'K', 'V', 'V', 'O', 'T', 'U', 'E', 'H', 'S', 'T', 'N', 'W', 'Y', 'A', 'H', 'N', 'G', 'D', 'H', 'I', 'O', 'I', 'J', 'H', 'T', 'T', 'I', 'M', 'B', 'V', 'E', 'F', 'A', 'N', 'F', 'V', 'G', 'J', 'G', 'Space', 'R', 'B', 'D', 'Space', 'V', 'Y', 'C', 'R', 'L', 'A', 'I', 'D', 'O', 'R', 'H', 'P', 'E', 'Y', 'M', 'O', 'E', 'Y', 'Y', 'L', 'R', 'N', 'H', 'Space', 'M', 'F', 'X', 'V', 'A', 'S', 'S', 'W', 'P', 'P', 'T', 'U', 'G', 'Q', 'E', 'R', 'E', 'A', 'A', 'X', 'Space', 'W', 'Y', 'E', 'Z', 'N', 'H', 'D', 'W', 'G']\n",
        "# true = ['A', 'M', 'K', 'I', 'Space', 'M', 'K', 'L', 'O', 'M', 'A', 'S', 'P', 'D', 'D', 'O', 'Space', 'A', 'B', 'V', 'Space', 'N', 'B', 'E', 'A', 'S', 'C', 'U', 'K', 'Z', 'X', 'Z', 'G', 'Z', 'J', 'A', 'X', 'G', 'A', 'Q', 'C', 'D', 'M', 'A', 'R', 'A', 'I', 'W', 'E', 'I', 'A', 'M', 'A', 'T', 'K', 'E', 'O', 'O', 'E', 'D', 'K', 'F', 'C', 'F', 'Z', 'S', 'E', 'S', 'J', 'Q', 'I', 'U', 'X', 'H', 'R', 'H', 'C', 'T', 'R', 'P', 'Space', 'I', 'J', 'B', 'N', 'H', 'M', 'Y', 'Y', 'E', 'P', 'O', 'Space', 'Space', 'C', 'G', 'T', 'V', 'M', 'J', 'E', 'W', 'G', 'P', 'H', 'Space', 'L', 'B', 'G', 'Y', 'Space', 'O', 'D', 'P', 'J', 'K', 'T', 'J', 'U', 'I', 'A', 'M', 'V', 'T', 'L', 'Q', 'L', 'C', 'E', 'T', 'H', 'R', 'I', 'R', 'R', 'N', 'C', 'T', 'X', 'U', 'H', 'B', 'O', 'W', 'H', 'W', 'R', 'I', 'U', 'U', 'T', 'K', 'Q', 'J', 'M', 'F', 'X', 'R', 'Z', 'T', 'Q', 'R', 'Q', 'N', 'F', 'P', 'A', 'V', 'B', 'X', 'U', 'J', 'J', 'T', 'L', 'E', 'Space', 'C', 'S', 'D', 'T', 'S', 'U', 'M', 'O', 'T', 'R', 'E', 'P', 'J', 'Q', 'F', 'D', 'I', 'O', 'A', 'V', 'U', 'J', 'H', 'S', 'C', 'N', 'F', 'U', 'K', 'N', 'Space', 'H', 'E', 'W', 'L', 'F', 'Q', 'P', 'O', 'B', 'J', 'R', 'X', 'A', 'M', 'W', 'B', 'C', 'D', 'U', 'T', 'W', 'U', 'M', 'U', 'R', 'P', 'A', 'L', 'H', 'B', 'M', 'J', 'G', 'T', 'F', 'M', 'S', 'S', 'L', 'X', 'P', 'G', 'Y', 'Q', 'R', 'J', 'P', 'Q', 'F', 'K', 'R', 'G', 'N', 'A', 'L', 'B', 'J', 'P', 'W', 'L', 'V', 'M', 'X', 'Y', 'J', 'P', 'L', 'A', 'F', 'V', 'S', 'Y', 'Z', 'R', 'Z', 'A', 'G', 'U', 'O', 'K', 'P', 'C', 'I', 'R', 'Y', 'C', 'B', 'W', 'I', 'Y', 'R', 'B', 'P', 'Z', 'H', 'V', 'J', 'R', 'K', 'H', 'L', 'F', 'C', 'Q', 'G', 'V', 'Q', 'V', 'I', 'Q', 'F', 'N', 'Space', 'H', 'J', 'C', 'K', 'M', 'M', 'K', 'P', 'X', 'P', 'B', 'O', 'I', 'G', 'W', 'W', 'B', 'G', 'Z', 'U', 'Space', 'M', 'I', 'I', 'O', 'P', 'D', 'C', 'S', 'E', 'R', 'Y', 'Space', 'I', 'M', 'K', 'R', 'Y', 'W', 'F', 'N', 'Y', 'I', 'T', 'F', 'E', 'X', 'N', 'R', 'S', 'T', 'Z', 'R', 'X', 'T', 'P', 'B', 'E', 'K', 'K', 'M', 'S', 'F', 'H', 'X', 'W', 'M', 'N', 'H', 'A', 'E', 'P', 'J', 'Z', 'Space', 'W', 'B', 'Y', 'C', 'T', 'Z', 'A', 'X', 'S', 'M', 'E', 'Z', 'T', 'P', 'Space', 'Z', 'H', 'V', 'Z', 'L', 'Y', 'E', 'C', 'E', 'Z', 'X', 'E', 'O', 'R', 'N', 'R', 'A', 'F', 'Y', 'Y', 'A', 'E', 'W', 'S', 'B', 'S', 'X', 'F', 'Y', 'Z', 'T', 'C', 'U', 'R', 'K', 'T', 'E', 'H', 'O', 'U', 'V', 'O', 'Z', 'D', 'M', 'Q', 'W', 'P', 'Z', 'W', 'H', 'V', 'N', 'T', 'N', 'R', 'B', 'S', 'Space', 'Y', 'N', 'J', 'Space', 'G', 'E', 'O', 'K', 'A', 'I', 'R', 'S', 'H', 'A', 'Y', 'M', 'W', 'T', 'I', 'E', 'W', 'U', 'V', 'T', 'Q', 'V', 'P', 'P', 'A', 'H', 'S', 'W', 'U', 'S', 'T', 'O', 'O', 'B', 'F', 'T', 'K', 'J', 'Y', 'X', 'J', 'P', 'L', 'O', 'Q', 'F', 'P', 'U', 'G', 'X', 'Q', 'Y', 'Space', 'D', 'R', 'A', 'J', 'T', 'Z', 'Space', 'S', 'P', 'I', 'F', 'G', 'T', 'I', 'Q', 'Space', 'X', 'V', 'R', 'P', 'H', 'M', 'F', 'B', 'G', 'C', 'Q', 'Q', 'Z', 'Q', 'E', 'O', 'Z', 'P', 'Space', 'U', 'H', 'Y', 'Y', 'E', 'X', 'G', 'I', 'Z', 'U', 'M', 'Q', 'X', 'O', 'J', 'C', 'P', 'Y', 'O', 'G', 'Z', 'J', 'N', 'K', 'I', 'Y', 'I', 'C', 'K', 'Q', 'J', 'D', 'W', 'X', 'Y', 'F', 'U', 'S', 'U', 'F', 'K', 'Z', 'H', 'L', 'A', 'L', 'F', 'A', 'I', 'A', 'Z', 'L', 'B', 'L', 'F', 'R', 'A', 'B', 'Q', 'O', 'Space', 'W', 'P', 'D', 'G', 'D', 'U', 'L', 'I', 'E', 'N', 'S', 'A', 'D', 'O', 'X', 'A', 'W', 'Q', 'K', 'E', 'J', 'M', 'M', 'K', 'D', 'Space', 'Space', 'H', 'Y', 'C', 'E', 'Z', 'B', 'S', 'J', 'T', 'U', 'T', 'V', 'E', 'H', 'T', 'J', 'J', 'D', 'N', 'M', 'A', 'O', 'D', 'V', 'Space', 'J', 'M', 'D', 'J', 'P', 'H', 'T', 'U', 'X', 'Z', 'Y', 'Space', 'B', 'H', 'L', 'D', 'N', 'C', 'Q', 'I', 'Q', 'Space', 'C', 'V', 'F', 'U', 'I', 'T', 'X', 'D', 'A', 'V', 'O', 'S', 'N', 'I', 'Space', 'U', 'Q', 'Y', 'C', 'S', 'G', 'E', 'L', 'K', 'Y', 'S', 'P', 'A', 'N', 'S', 'Y', 'K', 'S', 'K', 'K', 'V', 'Y', 'H', 'I', 'J', 'M', 'C', 'T', 'C', 'B', 'X', 'L', 'K', 'H', 'U', 'W', 'D', 'T', 'W', 'E', 'W', 'H', 'J', 'E', 'K', 'X', 'V', 'U', 'C', 'T', 'S', 'N', 'Space', 'K', 'C', 'Space', 'A', 'E', 'B', 'D', 'Q', 'Z', 'X', 'C', 'F', 'Space', 'O', 'N', 'A', 'I', 'Z', 'K', 'K', 'V', 'Z', 'M', 'C', 'G', 'P', 'J', 'L', 'J', 'X', 'Z', 'M', 'G', 'L', 'M', 'O', 'D', 'Space', 'S', 'R', 'T', 'Space', 'X', 'R', 'N', 'X', 'F', 'B', 'D', 'I', 'L', 'X', 'X', 'D', 'H', 'A', 'D', 'C', 'H', 'U', 'E', 'V', 'L', 'U', 'V', 'R', 'F', 'U', 'A', 'K', 'F', 'E', 'Space', 'V', 'Q', 'O', 'S', 'O', 'X', 'K', 'Q', 'P', 'F', 'S', 'N', 'I', 'I', 'U', 'G', 'C', 'P', 'C', 'W', 'A', 'M', 'W', 'W', 'F', 'A', 'X', 'J', 'R', 'H', 'S', 'T', 'P', 'L', 'U', 'Y', 'W', 'K', 'W', 'B', 'C', 'F', 'B', 'Space', 'D', 'B', 'Space', 'J', 'X', 'T', 'N', 'Y', 'M', 'F', 'L', 'C', 'X', 'D', 'E', 'M', 'J', 'O', 'W', 'I', 'X', 'E', 'W', 'Z', 'B', 'M', 'C', 'E', 'I', 'R', 'J', 'Q', 'I', 'B', 'N', 'E', 'F', 'T', 'R', 'J', 'B', 'C', 'S', 'O', 'H', 'A', 'V', 'Z', 'O', 'N', 'X', 'G', 'A', 'N', 'W', 'Y', 'P', 'I', 'B', 'O', 'B', 'H', 'P', 'L', 'T', 'Q', 'E', 'V', 'M', 'I', 'N', 'Q', 'I', 'H', 'N', 'E', 'U', 'T', 'G', 'G', 'Space', 'J', 'H', 'S', 'Y', 'V', 'Q', 'A', 'C', 'X', 'C', 'O', 'V', 'N', 'O', 'U', 'U', 'A', 'Z', 'I', 'Z', 'R', 'W', 'F', 'Y', 'Q', 'I', 'F', 'T', 'E', 'Y', 'G', 'A', 'F', 'L', 'O', 'Z', 'J', 'V', 'W', 'S', 'P', 'R', 'W', 'B', 'Space', 'N', 'N', 'X', 'F', 'Z', 'Space', 'O', 'K', 'K', 'G', 'B', 'Y', 'M', 'X', 'R', 'V', 'Y', 'S', 'Z', 'N', 'A', 'X', 'M', 'Q', 'V', 'I', 'T', 'E', 'A', 'Q', 'O', 'E', 'U', 'F', 'J', 'V', 'S', 'S', 'J', 'O', 'P', 'K', 'A', 'X', 'G', 'P', 'N', 'M', 'Y', 'T', 'T', 'H', 'D', 'O', 'V', 'X', 'T', 'Q', 'D', 'S', 'Q', 'M', 'D', 'R', 'G', 'W', 'W', 'F', 'R', 'K', 'Space', 'L', 'P', 'L', 'V', 'J', 'N', 'P', 'B', 'U', 'Space', 'P', 'M', 'T', 'A', 'R', 'Y', 'B', 'A', 'Q', 'S', 'D', 'A', 'J', 'U', 'B', 'G', 'B', 'H', 'V', 'N', 'H', 'S', 'G', 'K', 'Space', 'R', 'M', 'K', 'Space', 'J', 'S', 'O', 'W', 'Q', 'Q', 'L', 'C', 'G', 'G', 'N', 'M', 'F', 'E', 'Q', 'R', 'G', 'P', 'F', 'V', 'E', 'B', 'D', 'A', 'S', 'Y', 'F', 'A', 'L', 'E', 'C', 'Z', 'I', 'Q', 'F', 'G', 'C', 'D', 'Q', 'A', 'W', 'D', 'G', 'T', 'D', 'F', 'G', 'M', 'I', 'G', 'B', 'L', 'H', 'M', 'U', 'Space', 'B', 'V', 'I', 'C', 'Q', 'W', 'F', 'D', 'Z', 'R', 'E', 'X', 'O', 'F', 'U', 'T', 'D', 'J', 'P', 'I', 'R', 'J', 'D', 'G', 'L', 'Y', 'A', 'L', 'O', 'Z', 'A', 'B', 'Y', 'N', 'D', 'Space', 'C', 'E', 'C', 'C', 'A', 'X', 'E', 'K', 'Z', 'X', 'P', 'K', 'B', 'F', 'N', 'K', 'X', 'N', 'U', 'U', 'D', 'A', 'R', 'J', 'V', 'X', 'Z', 'K', 'Z', 'L', 'C', 'X', 'C', 'G', 'R', 'A', 'H', 'I', 'B', 'G', 'C', 'S', 'D', 'J', 'K', 'J', 'W', 'U', 'V', 'T', 'P', 'C', 'C', 'I', 'C', 'N', 'B', 'W', 'Z', 'S', 'B', 'V', 'R', 'R', 'U', 'M', 'W', 'K', 'L', 'P', 'F', 'X', 'L', 'E', 'P', 'Y', 'Y', 'P', 'Y', 'C', 'I', 'G', 'G', 'L', 'Y', 'Z', 'B', 'E', 'D', 'Space', 'N', 'T', 'G', 'I', 'K', 'L', 'M', 'I', 'O', 'R', 'C', 'B', 'V', 'K', 'L', 'W', 'V', 'D', 'Y', 'H', 'Q', 'S', 'R', 'Space', 'B', 'Z', 'H', 'J', 'Space', 'S', 'J', 'Z', 'Space', 'Z', 'K', 'V', 'V', 'O', 'T', 'U', 'E', 'H', 'S', 'T', 'N', 'W', 'Y', 'F', 'H', 'N', 'G', 'D', 'H', 'I', 'O', 'I', 'J', 'H', 'T', 'T', 'I', 'M', 'B', 'V', 'A', 'F', 'A', 'N', 'F', 'V', 'G', 'J', 'G', 'Space', 'R', 'B', 'Z', 'Space', 'V', 'Y', 'C', 'R', 'L', 'A', 'I', 'D', 'O', 'R', 'U', 'P', 'E', 'Y', 'M', 'O', 'E', 'Y', 'Y', 'L', 'R', 'N', 'H', 'Space', 'M', 'F', 'X', 'V', 'A', 'E', 'S', 'W', 'P', 'P', 'T', 'R', 'G', 'Q', 'E', 'F', 'E', 'E', 'A', 'X', 'Space', 'W', 'Y', 'E', 'Z', 'N', 'H', 'D', 'W', 'G']\n",
        "\n",
        "print(\"Number of images predicted:\", len(pred))\n",
        "# Call the function to plot the confusion matrix\n",
        "plotConfusionMatrix(pred, true, classes)"
      ],
      "metadata": {
        "id": "D0a4JvA0n4Xy",
        "outputId": "094e66ae-70aa-42fa-a47f-178e4a59af3b",
        "colab": {
          "base_uri": "https://localhost:8080/",
          "height": 696
        }
      },
      "execution_count": 15,
      "outputs": [
        {
          "output_type": "stream",
          "name": "stdout",
          "text": [
            "Number of images predicted: 526\n",
            "{'A': 'A', 'B': 'B', 'C': 'C', 'D': 'D', 'E': 'E', 'F': 'F', 'G': 'G', 'H': 'H', 'I': 'I', 'J': 'J', 'K': 'K', 'L': 'L', 'M': 'M', 'N': 'N', 'O': 'O', 'P': 'P', 'Q': 'Q', 'R': 'R', 'S': 'S', 'Space': 'Space', 'T': 'T', 'U': 'U', 'V': 'V', 'W': 'W', 'X': 'X', 'Y': 'Y', 'Z': 'Z'}\n"
          ]
        },
        {
          "output_type": "display_data",
          "data": {
            "text/plain": [
              "<Figure size 1200x700 with 2 Axes>"
            ],
            "image/png": "[encoded data removed]"
          },
          "metadata": {}
        }
      ]
    }
  ],
  "metadata": {
    "kernelspec": {
      "name": "python3",
      "display_name": "Python 3"
    },
    "language_info": {
      "name": "python",
      "version": "3.7.10",
      "mimetype": "text/x-python",
      "codemirror_mode": {
        "name": "ipython",
        "version": 3
      },
      "pygments_lexer": "ipython3",
      "nbconvert_exporter": "python",
      "file_extension": ".py"
    },
    "colab": {
      "provenance": [],
      "gpuType": "T4",
      "include_colab_link": true
    },
    "accelerator": "GPU"
  },
  "nbformat": 4,
  "nbformat_minor": 0
}