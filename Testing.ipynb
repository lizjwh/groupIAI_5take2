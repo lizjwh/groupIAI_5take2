{
  "nbformat": 4,
  "nbformat_minor": 0,
  "metadata": {
    "colab": {
      "provenance": [],
      "authorship_tag": "ABX9TyNfptvY27rDJwBvghrjKVMc",
      "include_colab_link": true
    },
    "kernelspec": {
      "name": "python3",
      "display_name": "Python 3"
    },
    "language_info": {
      "name": "python"
    }
  },
  "cells": [
    {
      "cell_type": "markdown",
      "metadata": {
        "id": "view-in-github",
        "colab_type": "text"
      },
      "source": [
        "<a href=\"https://colab.research.google.com/github/lizjwh/groupIAI_5take2/blob/main/Testing.ipynb\" target=\"_parent\"><img src=\"https://colab.research.google.com/assets/colab-badge.svg\" alt=\"Open In Colab\"/></a>"
      ]
    },
    {
      "cell_type": "markdown",
      "source": [
        "# Test script\n",
        "This notebook will test the OGmodel on the full and restricted mobility datasets.\n"
      ],
      "metadata": {
        "id": "r4UelXQ2AGzB"
      }
    },
    {
      "cell_type": "markdown",
      "source": [
        "# Test the model on our restricted mobility dataset"
      ],
      "metadata": {
        "id": "osbyhlPfAd5C"
      }
    },
    {
      "cell_type": "code",
      "execution_count": null,
      "metadata": {
        "id": "E94VXYBt_8n_"
      },
      "outputs": [],
      "source": [
        "#First import the dataset from Emily's kaggle\n",
        "! export KAGGLE_USERNAME=\"emmet454\" && export KAGGLE_KEY=\"ee00fbc0728a71f5c5f712029e3ef004\" && kaggle datasets download --force --unzip emilyburt/intro-to-ai\n",
        "! ls"
      ]
    },
    {
      "cell_type": "code",
      "source": [
        "! pwd && ls\n",
        "print(\"\\nFolders(classess) in training folder: ...\")\n",
        "! cd \"Dataset\\Restricted mobility\" && ls"
      ],
      "metadata": {
        "id": "hxV1ijTkAo1o"
      },
      "execution_count": null,
      "outputs": []
    }
  ]
}