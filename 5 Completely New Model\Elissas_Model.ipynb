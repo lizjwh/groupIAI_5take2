{
  "nbformat": 4,
  "nbformat_minor": 0,
  "metadata": {
    "colab": {
      "provenance": [],
      "gpuType": "T4",
      "include_colab_link": true
    },
    "kernelspec": {
      "name": "python3",
      "display_name": "Python 3"
    },
    "language_info": {
      "name": "python"
    },
    "accelerator": "GPU"
  },
  "cells": [
    {
      "cell_type": "markdown",
      "metadata": {
        "id": "view-in-github",
        "colab_type": "text"
      },
      "source": [
        "<a href=\"https://colab.research.google.com/github/lizjwh/groupIAI_5take2/blob/main/5%20Completely%20New%20Model%5CElissas_Model.ipynb\" target=\"_parent\"><img src=\"https://colab.research.google.com/assets/colab-badge.svg\" alt=\"Open In Colab\"/></a>"
      ]
    },
    {
      "cell_type": "markdown",
      "source": [
        "# Convolutional neural networks for MNIST\n",
        "\n",
        "Below, I've coded up an utterly dreadful CNN for MNIST.  But its really, really bad (45% accuracy after 5 epochs).\n",
        "\n",
        "You should try to improve the model!  Here are some key suggestions:\n",
        "* Try a deeper network with more convolutional layers.\n",
        "* Try some padding.\n",
        "* Try some layers with `stride=2`.\n",
        "* Try some pooling layers.\n",
        "* Try changing the optimizer to Adam.\n",
        "* Try tuning the learning rate.\n",
        "* Try taking inspiration from the LeNet-5 architecture in the notes.\n",
        "\n",
        "Other points:\n",
        "* I'd advise keeping the final `nn.AdaptiveAvgPool2d(1)` layer.\n",
        "* If you have too deep a model, with too many layers (especially layers with `stride=2`, or pooling layers), then you might find the model failing.\n",
        "\n",
        "You might well want to check out the docs for:\n",
        "* [Conv2d](https://pytorch.org/docs/stable/generated/torch.nn.Conv2d.html)\n",
        "* [MaxPool2d](https://pytorch.org/docs/stable/generated/torch.nn.MaxPool2d.html#maxpool2d)\n",
        "* [AvgPool2d](https://pytorch.org/docs/stable/generated/torch.nn.AvgPool2d.html#avgpool2d)\n",
        "\n",
        "The notebook will be faster on GPU, but its still perfectly fine on CPU.  Remember, to switch to GPU, go to \"Runtime\" -> \"Change Runtime Type\"."
      ],
      "metadata": {
        "id": "Ujbbo2lOAiUy"
      }
    },
    {
      "cell_type": "code",
      "source": [
        "!pip install torchvision\n",
        "!pip install kaggle\n",
        "!pip install tqdm\n",
        "!pip install colorama\n",
        "!pip install split-folders"
      ],
      "metadata": {
        "id": "8GfvTZHZJg1Z",
        "outputId": "274b7f4b-1110-4b33-ef65-5208d578722c",
        "colab": {
          "base_uri": "https://localhost:8080/"
        }
      },
      "execution_count": null,
      "outputs": [
        {
          "output_type": "stream",
          "name": "stdout",
          "text": [
            "Requirement already satisfied: torchvision in /usr/local/lib/python3.10/dist-packages (0.16.0+cu121)\n",
            "Requirement already satisfied: numpy in /usr/local/lib/python3.10/dist-packages (from torchvision) (1.25.2)\n",
            "Requirement already satisfied: requests in /usr/local/lib/python3.10/dist-packages (from torchvision) (2.31.0)\n",
            "Requirement already satisfied: torch==2.1.0 in /usr/local/lib/python3.10/dist-packages (from torchvision) (2.1.0+cu121)\n",
            "Requirement already satisfied: pillow!=8.3.*,>=5.3.0 in /usr/local/lib/python3.10/dist-packages (from torchvision) (9.4.0)\n",
            "Requirement already satisfied: filelock in /usr/local/lib/python3.10/dist-packages (from torch==2.1.0->torchvision) (3.13.1)\n",
            "Requirement already satisfied: typing-extensions in /usr/local/lib/python3.10/dist-packages (from torch==2.1.0->torchvision) (4.10.0)\n",
            "Requirement already satisfied: sympy in /usr/local/lib/python3.10/dist-packages (from torch==2.1.0->torchvision) (1.12)\n",
            "Requirement already satisfied: networkx in /usr/local/lib/python3.10/dist-packages (from torch==2.1.0->torchvision) (3.2.1)\n",
            "Requirement already satisfied: jinja2 in /usr/local/lib/python3.10/dist-packages (from torch==2.1.0->torchvision) (3.1.3)\n",
            "Requirement already satisfied: fsspec in /usr/local/lib/python3.10/dist-packages (from torch==2.1.0->torchvision) (2023.6.0)\n",
            "Requirement already satisfied: triton==2.1.0 in /usr/local/lib/python3.10/dist-packages (from torch==2.1.0->torchvision) (2.1.0)\n",
            "Requirement already satisfied: charset-normalizer<4,>=2 in /usr/local/lib/python3.10/dist-packages (from requests->torchvision) (3.3.2)\n",
            "Requirement already satisfied: idna<4,>=2.5 in /usr/local/lib/python3.10/dist-packages (from requests->torchvision) (3.6)\n",
            "Requirement already satisfied: urllib3<3,>=1.21.1 in /usr/local/lib/python3.10/dist-packages (from requests->torchvision) (2.0.7)\n",
            "Requirement already satisfied: certifi>=2017.4.17 in /usr/local/lib/python3.10/dist-packages (from requests->torchvision) (2024.2.2)\n",
            "Requirement already satisfied: MarkupSafe>=2.0 in /usr/local/lib/python3.10/dist-packages (from jinja2->torch==2.1.0->torchvision) (2.1.5)\n",
            "Requirement already satisfied: mpmath>=0.19 in /usr/local/lib/python3.10/dist-packages (from sympy->torch==2.1.0->torchvision) (1.3.0)\n",
            "Requirement already satisfied: kaggle in /usr/local/lib/python3.10/dist-packages (1.5.16)\n",
            "Requirement already satisfied: six>=1.10 in /usr/local/lib/python3.10/dist-packages (from kaggle) (1.16.0)\n",
            "Requirement already satisfied: certifi in /usr/local/lib/python3.10/dist-packages (from kaggle) (2024.2.2)\n",
            "Requirement already satisfied: python-dateutil in /usr/local/lib/python3.10/dist-packages (from kaggle) (2.8.2)\n",
            "Requirement already satisfied: requests in /usr/local/lib/python3.10/dist-packages (from kaggle) (2.31.0)\n",
            "Requirement already satisfied: tqdm in /usr/local/lib/python3.10/dist-packages (from kaggle) (4.66.2)\n",
            "Requirement already satisfied: python-slugify in /usr/local/lib/python3.10/dist-packages (from kaggle) (8.0.4)\n",
            "Requirement already satisfied: urllib3 in /usr/local/lib/python3.10/dist-packages (from kaggle) (2.0.7)\n",
            "Requirement already satisfied: bleach in /usr/local/lib/python3.10/dist-packages (from kaggle) (6.1.0)\n",
            "Requirement already satisfied: webencodings in /usr/local/lib/python3.10/dist-packages (from bleach->kaggle) (0.5.1)\n",
            "Requirement already satisfied: text-unidecode>=1.3 in /usr/local/lib/python3.10/dist-packages (from python-slugify->kaggle) (1.3)\n",
            "Requirement already satisfied: charset-normalizer<4,>=2 in /usr/local/lib/python3.10/dist-packages (from requests->kaggle) (3.3.2)\n",
            "Requirement already satisfied: idna<4,>=2.5 in /usr/local/lib/python3.10/dist-packages (from requests->kaggle) (3.6)\n",
            "Requirement already satisfied: tqdm in /usr/local/lib/python3.10/dist-packages (4.66.2)\n",
            "Collecting colorama\n",
            "  Downloading colorama-0.4.6-py2.py3-none-any.whl (25 kB)\n",
            "Installing collected packages: colorama\n",
            "Successfully installed colorama-0.4.6\n",
            "Collecting split-folders\n",
            "  Downloading split_folders-0.5.1-py3-none-any.whl (8.4 kB)\n",
            "Installing collected packages: split-folders\n",
            "Successfully installed split-folders-0.5.1\n"
          ]
        }
      ]
    },
    {
      "cell_type": "code",
      "source": [
        "import torch\n",
        "import torchvision\n",
        "import torchvision.transforms as transforms\n",
        "torch.manual_seed(0)\n",
        "from torch import nn, optim, tensor\n",
        "from torchvision import transforms, models ,datasets\n",
        "from torch.utils.data import ConcatDataset\n",
        "import numpy as np\n",
        "import cv2\n",
        "import matplotlib.pyplot as plt\n",
        "import glob\n",
        "from mpl_toolkits.axes_grid1 import ImageGrid\n",
        "from sklearn.metrics import precision_recall_curve\n",
        "from sklearn.metrics import auc\n",
        "import os\n",
        "import splitfolders"
      ],
      "metadata": {
        "id": "Aj7HXnSiJOgz"
      },
      "execution_count": null,
      "outputs": []
    },
    {
      "cell_type": "code",
      "source": [
        "# Check whether we have a GPU.  Use it if we do.\n",
        "device = torch.device('cpu')"
      ],
      "metadata": {
        "id": "MoIpN4YVJSjV"
      },
      "execution_count": null,
      "outputs": []
    },
    {
      "cell_type": "code",
      "source": [
        "! export KAGGLE_USERNAME=\"emmet454\" && export KAGGLE_KEY=\"ee00fbc0728a71f5c5f712029e3ef004\" && kaggle datasets download --force --unzip emilyburt/intro-to-ai"
      ],
      "metadata": {
        "id": "MZWIWpuCJX2J",
        "outputId": "4a52fb67-a7cd-4ce7-b38b-7100fe8cc3d8",
        "colab": {
          "base_uri": "https://localhost:8080/"
        }
      },
      "execution_count": null,
      "outputs": [
        {
          "output_type": "stream",
          "name": "stdout",
          "text": [
            "Downloading intro-to-ai.zip to /content\n",
            "100% 4.07G/4.08G [00:53<00:00, 72.7MB/s]\n",
            "100% 4.08G/4.08G [00:53<00:00, 81.5MB/s]\n"
          ]
        }
      ]
    },
    {
      "cell_type": "code",
      "source": [
        "input_folder = 'Dataset/Full Mobility/Left hand'\n",
        "\n",
        "#split with a ratio (train, val, test)\n",
        "splitfolders.ratio(input_folder, output='Full Mobility/Left hand/',\n",
        "                  seed=42, ratio=(.8, .15, .05),\n",
        "                  group_prefix=None)\n",
        "\n",
        "input_folder = 'Dataset/Full Mobility/Right hand'\n",
        "\n",
        "#split with a ratio\n",
        "splitfolders.ratio(input_folder, output='Full Mobility/Right hand/',\n",
        "                  seed=42, ratio=(.8, .15, .05),\n",
        "                  group_prefix=None)\n",
        "\n",
        "input_folder = 'Dataset/Restricted mobility/Left hand'\n",
        "\n",
        "#split with a ratio\n",
        "splitfolders.ratio(input_folder, output='Restricted Mobility/Left hand/',\n",
        "                  seed=42, ratio=(.8, .15, .05),\n",
        "                  group_prefix=None)\n",
        "\n",
        "input_folder = 'Dataset/Restricted mobility/Right hand'\n",
        "\n",
        "#split with a ratio\n",
        "splitfolders.ratio(input_folder, output='Restricted Mobility/Right hand/',\n",
        "                  seed=42, ratio=(.8, .15, .05),\n",
        "                  group_prefix=None)"
      ],
      "metadata": {
        "id": "OyrOUZufJvMo",
        "outputId": "878a1200-e471-4871-a918-2376234c5830",
        "colab": {
          "base_uri": "https://localhost:8080/"
        }
      },
      "execution_count": null,
      "outputs": [
        {
          "output_type": "stream",
          "name": "stderr",
          "text": [
            "Copying files: 492 files [00:04, 112.22 files/s]\n",
            "Copying files: 502 files [00:05, 98.85 files/s]\n",
            "Copying files: 484 files [00:04, 112.06 files/s]\n",
            "Copying files: 495 files [00:04, 102.67 files/s]\n"
          ]
        }
      ]
    },
    {
      "cell_type": "code",
      "source": [
        "def create_dataset(root_dir):\n",
        "    \"\"\"\n",
        "    Creates an ImageFolder dataset from the specified root directory.\n",
        "    \"\"\"\n",
        "    data_transforms = transforms.Compose([transforms.Resize((224, 224)),\n",
        "                                          transforms.ToTensor(),\n",
        "                                          transforms.RandomRotation(30),\n",
        "                                          transforms.RandomHorizontalFlip(p=0.3),\n",
        "                                          transforms.Normalize([0.485, 0.456, 0.406],\n",
        "                                                               [0.229, 0.224, 0.225])])\n",
        "    dataset = datasets.ImageFolder(root_dir, transform=data_transforms)\n",
        "    return dataset\n",
        "\n",
        "def combine_datasets(root_folders):\n",
        "    \"\"\"\n",
        "    Combines datasets from multiple root folders into one dataset.\n",
        "    \"\"\"\n",
        "    datasets = [create_dataset(folder) for folder in root_folders]\n",
        "    combined_dataset = ConcatDataset(datasets)\n",
        "\n",
        "    # Extract class-to-index mappings from individual datasets and merge them\n",
        "    class_to_idx = {}\n",
        "    for dataset in datasets:\n",
        "        class_to_idx.update(dataset.class_to_idx)\n",
        "\n",
        "    return combined_dataset, class_to_idx\n",
        "\n",
        "\n",
        "def main():\n",
        "  #choose which folders to include in test here\n",
        "    root_folders = ['/content/Restricted Mobility/Left hand/train',\n",
        "                    '/content/Restricted Mobility/Right hand/train',\n",
        "                    '/content/Full Mobility/Left hand/train',\n",
        "                    '/content/Full Mobility/Right hand/train']\n",
        "\n",
        "    combined_dataset, combined_dataset.class_to_idx = combine_datasets(root_folders)\n",
        "\n",
        "    print(f\"Class to index mapping: {combined_dataset.class_to_idx}\")\n",
        "    return combined_dataset\n",
        "\n",
        "def main_val():\n",
        "  #choose which folders to include in test here\n",
        "    root_folders = ['/content/Restricted Mobility/Left hand/val',\n",
        "                    '/content/Restricted Mobility/Right hand/val',\n",
        "                    '/content/Full Mobility/Left hand/val',\n",
        "                    '/content/Full Mobility/Right hand/val']\n",
        "\n",
        "    combined_dataset, combined_dataset.class_to_idx = combine_datasets(root_folders)\n",
        "\n",
        "    print(f\"Class to index mapping: {combined_dataset.class_to_idx}\")\n",
        "    return combined_dataset\n",
        "\n",
        "def main_test():\n",
        "  #choose which folders to include in test here\n",
        "    root_folders = ['/content/Restricted Mobility/Left hand/test',\n",
        "                    '/content/Restricted Mobility/Right hand/test',\n",
        "                    '/content/Full Mobility/Left hand/test',\n",
        "                    '/content/Full Mobility/Right hand/test']\n",
        "\n",
        "    combined_dataset, combined_dataset.class_to_idx = combine_datasets(root_folders)\n",
        "\n",
        "    print(f\"Class to index mapping: {combined_dataset.class_to_idx}\")\n",
        "    return combined_dataset\n",
        "\n",
        "combined_train_dataset = main()\n",
        "combined_val_dataset = main_val()\n",
        "combined_test_dataset = main_test()"
      ],
      "metadata": {
        "id": "4yduMDQNJ3OB",
        "outputId": "3618a167-96d8-4bf0-bb8c-a794c24db902",
        "colab": {
          "base_uri": "https://localhost:8080/"
        }
      },
      "execution_count": null,
      "outputs": [
        {
          "output_type": "stream",
          "name": "stdout",
          "text": [
            "Class to index mapping: {'A': 0, 'B': 1, 'C': 2, 'D': 3, 'E': 4, 'F': 5, 'G': 6, 'H': 7, 'I': 8, 'J': 9, 'K': 10, 'L': 11, 'M': 12, 'N': 13, 'O': 14, 'P': 15, 'Q': 16, 'R': 17, 'S': 18, 'Space': 19, 'T': 20, 'U': 21, 'V': 22, 'W': 23, 'X': 24, 'Y': 25, 'Z': 26}\n",
            "Class to index mapping: {'A': 0, 'B': 1, 'C': 2, 'D': 3, 'E': 4, 'F': 5, 'G': 6, 'H': 7, 'I': 8, 'J': 9, 'K': 10, 'L': 11, 'M': 12, 'N': 13, 'O': 14, 'P': 15, 'Q': 16, 'R': 17, 'S': 18, 'Space': 19, 'T': 20, 'U': 21, 'V': 22, 'W': 23, 'X': 24, 'Y': 25, 'Z': 26}\n",
            "Class to index mapping: {'A': 0, 'B': 1, 'C': 2, 'D': 3, 'E': 4, 'F': 5, 'G': 6, 'H': 7, 'I': 8, 'J': 9, 'K': 10, 'L': 11, 'M': 12, 'N': 13, 'O': 14, 'P': 15, 'Q': 16, 'R': 17, 'S': 18, 'Space': 19, 'T': 20, 'U': 21, 'V': 22, 'W': 23, 'X': 24, 'Y': 25, 'Z': 26}\n"
          ]
        }
      ]
    },
    {
      "cell_type": "code",
      "execution_count": null,
      "metadata": {
        "colab": {
          "base_uri": "https://localhost:8080/"
        },
        "id": "_-CQK29k_EzX",
        "outputId": "c6d472fb-6b9a-41ff-8c8e-2faf5a4b6d7f"
      },
      "outputs": [
        {
          "output_type": "stream",
          "name": "stdout",
          "text": [
            "Test accuracy after 1 epochs: 3.8095238095238093 %\n",
            "Test accuracy after 2 epochs: 4.761904761904762 %\n",
            "Test accuracy after 3 epochs: 4.761904761904762 %\n",
            "Test accuracy after 4 epochs: 6.666666666666667 %\n"
          ]
        }
      ],
      "source": [
        "# MNIST train and test datasets.  I'm not going to talk about these in this course.\n",
        "# However, note that I'm using a much bigger batch size at test-time.  That's\n",
        "# because at training time, we have to backprop, so we have to save all the\n",
        "# intermediate variables, which takes alot of memory.  We don't have to do that\n",
        "# at test-time.\n",
        "train_loader = torch.utils.data.DataLoader(dataset=combined_train_dataset,\n",
        "                                           batch_size=10,\n",
        "                                           shuffle=True)\n",
        "\n",
        "test_loader = torch.utils.data.DataLoader(dataset=combined_test_dataset,\n",
        "                                          batch_size=10,\n",
        "                                          shuffle=False)\n",
        "\n",
        "############################################\n",
        "#### Tweak the network architecture !!! ####\n",
        "############################################\n",
        "input_size = 784\n",
        "hidden_size = 500\n",
        "num_classes =29\n",
        "\n",
        "model = nn.Sequential(\n",
        "    nn.Conv2d(in_channels=3, out_channels=100, kernel_size=3, padding=1),  #Output shape is [N, 100, H, W]\n",
        "    nn.ReLU(),                                                             #Output shape is [N, 100, H, W]\n",
        "    nn.Conv2d(in_channels=100, out_channels=29, kernel_size=3, padding=1), #Output shape is [N,  10, H, W]\n",
        "    nn.AdaptiveAvgPool2d(1)                                                #output shape is [N,  10, 1, 1]; does global average pooling\n",
        ").to(device)\n",
        "\n",
        "#################################\n",
        "#### Tweak the optimizer !!! ####\n",
        "#################################\n",
        "opt = torch.optim.SGD(model.parameters(), lr=0.1)\n",
        "\n",
        "def train():\n",
        "    # Does one training epoch (i.e. one pass over the data.)\n",
        "    for images, labels in train_loader:\n",
        "        # Move tensors to the configured device, and convert image to vector.\n",
        "        images = images.to(device)\n",
        "        labels = labels.to(device)\n",
        "\n",
        "        # Forward pass\n",
        "        logits = model(images).squeeze((-1, -2)) #output shape is [N, 10]\n",
        "\n",
        "        # Backpropagation and optimization\n",
        "        loss = nn.functional.cross_entropy(logits, labels)\n",
        "        loss.backward()\n",
        "        opt.step()\n",
        "        opt.zero_grad()\n",
        "\n",
        "def test(epoch):\n",
        "    # Do one pass over the test data.\n",
        "    # In the test phase, don't need to compute gradients (for memory efficiency)\n",
        "    with torch.no_grad():\n",
        "        correct = 0\n",
        "        total = 0\n",
        "        for images, labels in test_loader:\n",
        "            #Convert image pixels to vector\n",
        "            images = images.to(device)\n",
        "            labels = labels.to(device)\n",
        "\n",
        "            # Forward pass\n",
        "            logits = model(images).squeeze((-1, -2))\n",
        "\n",
        "            # Compute total correct so far\n",
        "            predicted = torch.argmax(logits, -1)\n",
        "            correct += (predicted == labels).sum().item()\n",
        "            total += labels.size(0)\n",
        "        print(f'Test accuracy after {epoch+1} epochs: {100 * correct / total} %')\n",
        "\n",
        "\n",
        "# Run training\n",
        "for epoch in range(5):\n",
        "    train()\n",
        "    test(epoch)\n",
        "\n",
        "\n"
      ]
    }
  ]
}