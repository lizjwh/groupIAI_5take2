{
  "cells": [
    {
      "attachments": {},
      "cell_type": "markdown",
      "metadata": {
        "colab_type": "text",
        "id": "view-in-github"
      },
      "source": [
        "<a href=\"https://colab.research.google.com/github/EMAT31530/group-project-group-5-2024/blob/main/Lizzy.ipynb\" target=\"_parent\"><img src=\"https://colab.research.google.com/assets/colab-badge.svg\" alt=\"Open In Colab\"/></a>"
      ]
    },
    {
      "cell_type": "code",
      "execution_count": 8,
      "metadata": {
        "id": "r40cA4ioSwlS"
      },
      "outputs": [
        {
          "ename": "ModuleNotFoundError",
          "evalue": "No module named 'cv2'",
          "output_type": "error",
          "traceback": [
            "\u001b[1;31m---------------------------------------------------------------------------\u001b[0m",
            "\u001b[1;31mModuleNotFoundError\u001b[0m                       Traceback (most recent call last)",
            "Cell \u001b[1;32mIn[8], line 5\u001b[0m\n\u001b[0;32m      1\u001b[0m \u001b[39m#Sign language interpreter tutorial\u001b[39;00m\n\u001b[0;32m      2\u001b[0m \u001b[39m# pip install opencv-python\u001b[39;00m\n\u001b[0;32m      3\u001b[0m \u001b[39m# pip install mediapipe\u001b[39;00m\n\u001b[1;32m----> 5\u001b[0m \u001b[39mimport\u001b[39;00m \u001b[39mcv2\u001b[39;00m \u001b[39m#opencv: backbone of a lot of computer vision models\u001b[39;00m\n\u001b[0;32m      6\u001b[0m \u001b[39mimport\u001b[39;00m \u001b[39mmediapipe\u001b[39;00m \u001b[39mas\u001b[39;00m \u001b[39mmp\u001b[39;00m \u001b[39m#pose, face and hand detection\u001b[39;00m\n\u001b[0;32m      7\u001b[0m mp_drawing \u001b[39m=\u001b[39m mp\u001b[39m.\u001b[39msolutions\u001b[39m.\u001b[39mdrawing_utils\n",
            "\u001b[1;31mModuleNotFoundError\u001b[0m: No module named 'cv2'"
          ]
        }
      ],
      "source": [
        "#Sign language interpreter tutorial\n",
        "# pip install opencv-python\n",
        "# pip install mediapipe\n",
        "\n",
        "import cv2 #opencv: backbone of a lot of computer vision models\n",
        "import mediapipe as mp #pose, face and hand detection\n",
        "mp_drawing = mp.solutions.drawing_utils\n",
        "mp_drawing_styles = mp.solutions.drawing_styles\n",
        "mp_holistic = mp.solutions.holistic\n",
        "\n",
        "#webcam input\n",
        "cap = cv2.VideoCapture(5)\n",
        "\n",
        "with mp_holistic.Holistic(min_detection_confidence=0.5, min_tracking_confidence=0.5) as holistic: #create a holistic object\n",
        "    while cap.isOpened():\n",
        "        success, image = cap.read() #success is True or False, image is \n",
        "\n",
        "        #Validation part of this while loop\n",
        "        if not success:\n",
        "            print(\"Ignoring empty camera frame.\")\n",
        "            continue\n",
        "\n",
        "        #Now for the main part of this while loop\n",
        "        image.flags.writeable = False\n",
        "        image = cv2.cvtColor(image, cv2.COLOR_BGR2RGB)\n",
        "        results = holistic.process(image)\n",
        "\n",
        "        #This is the prettyprint: draw landmark annotation on the image.\n",
        "        image.flags.writeable = True\n",
        "        image = cv2.cvtColor(image, cv2.COLOR_RGB2BGR)\n",
        "        mp_drawing.draw_landmarks(image, \n",
        "                                  results.face_landmarks, \n",
        "                                  mp_holistic.FACEMESH_CONTOURS, \n",
        "                                  landmark_drawing_spec=None, \n",
        "                                  connection_drawing_spec=mp_drawing_styles.get_default_face_mesh_contours_style())\n",
        "        \n"
      ]
    }
  ],
  "metadata": {
    "colab": {
      "authorship_tag": "ABX9TyNil3wux3XVytcI4zoIk3RH",
      "include_colab_link": true,
      "provenance": []
    },
    "kernelspec": {
      "display_name": "Python 3",
      "name": "python3"
    },
    "language_info": {
      "codemirror_mode": {
        "name": "ipython",
        "version": 3
      },
      "file_extension": ".py",
      "mimetype": "text/x-python",
      "name": "python",
      "nbconvert_exporter": "python",
      "pygments_lexer": "ipython3",
      "version": "3.10.9"
    }
  },
  "nbformat": 4,
  "nbformat_minor": 0
}
